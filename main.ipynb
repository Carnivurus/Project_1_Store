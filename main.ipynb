{
 "cells": [
  {
   "cell_type": "markdown",
   "metadata": {
    "id": "jrvwNQJi0P9l"
   },
   "source": [
    "An e-commerce company, *Store 1*, recently began collecting data about its customers. Store 1's ultimate goal is to `better understand customer behavior and make data-driven decisions to enhance their online experience.`\n",
    "\n",
    "As part of the analytics team, your first task is to evaluate the quality of a sample of collected data and prepare it for future analysis."
   ]
  },
  {
   "cell_type": "markdown",
   "metadata": {
    "id": "2utuFkVZ0P9p"
   },
   "source": [
    "Questionnaire\n",
    "\n",
    "Store 1 aims to ensure consistency in data collection. As part of this initiative, the quality of the data collected about users must be evaluated. You have been asked to review the collected data and propose changes. Below you will see data about a particular user; review the data and identify any possible issues."
   ]
  },
  {
   "cell_type": "code",
   "execution_count": 2,
   "metadata": {
    "id": "v4ldWAes0P9q"
   },
   "outputs": [],
   "source": [
    "user_id = '32415'    \n",
    "user_name = ' mike_reed '\n",
    "user_age = 32.0 \n",
    "fav_categories = ['ELECTRONICS', 'SPORT', 'BOOKS']"
   ]
  },
  {
   "cell_type": "markdown",
   "metadata": {
    "id": "dZRSLSQV0P9s"
   },
   "source": [
    "Write in the Markdown cell below the number of the options you have identified as problems. If you have identified several problems, separate them with commas. For example, if you think numbers 1 and 3 are correct, write 1, 3."
   ]
  },
  {
   "cell_type": "markdown",
   "metadata": {
    "id": "iCEVoi_A0P9s"
   },
   "source": [
    "**Write your answer and explain your reasoning:**\n",
    "\n",
    "R= All\n",
    "\n",
    "1. The data type for user_id should be changed from a string to an integer.\n",
    "    - **Affirmative, this value should be an integer, so it can be filtered in a search and used with comparison operators. It will be necessary to use the \"int()\" function.**\n",
    "\n",
    "2. The variable user_name contains a string with unnecessary spaces and an underscore between the first and last name.\n",
    "    - **We should always clean the data before working with it; in this case, we will remove the leading and trailing spaces with the .strip() method. As for the underscore, it would be necessary to check with Store1 as the system might have requested a nickname rather than a given name.**\n",
    "\n",
    "3. The data type of user_age is incorrect.\n",
    "    - **The argument is correct; age is an integer value, and the \"int()\" function should be used.**\n",
    "\n",
    "4. The list `fav_categories` contains uppercase strings. Instead, we should convert the values in the list to lowercase.\n",
    "    - **I don't consider it necessary or relevant as everything is standardized by being in uppercase.**\n"
   ]
  },
  {
   "cell_type": "markdown",
   "metadata": {
    "id": "qKAtWDqu0P9t"
   },
   "source": [
    "# Exercise 1\n",
    "Let's implement the changes we identified. First, we need to correct the issues with the user_name variable. As we saw, it has unnecessary spaces and an underscore as a separator between the first name and the last name; your goal is to remove the spaces and then replace the underscore with a space."
   ]
  },
  {
   "cell_type": "code",
   "execution_count": 4,
   "metadata": {
    "id": "442z87Uq0P9t"
   },
   "outputs": [
    {
     "name": "stdout",
     "output_type": "stream",
     "text": [
      "mike reed\n"
     ]
    }
   ],
   "source": [
    "user_name = ' mike_reed '\n",
    "user_name = user_name.strip()  # Remove leading and trailing spaces\n",
    "user_name = user_name.replace(\"_\", \" \")  # Replace underscore with space\n",
    "\n",
    "print(user_name)\n"
   ]
  },
  {
   "cell_type": "markdown",
   "metadata": {
    "id": "g4YyN4WK0P9t"
   },
   "source": [
    "# Exercise 2\n",
    "\n",
    "Next, we need to split the updated `user_name` into two substrings to obtain a list containing two values: the string for the first name and the string for the last name."
   ]
  },
  {
   "cell_type": "code",
   "execution_count": 5,
   "metadata": {
    "id": "Q1L1ARfY0P9u"
   },
   "outputs": [
    {
     "name": "stdout",
     "output_type": "stream",
     "text": [
      "['mike', 'reed']\n"
     ]
    }
   ],
   "source": [
    "user_name = 'mike reed'\n",
    "name_split = user_name.split(\" \")  # Split the string at the space\n",
    "\n",
    "print(name_split)"
   ]
  },
  {
   "cell_type": "markdown",
   "metadata": {
    "id": "-VWZkZtc0P9u"
   },
   "source": [
    "# Exercise 3\n",
    "\n",
    "Great! Now we need to work with the `user_age` variable. As mentioned, it has an incorrect data type. Let’s fix this problem by transforming the data type and displaying the final result."
   ]
  },
  {
   "cell_type": "code",
   "execution_count": 6,
   "metadata": {
    "id": "WPpidP470P9u"
   },
   "outputs": [
    {
     "name": "stdout",
     "output_type": "stream",
     "text": [
      "32\n"
     ]
    }
   ],
   "source": [
    "user_age = 32.0\n",
    "user_age = int(user_age)  # Convert the age from float to integer\n",
    "\n",
    "print(user_age)\n"
   ]
  },
  {
   "cell_type": "markdown",
   "metadata": {
    "id": "xdfgaKd60P9v"
   },
   "source": [
    "# Exercise 4\n",
    "\n",
    "As we know, data is not always perfect. We need to consider scenarios where the value of `user_age` cannot be converted to an integer. To prevent our system from crashing, we should take precautions in advance.\n",
    "\n",
    "Write code that attempts to convert the `user_age` variable to an integer and assigns the transformed value to `user_age_int`. If the attempt fails, display a message asking the user to provide their age as a numerical value with the message: `Please provide your age as a numerical value.`"
   ]
  },
  {
   "cell_type": "code",
   "execution_count": 11,
   "metadata": {
    "id": "duI5zn_O0P9v"
   },
   "outputs": [
    {
     "name": "stdout",
     "output_type": "stream",
     "text": [
      "Please provide your age as a numerical value.\n"
     ]
    }
   ],
   "source": [
    "user_age = 'thirty two'  # The variable storing age as a string\n",
    "\n",
    "try:\n",
    "    user_age_int = int(user_age)  # Attempt to convert to integer\n",
    "except ValueError:\n",
    "    print(\"Please provide your age as a numerical value.\")  # Handle the error if conversion fails\n",
    "else:\n",
    "    print(user_age_int)  # Print the integer value if conversion is successful\n"
   ]
  },
  {
   "cell_type": "markdown",
   "metadata": {
    "id": "Q04i6KQH0P9v"
   },
   "source": [
    "# Exercise 5\n",
    "\n",
    "Finally, consider that all favorite categories are stored in uppercase. To fill a new list called `fav_categories_low` with the same categories but in lowercase, iterate over the values in the `fav_categories` list, modify them, and add the new values to the `fav_categories_low` list. As always, display the final result."
   ]
  },
  {
   "cell_type": "code",
   "execution_count": 13,
   "metadata": {
    "id": "AtQg6ie10P9v"
   },
   "outputs": [
    {
     "name": "stdout",
     "output_type": "stream",
     "text": [
      "['electronics', 'sport', 'books']\n"
     ]
    }
   ],
   "source": [
    "fav_categories = ['ELECTRONICS', 'SPORT', 'BOOKS']\n",
    "fav_categories_low = []\n",
    "\n",
    "for category in fav_categories:\n",
    "    lower_category =category.lower() \n",
    "    fav_categories_low.append(lower_category)\n",
    "\n",
    "print(fav_categories_low)"
   ]
  },
  {
   "cell_type": "markdown",
   "metadata": {
    "id": "w8J0RSee0P9w"
   },
   "source": [
    "# Exercise 6\n",
    "\n",
    "We have obtained additional information about our users' spending habits, including the amount spent in each of their favorite categories. Management is interested in the following metrics:\n",
    "\n",
    "- Total amount spent by the user.\n",
    "- Minimum amount spent. \n",
    "- Maximum amount spent.\n",
    "\n",
    "Let's calculate these values and display them on the screen."
   ]
  },
  {
   "cell_type": "code",
   "execution_count": 15,
   "metadata": {
    "id": "BbhBAmcZ0P9w"
   },
   "outputs": [
    {
     "name": "stdout",
     "output_type": "stream",
     "text": [
      "1280\n",
      "894\n",
      "173\n"
     ]
    }
   ],
   "source": [
    "fav_categories_low = ['electronics', 'sports', 'books']\n",
    "spendings_per_category = [894, 213, 173]\n",
    "total_amount = sum(spendings_per_category)\n",
    "max_amount =   max(spendings_per_category)\n",
    "min_amount =   min(spendings_per_category)\n",
    "\n",
    "print(total_amount)\n",
    "print(max_amount)\n",
    "print(min_amount)"
   ]
  },
  {
   "cell_type": "markdown",
   "metadata": {
    "id": "hyPGzOt60P9w"
   },
   "source": [
    "# Exercise 7\n",
    "\n",
    "The company wants to offer discounts to its loyal customers. Customers who spend a total amount greater than $1500 are considered loyal and will receive a discount.\n",
    "\n",
    "Our goal is to create a `while` loop that checks the total amount spent and stops when it is reached. To simulate new purchases, the variable `new_purchase` generates a number between 30 and 80 in each iteration of the loop. This represents the amount of money spent on a new purchase and should be added to the total.\n",
    "\n",
    "Once the target amount is reached and the `while` loop ends, the final amount should be displayed."
   ]
  },
  {
   "cell_type": "code",
   "execution_count": 39,
   "metadata": {
    "id": "FmpTfK7C0P9x"
   },
   "outputs": [
    {
     "name": "stdout",
     "output_type": "stream",
     "text": [
      "1559\n"
     ]
    }
   ],
   "source": [
    "from random import randint\n",
    "\n",
    "total_amount_spent = 1280\n",
    "target_amount = 1500\n",
    "\n",
    "while total_amount_spent < target_amount:\n",
    "\tnew_purchase = randint(30, 80) # generates a random number between 30 and 80\n",
    "\ttotal_amount_spent += new_purchase \n",
    "\n",
    "print(total_amount_spent)"
   ]
  },
  {
   "cell_type": "markdown",
   "metadata": {
    "id": "e9j2dOo60P9x"
   },
   "source": [
    "# Exercise 8\n",
    "\n",
    "Now we have all the information about a customer in the format we want. The management of a company has asked us to propose a way to summarize all the information about a user. Your goal is to create a formatted string that uses information from the `user_id`, `user_name`, and `user_age` variables.\n",
    "\n",
    "This is the final string we want to create: `User 32415 is mike who is 32 years old.`"
   ]
  },
  {
   "cell_type": "code",
   "execution_count": 42,
   "metadata": {
    "id": "2dzhjYbm0P9x"
   },
   "outputs": [
    {
     "name": "stdout",
     "output_type": "stream",
     "text": [
      "User 32415 is Mike who is 32 years old.\n"
     ]
    }
   ],
   "source": [
    "user_id = '32415'\n",
    "user_name = ['mike', 'reed']\n",
    "user_age = 32\n",
    "capitalize_name = user_name[0].capitalize()\n",
    "\n",
    "user_info = f\"User {user_id} is {capitalize_name} who is {user_age} years old.\"  #Second option.\n",
    "\n",
    "print(user_info)"
   ]
  },
  {
   "cell_type": "markdown",
   "metadata": {
    "id": "hJ38hJYU0P9x"
   },
   "source": [
    "As you know, companies collect and store data in a particular way. Store 1 wants to store all the information about its customers in a table.\n",
    "\n",
    "| user_id | user_name | user_age | purchase_category | spending_per_category |\n",
    "| --- | --- | --- | --- | --- |\n",
    "| '32415' | 'mike', 'reed' | 32 | 'electronics', 'sport', 'books' | 894, 213, 173 |\n",
    "| '31980' | 'kate', 'morgan' | 24 | 'clothes', 'shoes' | 439, 390 |\n",
    "\n",
    "In technical terms, a table is simply a nested list containing a sublist for each user.\n",
    "\n",
    "Store 1 has created such a table for its users. It is stored in the variable `users`. Each sublist contains the user's ID, first and last name, age, favorite categories, and the amount spent in each category."
   ]
  },
  {
   "cell_type": "markdown",
   "metadata": {
    "id": "J7IXD3Zv0P9x"
   },
   "source": [
    "# Exercise 9\n",
    "\n",
    "To calculate the company's revenue, follow these steps:\n",
    "\n",
    "1. Use a `for` loop to iterate over the `users` list.\n",
    "2. Extract each user's spending list and sum the values.\n",
    "3. Update the revenue value with each user's total.\n",
    "\n",
    "This will give you the total revenue for the company, which you should display on the screen at the end."
   ]
  },
  {
   "cell_type": "code",
   "execution_count": 44,
   "metadata": {
    "id": "d8jeNWXQ0P9y"
   },
   "outputs": [
    {
     "name": "stdout",
     "output_type": "stream",
     "text": [
      "2109\n"
     ]
    }
   ],
   "source": [
    "users = [\n",
    "    # This is the start of the first sublist\n",
    "    ['32415', ['mike', 'reed'], 32, ['electronics', 'sport', 'books'],\n",
    "        [894, 213, 173]\n",
    "    ], # This is the end of the first sublist\n",
    "\n",
    "    # This is the start of the second sublist\n",
    "    ['31980', ['kate', 'morgan'], 24, ['clothes', 'shoes'],\n",
    "        [439, 390]\n",
    "    ] # This is the end of the second sublist\n",
    "]\n",
    "\n",
    "revenue = 0\n",
    "\n",
    "for user in users:\n",
    "    spendings_list = user[4]  # Extracts the spending list of each user\n",
    "    total_spendings = sum(spendings_list)  # Total spends by user\n",
    "    revenue += total_spendings  # Updates the revenue\n",
    "\n",
    "print(revenue)\n"
   ]
  },
  {
   "cell_type": "markdown",
   "metadata": {
    "id": "wR0om7Tk0P9y"
   },
   "source": [
    "# Exercise 10\n",
    "\n",
    "Iterate over the list of users we have provided and display the names of customers who are under 30 years old."
   ]
  },
  {
   "cell_type": "code",
   "execution_count": 45,
   "metadata": {
    "id": "KVdthJm70P9y"
   },
   "outputs": [
    {
     "name": "stdout",
     "output_type": "stream",
     "text": [
      "Kate\n",
      "Samantha\n",
      "Emily\n",
      "Jose\n",
      "James\n"
     ]
    }
   ],
   "source": [
    "users = [\n",
    "    ['32415', ['mike', 'reed'], 32, ['electronics', 'sport', 'books'],\n",
    "     [894, 213, 173]],\n",
    "    ['31980', ['kate', 'morgan'], 24, ['clothes', 'books'], [439,\n",
    "     390]],\n",
    "    ['32156', ['john', 'doe'], 37, ['electronics', 'home', 'food'],\n",
    "     [459, 120, 99]],\n",
    "    ['32761', ['samantha', 'smith'], 29, ['clothes', 'electronics',\n",
    "     'beauty'], [299, 679, 85]],\n",
    "    ['32984', ['david', 'white'], 41, ['books', 'home', 'sport'], [234,\n",
    "     329, 243]],\n",
    "    ['33001', ['emily', 'brown'], 26, ['beauty', 'home', 'food'], [213,\n",
    "     659, 79]],\n",
    "    ['33767', ['maria', 'garcia'], 33, ['clothes', 'food', 'beauty'],\n",
    "     [499, 189, 63]],\n",
    "    ['33912', ['jose', 'martinez'], 22, ['sport', 'electronics', 'home'\n",
    "     ], [259, 549, 109]],\n",
    "    ['34009', ['lisa', 'wilson'], 35, ['home', 'books', 'clothes'],\n",
    "     [329, 189, 329]],\n",
    "    ['34278', ['james', 'lee'], 28, ['beauty', 'clothes', 'electronics'\n",
    "     ], [189, 299, 579]],\n",
    "    ]\n",
    "\n",
    "for user in users:\n",
    "    if user[2]<30:\n",
    "        print(user[1][0].capitalize())\n",
    "\n"
   ]
  },
  {
   "cell_type": "markdown",
   "metadata": {
    "id": "LBHWQenm0P9y"
   },
   "source": [
    "# Exercise 11\n",
    "\n",
    "Let's combine tasks 9 and 10 and print the names of users who are under 30 years old and have a total spending greater than $1000."
   ]
  },
  {
   "cell_type": "code",
   "execution_count": 46,
   "metadata": {
    "id": "HaQNXS-V0P9z"
   },
   "outputs": [
    {
     "name": "stdout",
     "output_type": "stream",
     "text": [
      "Samantha\n",
      "James\n"
     ]
    }
   ],
   "source": [
    "users = [\n",
    "    ['32415', ['mike', 'reed'], 32, ['electronics', 'sport', 'books'],\n",
    "     [894, 213, 173]],\n",
    "    ['31980', ['kate', 'morgan'], 24, ['clothes', 'books'], [439,\n",
    "     390]],\n",
    "    ['32156', ['john', 'doe'], 37, ['electronics', 'home', 'food'],\n",
    "     [459, 120, 99]],\n",
    "    ['32761', ['samantha', 'smith'], 29, ['clothes', 'electronics',\n",
    "     'beauty'], [299, 679, 85]],\n",
    "    ['32984', ['david', 'white'], 41, ['books', 'home', 'sport'], [234,\n",
    "     329, 243]],\n",
    "    ['33001', ['emily', 'brown'], 26, ['beauty', 'home', 'food'], [213,\n",
    "     659, 79]],\n",
    "    ['33767', ['maria', 'garcia'], 33, ['clothes', 'food', 'beauty'],\n",
    "     [499, 189, 63]],\n",
    "    ['33912', ['jose', 'martinez'], 22, ['sport', 'electronics', 'home'\n",
    "     ], [259, 549, 109]],\n",
    "    ['34009', ['lisa', 'wilson'], 35, ['home', 'books', 'clothes'],\n",
    "     [329, 189, 329]],\n",
    "    ['34278', ['james', 'lee'], 28, ['beauty', 'clothes', 'electronics'\n",
    "     ], [189, 299, 579]],\n",
    "    ]\n",
    "\n",
    "\n",
    "for user in users:\n",
    "    if user[2]<30 and sum(user[4])>1000:\n",
    "        print(user[1][0].capitalize())\n",
    "    "
   ]
  },
  {
   "cell_type": "markdown",
   "metadata": {
    "id": "yRozkK0R0P90"
   },
   "source": [
    "# Exercise 12\n",
    "\n",
    "Now let's display the name and age of all users who have purchased clothing. Print the name and age in the same `print` statement."
   ]
  },
  {
   "cell_type": "code",
   "execution_count": 48,
   "metadata": {
    "id": "mSIyHq1f0P90"
   },
   "outputs": [
    {
     "name": "stdout",
     "output_type": "stream",
     "text": [
      "Kate 24\n",
      "Samantha 29\n",
      "Maria 33\n",
      "Lisa 35\n",
      "James 28\n"
     ]
    }
   ],
   "source": [
    "users = [\n",
    "    ['32415', ['mike', 'reed'], 32, ['electronics', 'sport', 'books'],\n",
    "     [894, 213, 173]],\n",
    "    ['31980', ['kate', 'morgan'], 24, ['clothes', 'books'], [439,\n",
    "     390]],\n",
    "    ['32156', ['john', 'doe'], 37, ['electronics', 'home', 'food'],\n",
    "     [459, 120, 99]],\n",
    "    ['32761', ['samantha', 'smith'], 29, ['clothes', 'electronics',\n",
    "     'beauty'], [299, 679, 85]],\n",
    "    ['32984', ['david', 'white'], 41, ['books', 'home', 'sport'], [234,\n",
    "     329, 243]],\n",
    "    ['33001', ['emily', 'brown'], 26, ['beauty', 'home', 'food'], [213,\n",
    "     659, 79]],\n",
    "    ['33767', ['maria', 'garcia'], 33, ['clothes', 'food', 'beauty'],\n",
    "     [499, 189, 63]],\n",
    "    ['33912', ['jose', 'martinez'], 22, ['sport', 'electronics', 'home'\n",
    "     ], [259, 549, 109]],\n",
    "    ['34009', ['lisa', 'wilson'], 35, ['home', 'books', 'clothes'],\n",
    "     [329, 189, 329]],\n",
    "    ['34278', ['james', 'lee'], 28, ['beauty', 'clothes', 'electronics'\n",
    "     ], [189, 299, 579]],\n",
    "    ]\n",
    "\n",
    "for user in users:\n",
    "    if \"clothes\" in user[3]:\n",
    "        user_name = user[1][0].capitalize()\n",
    "        user_age = user[2]\n",
    "        print(user_name, user_age)\n",
    "        \n",
    "\n",
    "\n"
   ]
  }
 ],
 "metadata": {
  "colab": {
   "provenance": []
  },
  "kernelspec": {
   "display_name": "Python 3 (ipykernel)",
   "language": "python",
   "name": "python3"
  },
  "language_info": {
   "codemirror_mode": {
    "name": "ipython",
    "version": 3
   },
   "file_extension": ".py",
   "mimetype": "text/x-python",
   "name": "python",
   "nbconvert_exporter": "python",
   "pygments_lexer": "ipython3",
   "version": "3.12.4"
  },
  "toc": {
   "base_numbering": 1,
   "nav_menu": {},
   "number_sections": true,
   "sideBar": true,
   "skip_h1_title": true,
   "title_cell": "Table of Contents",
   "title_sidebar": "Contents",
   "toc_cell": false,
   "toc_position": {},
   "toc_section_display": true,
   "toc_window_display": false
  }
 },
 "nbformat": 4,
 "nbformat_minor": 1
}
