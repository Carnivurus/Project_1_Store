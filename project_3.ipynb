{
 "cells": [
  {
   "cell_type": "markdown",
   "metadata": {
    "id": "3rYiDeEH0q0f"
   },
   "source": [
    "# ¿Cuál es la mejor tarifa?\n",
    "\n",
    "Trabajas como analista para el operador de telecomunicaciones Megaline. La empresa ofrece a sus clientes dos tarifas de prepago, Surf y Ultimate. El departamento comercial quiere saber cuál de las tarifas genera más ingresos para poder ajustar el presupuesto de publicidad.\n",
    "\n",
    "Vas a realizar un análisis preliminar de las tarifas basado en una selección de clientes relativamente pequeña. Tendrás los datos de 500 clientes de Megaline: quiénes son los clientes, de dónde son, qué tarifa usan, así como la cantidad de llamadas que hicieron y los mensajes de texto que enviaron en 2018. Tu trabajo es analizar el comportamiento de los clientes y determinar qué tarifa de prepago genera más ingresos."
   ]
  },
  {
   "cell_type": "markdown",
   "metadata": {},
   "source": [
    "En el siguiente documento podran observar un proceso para la manipulación de datos del proyecto, el objetivo principal es identificar la información clave que pueda ser relevante para la empresa Megaline, por lo que será necesario:\n",
    "\n",
    "- Cargar los datos\n",
    "- Procesarlos (Limpieza, corrección y formateo de datos)\n",
    "- Generar información relevante para la empresa.\n",
    "- Crear graficos que enriquezcan los datos.\n",
    "- Analizar los resultados obtenidos\n",
    "- Crear hipotesis"
   ]
  },
  {
   "cell_type": "markdown",
   "metadata": {
    "id": "MQi4IPy70q0y"
   },
   "source": [
    "## Inicialización"
   ]
  },
  {
   "cell_type": "code",
   "execution_count": 54,
   "metadata": {
    "id": "MtYIuBxu0q0z"
   },
   "outputs": [],
   "source": [
    "# Cargaremos todas las librerias necesarias para el proyecto\n",
    "\n",
    "import pandas as pd\n",
    "import scipy.stats as st\n",
    "import numpy as np\n",
    "import math \n",
    "import matplotlib.pyplot as plt\n",
    "import seaborn as sns \n",
    "import scipy.stats as st"
   ]
  },
  {
   "cell_type": "markdown",
   "metadata": {
    "id": "4ysWWC5i0q00"
   },
   "source": [
    "## Cargar datos"
   ]
  },
  {
   "cell_type": "code",
   "execution_count": 55,
   "metadata": {
    "id": "CCqPW7rS0q01"
   },
   "outputs": [],
   "source": [
    "# Carga los archivos de datos en diferentes DataFrames\n",
    "\n",
    "m_calls = pd.read_csv(\"D:\\\\Tripleten\\\\projects\\\\Project3\\\\megaline_calls.csv\") #datos sobre llamadas\n",
    "m_internet = pd.read_csv(\"D:\\\\Tripleten\\\\projects\\\\Project3\\\\megaline_internet.csv\") #datos sobre sesiones web\n",
    "m_messages = pd.read_csv(\"D:\\\\Tripleten\\\\projects\\\\Project3\\\\megaline_messages.csv\") #datos sobre sms\n",
    "m_plans = pd.read_csv(\"D:\\\\Tripleten\\\\projects\\\\Project3\\\\megaline_plans.csv\") #datos sobre tarifas\n",
    "m_users = pd.read_csv(\"D:\\\\Tripleten\\\\projects\\\\Project3\\\\megaline_users.csv\") #datos sobre usuarios"
   ]
  },
  {
   "cell_type": "markdown",
   "metadata": {
    "id": "69qqoJ3r0q01"
   },
   "source": [
    "## Preparar los datos"
   ]
  },
  {
   "cell_type": "markdown",
   "metadata": {},
   "source": [
    "Para cada una de las bases procederemos a realizar los pasos antes mencionados limpieza, corrección y formateo de datos"
   ]
  },
  {
   "cell_type": "markdown",
   "metadata": {
    "id": "1n2X6WXf0q04"
   },
   "source": [
    "## Tarifas"
   ]
  },
  {
   "cell_type": "code",
   "execution_count": 56,
   "metadata": {
    "id": "2NgjWFqx0q05"
   },
   "outputs": [
    {
     "name": "stdout",
     "output_type": "stream",
     "text": [
      "<class 'pandas.core.frame.DataFrame'>\n",
      "RangeIndex: 2 entries, 0 to 1\n",
      "Data columns (total 8 columns):\n",
      " #   Column                 Non-Null Count  Dtype  \n",
      "---  ------                 --------------  -----  \n",
      " 0   messages_included      2 non-null      int64  \n",
      " 1   mb_per_month_included  2 non-null      int64  \n",
      " 2   minutes_included       2 non-null      int64  \n",
      " 3   usd_monthly_pay        2 non-null      int64  \n",
      " 4   usd_per_gb             2 non-null      int64  \n",
      " 5   usd_per_message        2 non-null      float64\n",
      " 6   usd_per_minute         2 non-null      float64\n",
      " 7   plan_name              2 non-null      object \n",
      "dtypes: float64(2), int64(5), object(1)\n",
      "memory usage: 260.0+ bytes\n"
     ]
    }
   ],
   "source": [
    "m_plans.info()"
   ]
  },
  {
   "cell_type": "code",
   "execution_count": 57,
   "metadata": {
    "id": "1IN1L9uh0q05"
   },
   "outputs": [
    {
     "data": {
      "text/html": [
       "<div>\n",
       "<style scoped>\n",
       "    .dataframe tbody tr th:only-of-type {\n",
       "        vertical-align: middle;\n",
       "    }\n",
       "\n",
       "    .dataframe tbody tr th {\n",
       "        vertical-align: top;\n",
       "    }\n",
       "\n",
       "    .dataframe thead th {\n",
       "        text-align: right;\n",
       "    }\n",
       "</style>\n",
       "<table border=\"1\" class=\"dataframe\">\n",
       "  <thead>\n",
       "    <tr style=\"text-align: right;\">\n",
       "      <th></th>\n",
       "      <th>messages_included</th>\n",
       "      <th>mb_per_month_included</th>\n",
       "      <th>minutes_included</th>\n",
       "      <th>usd_monthly_pay</th>\n",
       "      <th>usd_per_gb</th>\n",
       "      <th>usd_per_message</th>\n",
       "      <th>usd_per_minute</th>\n",
       "      <th>plan_name</th>\n",
       "    </tr>\n",
       "  </thead>\n",
       "  <tbody>\n",
       "    <tr>\n",
       "      <th>0</th>\n",
       "      <td>50</td>\n",
       "      <td>15360</td>\n",
       "      <td>500</td>\n",
       "      <td>20</td>\n",
       "      <td>10</td>\n",
       "      <td>0.03</td>\n",
       "      <td>0.03</td>\n",
       "      <td>surf</td>\n",
       "    </tr>\n",
       "    <tr>\n",
       "      <th>1</th>\n",
       "      <td>1000</td>\n",
       "      <td>30720</td>\n",
       "      <td>3000</td>\n",
       "      <td>70</td>\n",
       "      <td>7</td>\n",
       "      <td>0.01</td>\n",
       "      <td>0.01</td>\n",
       "      <td>ultimate</td>\n",
       "    </tr>\n",
       "  </tbody>\n",
       "</table>\n",
       "</div>"
      ],
      "text/plain": [
       "   messages_included  mb_per_month_included  minutes_included  \\\n",
       "0                 50                  15360               500   \n",
       "1               1000                  30720              3000   \n",
       "\n",
       "   usd_monthly_pay  usd_per_gb  usd_per_message  usd_per_minute plan_name  \n",
       "0               20          10             0.03            0.03      surf  \n",
       "1               70           7             0.01            0.01  ultimate  "
      ]
     },
     "execution_count": 57,
     "metadata": {},
     "output_type": "execute_result"
    }
   ],
   "source": [
    "m_plans.head()"
   ]
  },
  {
   "cell_type": "markdown",
   "metadata": {
    "id": "dCZoUq4f0q06"
   },
   "source": [
    "La información es correcta, sin embargo se manipulará la columna **mb_per_month_included** para poder trabajarla en Gigas"
   ]
  },
  {
   "cell_type": "markdown",
   "metadata": {
    "id": "BX5FQh_I0q06"
   },
   "source": [
    "### Corregir los datos"
   ]
  },
  {
   "cell_type": "markdown",
   "metadata": {},
   "source": [
    "Se transforman los megas a GB para poder usar el comparativo como lo piden en el proyecto"
   ]
  },
  {
   "cell_type": "code",
   "execution_count": 58,
   "metadata": {},
   "outputs": [],
   "source": [
    "m_plans[\"mb_per_month_included\"] = m_plans[\"mb_per_month_included\"].astype(float)\n",
    "m_plans[\"mb_per_month_included\"] = m_plans[\"mb_per_month_included\"].apply(lambda x: math.floor(x/1024))"
   ]
  },
  {
   "cell_type": "code",
   "execution_count": 59,
   "metadata": {},
   "outputs": [
    {
     "data": {
      "text/html": [
       "<div>\n",
       "<style scoped>\n",
       "    .dataframe tbody tr th:only-of-type {\n",
       "        vertical-align: middle;\n",
       "    }\n",
       "\n",
       "    .dataframe tbody tr th {\n",
       "        vertical-align: top;\n",
       "    }\n",
       "\n",
       "    .dataframe thead th {\n",
       "        text-align: right;\n",
       "    }\n",
       "</style>\n",
       "<table border=\"1\" class=\"dataframe\">\n",
       "  <thead>\n",
       "    <tr style=\"text-align: right;\">\n",
       "      <th></th>\n",
       "      <th>messages_included</th>\n",
       "      <th>mb_per_month_included</th>\n",
       "      <th>minutes_included</th>\n",
       "      <th>usd_monthly_pay</th>\n",
       "      <th>usd_per_gb</th>\n",
       "      <th>usd_per_message</th>\n",
       "      <th>usd_per_minute</th>\n",
       "      <th>plan_name</th>\n",
       "    </tr>\n",
       "  </thead>\n",
       "  <tbody>\n",
       "    <tr>\n",
       "      <th>0</th>\n",
       "      <td>50</td>\n",
       "      <td>15</td>\n",
       "      <td>500</td>\n",
       "      <td>20</td>\n",
       "      <td>10</td>\n",
       "      <td>0.03</td>\n",
       "      <td>0.03</td>\n",
       "      <td>surf</td>\n",
       "    </tr>\n",
       "    <tr>\n",
       "      <th>1</th>\n",
       "      <td>1000</td>\n",
       "      <td>30</td>\n",
       "      <td>3000</td>\n",
       "      <td>70</td>\n",
       "      <td>7</td>\n",
       "      <td>0.01</td>\n",
       "      <td>0.01</td>\n",
       "      <td>ultimate</td>\n",
       "    </tr>\n",
       "  </tbody>\n",
       "</table>\n",
       "</div>"
      ],
      "text/plain": [
       "   messages_included  mb_per_month_included  minutes_included  \\\n",
       "0                 50                     15               500   \n",
       "1               1000                     30              3000   \n",
       "\n",
       "   usd_monthly_pay  usd_per_gb  usd_per_message  usd_per_minute plan_name  \n",
       "0               20          10             0.03            0.03      surf  \n",
       "1               70           7             0.01            0.01  ultimate  "
      ]
     },
     "execution_count": 59,
     "metadata": {},
     "output_type": "execute_result"
    }
   ],
   "source": [
    "m_plans[\"mb_per_month_included\"] = m_plans[\"mb_per_month_included\"].astype(int)\n",
    "m_plans"
   ]
  },
  {
   "cell_type": "markdown",
   "metadata": {
    "id": "ycwuARJp0q07"
   },
   "source": [
    "### Enriquecer los datos"
   ]
  },
  {
   "cell_type": "markdown",
   "metadata": {
    "id": "96NIh4CJ0q08"
   },
   "source": [
    "Podemos pasar el plan name a dtype=Category"
   ]
  },
  {
   "cell_type": "code",
   "execution_count": 60,
   "metadata": {},
   "outputs": [
    {
     "name": "stdout",
     "output_type": "stream",
     "text": [
      "<class 'pandas.core.frame.DataFrame'>\n",
      "RangeIndex: 2 entries, 0 to 1\n",
      "Data columns (total 8 columns):\n",
      " #   Column                 Non-Null Count  Dtype   \n",
      "---  ------                 --------------  -----   \n",
      " 0   messages_included      2 non-null      int64   \n",
      " 1   mb_per_month_included  2 non-null      int32   \n",
      " 2   minutes_included       2 non-null      int64   \n",
      " 3   usd_monthly_pay        2 non-null      int64   \n",
      " 4   usd_per_gb             2 non-null      int64   \n",
      " 5   usd_per_message        2 non-null      float64 \n",
      " 6   usd_per_minute         2 non-null      float64 \n",
      " 7   plan_name              2 non-null      category\n",
      "dtypes: category(1), float64(2), int32(1), int64(4)\n",
      "memory usage: 362.0 bytes\n"
     ]
    }
   ],
   "source": [
    "m_plans[\"plan_name\"]= m_plans[\"plan_name\"].astype(\"category\") \n",
    "m_plans.info()"
   ]
  },
  {
   "cell_type": "markdown",
   "metadata": {},
   "source": [
    "## Usuarios/as"
   ]
  },
  {
   "cell_type": "code",
   "execution_count": 61,
   "metadata": {},
   "outputs": [
    {
     "name": "stdout",
     "output_type": "stream",
     "text": [
      "<class 'pandas.core.frame.DataFrame'>\n",
      "RangeIndex: 500 entries, 0 to 499\n",
      "Data columns (total 8 columns):\n",
      " #   Column      Non-Null Count  Dtype \n",
      "---  ------      --------------  ----- \n",
      " 0   user_id     500 non-null    int64 \n",
      " 1   first_name  500 non-null    object\n",
      " 2   last_name   500 non-null    object\n",
      " 3   age         500 non-null    int64 \n",
      " 4   city        500 non-null    object\n",
      " 5   reg_date    500 non-null    object\n",
      " 6   plan        500 non-null    object\n",
      " 7   churn_date  34 non-null     object\n",
      "dtypes: int64(2), object(6)\n",
      "memory usage: 31.4+ KB\n"
     ]
    }
   ],
   "source": [
    "m_users.info()"
   ]
  },
  {
   "cell_type": "markdown",
   "metadata": {},
   "source": [
    "Identificamos que la base cuenta con 500 filas, en donde churn_date tiene valores nulos, de acuerdo con la documentación previa al proyecto, estos valores nulos hacen referencia a que los usuarios siguen activos, no puedo rellenar esos valores debido a que deberían de encontrarse en un formato de datetime."
   ]
  },
  {
   "cell_type": "code",
   "execution_count": 62,
   "metadata": {},
   "outputs": [
    {
     "data": {
      "text/html": [
       "<div>\n",
       "<style scoped>\n",
       "    .dataframe tbody tr th:only-of-type {\n",
       "        vertical-align: middle;\n",
       "    }\n",
       "\n",
       "    .dataframe tbody tr th {\n",
       "        vertical-align: top;\n",
       "    }\n",
       "\n",
       "    .dataframe thead th {\n",
       "        text-align: right;\n",
       "    }\n",
       "</style>\n",
       "<table border=\"1\" class=\"dataframe\">\n",
       "  <thead>\n",
       "    <tr style=\"text-align: right;\">\n",
       "      <th></th>\n",
       "      <th>user_id</th>\n",
       "      <th>first_name</th>\n",
       "      <th>last_name</th>\n",
       "      <th>age</th>\n",
       "      <th>city</th>\n",
       "      <th>reg_date</th>\n",
       "      <th>plan</th>\n",
       "      <th>churn_date</th>\n",
       "    </tr>\n",
       "  </thead>\n",
       "  <tbody>\n",
       "    <tr>\n",
       "      <th>327</th>\n",
       "      <td>1327</td>\n",
       "      <td>Natosha</td>\n",
       "      <td>Peck</td>\n",
       "      <td>20</td>\n",
       "      <td>New York-Newark-Jersey City, NY-NJ-PA MSA</td>\n",
       "      <td>2018-02-17</td>\n",
       "      <td>surf</td>\n",
       "      <td>NaN</td>\n",
       "    </tr>\n",
       "    <tr>\n",
       "      <th>286</th>\n",
       "      <td>1286</td>\n",
       "      <td>Casie</td>\n",
       "      <td>Castaneda</td>\n",
       "      <td>52</td>\n",
       "      <td>New Haven-Milford, CT MSA</td>\n",
       "      <td>2018-12-07</td>\n",
       "      <td>surf</td>\n",
       "      <td>NaN</td>\n",
       "    </tr>\n",
       "    <tr>\n",
       "      <th>14</th>\n",
       "      <td>1014</td>\n",
       "      <td>Edmundo</td>\n",
       "      <td>Simon</td>\n",
       "      <td>61</td>\n",
       "      <td>New York-Newark-Jersey City, NY-NJ-PA MSA</td>\n",
       "      <td>2018-11-25</td>\n",
       "      <td>surf</td>\n",
       "      <td>NaN</td>\n",
       "    </tr>\n",
       "    <tr>\n",
       "      <th>254</th>\n",
       "      <td>1254</td>\n",
       "      <td>Billy</td>\n",
       "      <td>Webb</td>\n",
       "      <td>49</td>\n",
       "      <td>Detroit-Warren-Dearborn, MI MSA</td>\n",
       "      <td>2018-08-03</td>\n",
       "      <td>surf</td>\n",
       "      <td>NaN</td>\n",
       "    </tr>\n",
       "    <tr>\n",
       "      <th>320</th>\n",
       "      <td>1320</td>\n",
       "      <td>Bert</td>\n",
       "      <td>Wells</td>\n",
       "      <td>23</td>\n",
       "      <td>Los Angeles-Long Beach-Anaheim, CA MSA</td>\n",
       "      <td>2018-02-23</td>\n",
       "      <td>surf</td>\n",
       "      <td>NaN</td>\n",
       "    </tr>\n",
       "  </tbody>\n",
       "</table>\n",
       "</div>"
      ],
      "text/plain": [
       "     user_id first_name  last_name  age  \\\n",
       "327     1327    Natosha       Peck   20   \n",
       "286     1286      Casie  Castaneda   52   \n",
       "14      1014    Edmundo      Simon   61   \n",
       "254     1254      Billy       Webb   49   \n",
       "320     1320       Bert      Wells   23   \n",
       "\n",
       "                                          city    reg_date  plan churn_date  \n",
       "327  New York-Newark-Jersey City, NY-NJ-PA MSA  2018-02-17  surf        NaN  \n",
       "286                  New Haven-Milford, CT MSA  2018-12-07  surf        NaN  \n",
       "14   New York-Newark-Jersey City, NY-NJ-PA MSA  2018-11-25  surf        NaN  \n",
       "254            Detroit-Warren-Dearborn, MI MSA  2018-08-03  surf        NaN  \n",
       "320     Los Angeles-Long Beach-Anaheim, CA MSA  2018-02-23  surf        NaN  "
      ]
     },
     "execution_count": 62,
     "metadata": {},
     "output_type": "execute_result"
    }
   ],
   "source": [
    "m_users.sample(5)"
   ]
  },
  {
   "cell_type": "markdown",
   "metadata": {},
   "source": [
    "La columna reg_date debe cambiarse a formato datetime, procederé a corroborar:\n",
    "\n",
    "- Los id's son únicos :  **Aprobado**\n",
    "- Valores minimos y maximos de las edades : **Aprobado (18 a 75)**\n",
    "- Agrupar por ciudades y visualizar posibles repeticiones por sintaxis: **Todo en orden**\n",
    "- Modificar el reg_date a datetime y verificar coherencia de fechas (maximo, mínimo): **Los datos corresponden al periodo de ene-dic 2018**\n",
    "- Verificar que solo existen dos planes (unique): **Comprobado**\n",
    "<!-- - Informarme si es mejor dejar la fecha como null y solo filtrar por diferentes de null: **Decidí crear otra columna donde los usuarios se divirán en las categorías \"Active\" y \"Inactive\"** |No es funcional -->"
   ]
  },
  {
   "cell_type": "markdown",
   "metadata": {},
   "source": [
    "## Corregir datos"
   ]
  },
  {
   "cell_type": "code",
   "execution_count": 63,
   "metadata": {},
   "outputs": [
    {
     "data": {
      "text/html": [
       "<div>\n",
       "<style scoped>\n",
       "    .dataframe tbody tr th:only-of-type {\n",
       "        vertical-align: middle;\n",
       "    }\n",
       "\n",
       "    .dataframe tbody tr th {\n",
       "        vertical-align: top;\n",
       "    }\n",
       "\n",
       "    .dataframe thead th {\n",
       "        text-align: right;\n",
       "    }\n",
       "</style>\n",
       "<table border=\"1\" class=\"dataframe\">\n",
       "  <thead>\n",
       "    <tr style=\"text-align: right;\">\n",
       "      <th></th>\n",
       "      <th>user_id</th>\n",
       "      <th>first_name</th>\n",
       "      <th>last_name</th>\n",
       "      <th>age</th>\n",
       "      <th>city</th>\n",
       "      <th>reg_date</th>\n",
       "      <th>plan</th>\n",
       "      <th>churn_date</th>\n",
       "    </tr>\n",
       "  </thead>\n",
       "  <tbody>\n",
       "    <tr>\n",
       "      <th>0</th>\n",
       "      <td>1000</td>\n",
       "      <td>Anamaria</td>\n",
       "      <td>Bauer</td>\n",
       "      <td>45</td>\n",
       "      <td>Atlanta-Sandy Springs-Roswell, GA MSA</td>\n",
       "      <td>2018-12-24</td>\n",
       "      <td>ultimate</td>\n",
       "      <td>NaT</td>\n",
       "    </tr>\n",
       "    <tr>\n",
       "      <th>1</th>\n",
       "      <td>1001</td>\n",
       "      <td>Mickey</td>\n",
       "      <td>Wilkerson</td>\n",
       "      <td>28</td>\n",
       "      <td>Seattle-Tacoma-Bellevue, WA MSA</td>\n",
       "      <td>2018-08-13</td>\n",
       "      <td>surf</td>\n",
       "      <td>NaT</td>\n",
       "    </tr>\n",
       "    <tr>\n",
       "      <th>2</th>\n",
       "      <td>1002</td>\n",
       "      <td>Carlee</td>\n",
       "      <td>Hoffman</td>\n",
       "      <td>36</td>\n",
       "      <td>Las Vegas-Henderson-Paradise, NV MSA</td>\n",
       "      <td>2018-10-21</td>\n",
       "      <td>surf</td>\n",
       "      <td>NaT</td>\n",
       "    </tr>\n",
       "    <tr>\n",
       "      <th>3</th>\n",
       "      <td>1003</td>\n",
       "      <td>Reynaldo</td>\n",
       "      <td>Jenkins</td>\n",
       "      <td>52</td>\n",
       "      <td>Tulsa, OK MSA</td>\n",
       "      <td>2018-01-28</td>\n",
       "      <td>surf</td>\n",
       "      <td>NaT</td>\n",
       "    </tr>\n",
       "    <tr>\n",
       "      <th>4</th>\n",
       "      <td>1004</td>\n",
       "      <td>Leonila</td>\n",
       "      <td>Thompson</td>\n",
       "      <td>40</td>\n",
       "      <td>Seattle-Tacoma-Bellevue, WA MSA</td>\n",
       "      <td>2018-05-23</td>\n",
       "      <td>surf</td>\n",
       "      <td>NaT</td>\n",
       "    </tr>\n",
       "    <tr>\n",
       "      <th>...</th>\n",
       "      <td>...</td>\n",
       "      <td>...</td>\n",
       "      <td>...</td>\n",
       "      <td>...</td>\n",
       "      <td>...</td>\n",
       "      <td>...</td>\n",
       "      <td>...</td>\n",
       "      <td>...</td>\n",
       "    </tr>\n",
       "    <tr>\n",
       "      <th>495</th>\n",
       "      <td>1495</td>\n",
       "      <td>Fidel</td>\n",
       "      <td>Sharpe</td>\n",
       "      <td>67</td>\n",
       "      <td>New York-Newark-Jersey City, NY-NJ-PA MSA</td>\n",
       "      <td>2018-09-04</td>\n",
       "      <td>surf</td>\n",
       "      <td>NaT</td>\n",
       "    </tr>\n",
       "    <tr>\n",
       "      <th>496</th>\n",
       "      <td>1496</td>\n",
       "      <td>Ariel</td>\n",
       "      <td>Shepherd</td>\n",
       "      <td>49</td>\n",
       "      <td>New Orleans-Metairie, LA MSA</td>\n",
       "      <td>2018-02-20</td>\n",
       "      <td>surf</td>\n",
       "      <td>NaT</td>\n",
       "    </tr>\n",
       "    <tr>\n",
       "      <th>497</th>\n",
       "      <td>1497</td>\n",
       "      <td>Donte</td>\n",
       "      <td>Barrera</td>\n",
       "      <td>49</td>\n",
       "      <td>Los Angeles-Long Beach-Anaheim, CA MSA</td>\n",
       "      <td>2018-12-10</td>\n",
       "      <td>ultimate</td>\n",
       "      <td>NaT</td>\n",
       "    </tr>\n",
       "    <tr>\n",
       "      <th>498</th>\n",
       "      <td>1498</td>\n",
       "      <td>Scot</td>\n",
       "      <td>Williamson</td>\n",
       "      <td>51</td>\n",
       "      <td>New York-Newark-Jersey City, NY-NJ-PA MSA</td>\n",
       "      <td>2018-02-04</td>\n",
       "      <td>surf</td>\n",
       "      <td>NaT</td>\n",
       "    </tr>\n",
       "    <tr>\n",
       "      <th>499</th>\n",
       "      <td>1499</td>\n",
       "      <td>Shena</td>\n",
       "      <td>Dickson</td>\n",
       "      <td>37</td>\n",
       "      <td>Orlando-Kissimmee-Sanford, FL MSA</td>\n",
       "      <td>2018-05-06</td>\n",
       "      <td>surf</td>\n",
       "      <td>NaT</td>\n",
       "    </tr>\n",
       "  </tbody>\n",
       "</table>\n",
       "<p>500 rows × 8 columns</p>\n",
       "</div>"
      ],
      "text/plain": [
       "     user_id first_name   last_name  age  \\\n",
       "0       1000   Anamaria       Bauer   45   \n",
       "1       1001     Mickey   Wilkerson   28   \n",
       "2       1002     Carlee     Hoffman   36   \n",
       "3       1003   Reynaldo     Jenkins   52   \n",
       "4       1004    Leonila    Thompson   40   \n",
       "..       ...        ...         ...  ...   \n",
       "495     1495      Fidel      Sharpe   67   \n",
       "496     1496      Ariel    Shepherd   49   \n",
       "497     1497      Donte     Barrera   49   \n",
       "498     1498       Scot  Williamson   51   \n",
       "499     1499      Shena     Dickson   37   \n",
       "\n",
       "                                          city   reg_date      plan churn_date  \n",
       "0        Atlanta-Sandy Springs-Roswell, GA MSA 2018-12-24  ultimate        NaT  \n",
       "1              Seattle-Tacoma-Bellevue, WA MSA 2018-08-13      surf        NaT  \n",
       "2         Las Vegas-Henderson-Paradise, NV MSA 2018-10-21      surf        NaT  \n",
       "3                                Tulsa, OK MSA 2018-01-28      surf        NaT  \n",
       "4              Seattle-Tacoma-Bellevue, WA MSA 2018-05-23      surf        NaT  \n",
       "..                                         ...        ...       ...        ...  \n",
       "495  New York-Newark-Jersey City, NY-NJ-PA MSA 2018-09-04      surf        NaT  \n",
       "496               New Orleans-Metairie, LA MSA 2018-02-20      surf        NaT  \n",
       "497     Los Angeles-Long Beach-Anaheim, CA MSA 2018-12-10  ultimate        NaT  \n",
       "498  New York-Newark-Jersey City, NY-NJ-PA MSA 2018-02-04      surf        NaT  \n",
       "499          Orlando-Kissimmee-Sanford, FL MSA 2018-05-06      surf        NaT  \n",
       "\n",
       "[500 rows x 8 columns]"
      ]
     },
     "execution_count": 63,
     "metadata": {},
     "output_type": "execute_result"
    }
   ],
   "source": [
    "m_users.duplicated().sum() #No hay duplicados generales (a total fila)\n",
    "m_users[\"user_id\"].nunique()  #Confirmamos que no hay errores de duplicidad\n",
    "m_users[\"age\"].min() #Valor minimo 18\n",
    "m_users[\"age\"].max() #Valor máximo 75\n",
    "\n",
    "#Agruparé para corroborar que las ciudades estan OK\n",
    "temp_df = m_users.groupby(\"city\")[\"user_id\"].count().reset_index().sort_values(by=\"city\")\n",
    "temp_df.head(60)\n",
    "temp_df.tail(60)\n",
    "\n",
    "#Modificamos el tipo de dato de reg_date\n",
    "m_users[\"reg_date\"]= pd.to_datetime(m_users[\"reg_date\"], format=\"%Y-%m-%d\")\n",
    "# m_users.info() #Cambio realizado correctamente\n",
    "m_users[\"reg_date\"].min() #2018-01-01\n",
    "m_users[\"reg_date\"].max() #2018-12-31\n",
    "m_users[\"plan\"].unique() #Solo 2 planes\n",
    "\n",
    "#Modificamos el tipo de dato de reg_date\n",
    "m_users[\"churn_date\"] = pd.to_datetime(m_users[\"churn_date\"], format= \"%Y-%m-%d\")\n",
    "\n",
    "m_users"
   ]
  },
  {
   "cell_type": "markdown",
   "metadata": {},
   "source": [
    "El siguiente bloque fue documentado ya que no represento funcionalidad a la hora de la realización de analisis. Se mantiene por un posible futuro uso."
   ]
  },
  {
   "cell_type": "code",
   "execution_count": 64,
   "metadata": {},
   "outputs": [],
   "source": [
    "# #Creo una funcion para apply\n",
    "# def rellenar(x):\n",
    "#  if pd.isnull(x):\n",
    "#     return \"Active\"\n",
    "#  else:\n",
    "#     return \"Inactive\"  \n",
    "# \n",
    "#Segunda forma de hacerlo (mediante lambda)\n",
    "# m_users[\"status\"] = m_users[\"churn_date\"].apply(lambda x: \"Active\" if pd.isnull(x) else \"Inactive\")\n",
    "# m_users.groupby(\"status\").count() #466 Active clients\n"
   ]
  },
  {
   "cell_type": "code",
   "execution_count": 65,
   "metadata": {},
   "outputs": [
    {
     "data": {
      "text/plain": [
       "466"
      ]
     },
     "execution_count": 65,
     "metadata": {},
     "output_type": "execute_result"
    }
   ],
   "source": [
    "m_users[\"churn_date\"].isnull().sum() #corroboro con la base original 466 null (usuarios que todavía no dejaban el serivicio)"
   ]
  },
  {
   "cell_type": "markdown",
   "metadata": {},
   "source": [
    "## Enriquecer los datos"
   ]
  },
  {
   "cell_type": "markdown",
   "metadata": {},
   "source": [
    "Cambiaremos plan pasará al tipo \"category\""
   ]
  },
  {
   "cell_type": "code",
   "execution_count": 66,
   "metadata": {},
   "outputs": [
    {
     "name": "stdout",
     "output_type": "stream",
     "text": [
      "<class 'pandas.core.frame.DataFrame'>\n",
      "RangeIndex: 500 entries, 0 to 499\n",
      "Data columns (total 8 columns):\n",
      " #   Column      Non-Null Count  Dtype         \n",
      "---  ------      --------------  -----         \n",
      " 0   user_id     500 non-null    int64         \n",
      " 1   first_name  500 non-null    object        \n",
      " 2   last_name   500 non-null    object        \n",
      " 3   age         500 non-null    int64         \n",
      " 4   city        500 non-null    object        \n",
      " 5   reg_date    500 non-null    datetime64[ns]\n",
      " 6   plan        500 non-null    category      \n",
      " 7   churn_date  34 non-null     datetime64[ns]\n",
      "dtypes: category(1), datetime64[ns](2), int64(2), object(3)\n",
      "memory usage: 28.1+ KB\n"
     ]
    }
   ],
   "source": [
    "m_users[\"plan\"]= m_users[\"plan\"].astype(\"category\")\n",
    "m_users.info()"
   ]
  },
  {
   "cell_type": "markdown",
   "metadata": {
    "id": "o7MeKCid0q08"
   },
   "source": [
    "## Llamadas"
   ]
  },
  {
   "cell_type": "code",
   "execution_count": 67,
   "metadata": {
    "id": "6dDlnoDm0q08"
   },
   "outputs": [
    {
     "name": "stdout",
     "output_type": "stream",
     "text": [
      "<class 'pandas.core.frame.DataFrame'>\n",
      "RangeIndex: 137735 entries, 0 to 137734\n",
      "Data columns (total 4 columns):\n",
      " #   Column     Non-Null Count   Dtype  \n",
      "---  ------     --------------   -----  \n",
      " 0   id         137735 non-null  object \n",
      " 1   user_id    137735 non-null  int64  \n",
      " 2   call_date  137735 non-null  object \n",
      " 3   duration   137735 non-null  float64\n",
      "dtypes: float64(1), int64(1), object(2)\n",
      "memory usage: 4.2+ MB\n"
     ]
    }
   ],
   "source": [
    "m_calls.info()"
   ]
  },
  {
   "cell_type": "code",
   "execution_count": 68,
   "metadata": {
    "id": "kuh1vlNB0q09"
   },
   "outputs": [
    {
     "data": {
      "text/html": [
       "<div>\n",
       "<style scoped>\n",
       "    .dataframe tbody tr th:only-of-type {\n",
       "        vertical-align: middle;\n",
       "    }\n",
       "\n",
       "    .dataframe tbody tr th {\n",
       "        vertical-align: top;\n",
       "    }\n",
       "\n",
       "    .dataframe thead th {\n",
       "        text-align: right;\n",
       "    }\n",
       "</style>\n",
       "<table border=\"1\" class=\"dataframe\">\n",
       "  <thead>\n",
       "    <tr style=\"text-align: right;\">\n",
       "      <th></th>\n",
       "      <th>id</th>\n",
       "      <th>user_id</th>\n",
       "      <th>call_date</th>\n",
       "      <th>duration</th>\n",
       "    </tr>\n",
       "  </thead>\n",
       "  <tbody>\n",
       "    <tr>\n",
       "      <th>43868</th>\n",
       "      <td>1159_464</td>\n",
       "      <td>1159</td>\n",
       "      <td>2018-09-19</td>\n",
       "      <td>13.99</td>\n",
       "    </tr>\n",
       "    <tr>\n",
       "      <th>35941</th>\n",
       "      <td>1136_70</td>\n",
       "      <td>1136</td>\n",
       "      <td>2018-12-12</td>\n",
       "      <td>6.30</td>\n",
       "    </tr>\n",
       "    <tr>\n",
       "      <th>83126</th>\n",
       "      <td>1301_40</td>\n",
       "      <td>1301</td>\n",
       "      <td>2018-12-29</td>\n",
       "      <td>5.82</td>\n",
       "    </tr>\n",
       "    <tr>\n",
       "      <th>65140</th>\n",
       "      <td>1236_430</td>\n",
       "      <td>1236</td>\n",
       "      <td>2018-04-18</td>\n",
       "      <td>0.00</td>\n",
       "    </tr>\n",
       "    <tr>\n",
       "      <th>67125</th>\n",
       "      <td>1240_983</td>\n",
       "      <td>1240</td>\n",
       "      <td>2018-11-30</td>\n",
       "      <td>4.65</td>\n",
       "    </tr>\n",
       "    <tr>\n",
       "      <th>117793</th>\n",
       "      <td>1412_77</td>\n",
       "      <td>1412</td>\n",
       "      <td>2018-10-16</td>\n",
       "      <td>3.14</td>\n",
       "    </tr>\n",
       "    <tr>\n",
       "      <th>108776</th>\n",
       "      <td>1384_98</td>\n",
       "      <td>1384</td>\n",
       "      <td>2018-08-04</td>\n",
       "      <td>0.00</td>\n",
       "    </tr>\n",
       "    <tr>\n",
       "      <th>61980</th>\n",
       "      <td>1223_142</td>\n",
       "      <td>1223</td>\n",
       "      <td>2018-07-15</td>\n",
       "      <td>0.00</td>\n",
       "    </tr>\n",
       "    <tr>\n",
       "      <th>125864</th>\n",
       "      <td>1445_279</td>\n",
       "      <td>1445</td>\n",
       "      <td>2018-05-06</td>\n",
       "      <td>0.00</td>\n",
       "    </tr>\n",
       "    <tr>\n",
       "      <th>78673</th>\n",
       "      <td>1281_389</td>\n",
       "      <td>1281</td>\n",
       "      <td>2018-09-15</td>\n",
       "      <td>16.10</td>\n",
       "    </tr>\n",
       "  </tbody>\n",
       "</table>\n",
       "</div>"
      ],
      "text/plain": [
       "              id  user_id   call_date  duration\n",
       "43868   1159_464     1159  2018-09-19     13.99\n",
       "35941    1136_70     1136  2018-12-12      6.30\n",
       "83126    1301_40     1301  2018-12-29      5.82\n",
       "65140   1236_430     1236  2018-04-18      0.00\n",
       "67125   1240_983     1240  2018-11-30      4.65\n",
       "117793   1412_77     1412  2018-10-16      3.14\n",
       "108776   1384_98     1384  2018-08-04      0.00\n",
       "61980   1223_142     1223  2018-07-15      0.00\n",
       "125864  1445_279     1445  2018-05-06      0.00\n",
       "78673   1281_389     1281  2018-09-15     16.10"
      ]
     },
     "execution_count": 68,
     "metadata": {},
     "output_type": "execute_result"
    }
   ],
   "source": [
    "m_calls.sample(10)"
   ]
  },
  {
   "cell_type": "markdown",
   "metadata": {
    "id": "DOAxYJSx0q09"
   },
   "source": [
    "Los datos parecen correctos, no hay valores nulos, y parece que la única modificación sería cambiar el tipo de dato de la serie call_date, sin embargo, procederé a: \n",
    "\n",
    "- Verificar que los id's de llamada sean únicos: **Confirmado**\n",
    "- Verificar si se repiten user_id: **Confirmado**, hay valores repedidos, pero son esperados\n",
    "- Pasar call_date a date_time: **Hecho**\n",
    "- Verificar la duracion minima y maxima de la llamada: **min= 0 y max= 37.6**\n",
    "- Redondear duration con ceiling() (Megaline redondea los segundos a minutos): **Hecho**"
   ]
  },
  {
   "cell_type": "markdown",
   "metadata": {
    "id": "S7hzxmbX0q0-"
   },
   "source": [
    "### Corregir los datos"
   ]
  },
  {
   "cell_type": "code",
   "execution_count": 69,
   "metadata": {
    "id": "S2r8xA4f0q0-"
   },
   "outputs": [
    {
     "name": "stdout",
     "output_type": "stream",
     "text": [
      "<class 'pandas.core.frame.DataFrame'>\n",
      "RangeIndex: 137735 entries, 0 to 137734\n",
      "Data columns (total 4 columns):\n",
      " #   Column     Non-Null Count   Dtype         \n",
      "---  ------     --------------   -----         \n",
      " 0   id         137735 non-null  object        \n",
      " 1   user_id    137735 non-null  int64         \n",
      " 2   call_date  137735 non-null  datetime64[ns]\n",
      " 3   duration   137735 non-null  float64       \n",
      "dtypes: datetime64[ns](1), float64(1), int64(1), object(1)\n",
      "memory usage: 4.2+ MB\n"
     ]
    },
    {
     "data": {
      "text/plain": [
       "37.6"
      ]
     },
     "execution_count": 69,
     "metadata": {},
     "output_type": "execute_result"
    }
   ],
   "source": [
    "m_calls[\"id\"].nunique() #Todos los valores son únicos.\n",
    "m_calls[\"user_id\"].nunique() #Hay valores repedidos, pero son esperados\n",
    "\n",
    "#Cambiamos call_date a tipo fecha\n",
    "m_calls[\"call_date\"]= pd.to_datetime(m_calls[\"call_date\"], format=\"%Y-%m-%d\")\n",
    "m_calls.info() \n",
    "\n",
    "m_calls[\"duration\"].min() #0\n",
    "m_calls[\"duration\"].max() #37.6"
   ]
  },
  {
   "cell_type": "markdown",
   "metadata": {
    "id": "KrMgTrlG0q0_"
   },
   "source": [
    "### Enriquecer los datos"
   ]
  },
  {
   "cell_type": "markdown",
   "metadata": {},
   "source": [
    "Se procede a redondear hacia arriba \"ceil()\" la duración de la llamada. (Megaline redondea los segundos a minutos)"
   ]
  },
  {
   "cell_type": "code",
   "execution_count": 70,
   "metadata": {},
   "outputs": [
    {
     "data": {
      "text/html": [
       "<div>\n",
       "<style scoped>\n",
       "    .dataframe tbody tr th:only-of-type {\n",
       "        vertical-align: middle;\n",
       "    }\n",
       "\n",
       "    .dataframe tbody tr th {\n",
       "        vertical-align: top;\n",
       "    }\n",
       "\n",
       "    .dataframe thead th {\n",
       "        text-align: right;\n",
       "    }\n",
       "</style>\n",
       "<table border=\"1\" class=\"dataframe\">\n",
       "  <thead>\n",
       "    <tr style=\"text-align: right;\">\n",
       "      <th></th>\n",
       "      <th>id</th>\n",
       "      <th>user_id</th>\n",
       "      <th>call_date</th>\n",
       "      <th>duration</th>\n",
       "    </tr>\n",
       "  </thead>\n",
       "  <tbody>\n",
       "    <tr>\n",
       "      <th>0</th>\n",
       "      <td>1000_93</td>\n",
       "      <td>1000</td>\n",
       "      <td>2018-12-27</td>\n",
       "      <td>9</td>\n",
       "    </tr>\n",
       "    <tr>\n",
       "      <th>1</th>\n",
       "      <td>1000_145</td>\n",
       "      <td>1000</td>\n",
       "      <td>2018-12-27</td>\n",
       "      <td>14</td>\n",
       "    </tr>\n",
       "    <tr>\n",
       "      <th>2</th>\n",
       "      <td>1000_247</td>\n",
       "      <td>1000</td>\n",
       "      <td>2018-12-27</td>\n",
       "      <td>15</td>\n",
       "    </tr>\n",
       "    <tr>\n",
       "      <th>3</th>\n",
       "      <td>1000_309</td>\n",
       "      <td>1000</td>\n",
       "      <td>2018-12-28</td>\n",
       "      <td>6</td>\n",
       "    </tr>\n",
       "    <tr>\n",
       "      <th>4</th>\n",
       "      <td>1000_380</td>\n",
       "      <td>1000</td>\n",
       "      <td>2018-12-30</td>\n",
       "      <td>5</td>\n",
       "    </tr>\n",
       "    <tr>\n",
       "      <th>...</th>\n",
       "      <td>...</td>\n",
       "      <td>...</td>\n",
       "      <td>...</td>\n",
       "      <td>...</td>\n",
       "    </tr>\n",
       "    <tr>\n",
       "      <th>137730</th>\n",
       "      <td>1499_199</td>\n",
       "      <td>1499</td>\n",
       "      <td>2018-11-21</td>\n",
       "      <td>9</td>\n",
       "    </tr>\n",
       "    <tr>\n",
       "      <th>137731</th>\n",
       "      <td>1499_200</td>\n",
       "      <td>1499</td>\n",
       "      <td>2018-10-20</td>\n",
       "      <td>11</td>\n",
       "    </tr>\n",
       "    <tr>\n",
       "      <th>137732</th>\n",
       "      <td>1499_201</td>\n",
       "      <td>1499</td>\n",
       "      <td>2018-09-21</td>\n",
       "      <td>9</td>\n",
       "    </tr>\n",
       "    <tr>\n",
       "      <th>137733</th>\n",
       "      <td>1499_202</td>\n",
       "      <td>1499</td>\n",
       "      <td>2018-10-10</td>\n",
       "      <td>1</td>\n",
       "    </tr>\n",
       "    <tr>\n",
       "      <th>137734</th>\n",
       "      <td>1499_203</td>\n",
       "      <td>1499</td>\n",
       "      <td>2018-12-29</td>\n",
       "      <td>14</td>\n",
       "    </tr>\n",
       "  </tbody>\n",
       "</table>\n",
       "<p>137735 rows × 4 columns</p>\n",
       "</div>"
      ],
      "text/plain": [
       "              id  user_id  call_date  duration\n",
       "0        1000_93     1000 2018-12-27         9\n",
       "1       1000_145     1000 2018-12-27        14\n",
       "2       1000_247     1000 2018-12-27        15\n",
       "3       1000_309     1000 2018-12-28         6\n",
       "4       1000_380     1000 2018-12-30         5\n",
       "...          ...      ...        ...       ...\n",
       "137730  1499_199     1499 2018-11-21         9\n",
       "137731  1499_200     1499 2018-10-20        11\n",
       "137732  1499_201     1499 2018-09-21         9\n",
       "137733  1499_202     1499 2018-10-10         1\n",
       "137734  1499_203     1499 2018-12-29        14\n",
       "\n",
       "[137735 rows x 4 columns]"
      ]
     },
     "execution_count": 70,
     "metadata": {},
     "output_type": "execute_result"
    }
   ],
   "source": [
    "# m_calls[\"duration\"] =m_calls[\"duration\"].apply(lambda x: math.ceil(x)) #¿Que diferencia hay entre las librerías?\n",
    "m_calls[\"duration\"] =m_calls[\"duration\"].apply(lambda x: int(np.ceil(x)))\n",
    "m_calls"
   ]
  },
  {
   "cell_type": "markdown",
   "metadata": {},
   "source": [
    "El siguiente bloque extra se creó para verificar la coherencia de un código más abajo, la entrega mensual de duración incrementa por mes, pero quería descartar que el tema fuera un error de acumulación de datos. (Se descarta error)"
   ]
  },
  {
   "cell_type": "code",
   "execution_count": 71,
   "metadata": {},
   "outputs": [],
   "source": [
    "# m_calls[\"month\"] = m_calls[\"call_date\"]\n",
    "# m_calls[\"month\"] = pd.to_datetime(m_calls[\"month\"]).dt.month\n",
    "# join = m_calls.merge(m_users,how=\"left\", on=\"user_id\")\n",
    "# join.groupby([\"plan\",'month'] , observed=False)[\"duration\"].sum().reset_index()"
   ]
  },
  {
   "cell_type": "markdown",
   "metadata": {},
   "source": [
    "Conclusion: Me resulta muy extraño que el comportamiento mensual de la duración de las llamadas se incremente con més, sin embargo parece que es lo esperado"
   ]
  },
  {
   "cell_type": "markdown",
   "metadata": {
    "id": "mOUZSi180q0_"
   },
   "source": [
    "## Mensajes"
   ]
  },
  {
   "cell_type": "code",
   "execution_count": 72,
   "metadata": {
    "id": "R-bYJpdV0q1A"
   },
   "outputs": [
    {
     "name": "stdout",
     "output_type": "stream",
     "text": [
      "<class 'pandas.core.frame.DataFrame'>\n",
      "RangeIndex: 76051 entries, 0 to 76050\n",
      "Data columns (total 3 columns):\n",
      " #   Column        Non-Null Count  Dtype \n",
      "---  ------        --------------  ----- \n",
      " 0   id            76051 non-null  object\n",
      " 1   user_id       76051 non-null  int64 \n",
      " 2   message_date  76051 non-null  object\n",
      "dtypes: int64(1), object(2)\n",
      "memory usage: 1.7+ MB\n"
     ]
    }
   ],
   "source": [
    "m_messages.info()"
   ]
  },
  {
   "cell_type": "code",
   "execution_count": 73,
   "metadata": {
    "id": "mCEl2iGE0q1A"
   },
   "outputs": [
    {
     "data": {
      "text/html": [
       "<div>\n",
       "<style scoped>\n",
       "    .dataframe tbody tr th:only-of-type {\n",
       "        vertical-align: middle;\n",
       "    }\n",
       "\n",
       "    .dataframe tbody tr th {\n",
       "        vertical-align: top;\n",
       "    }\n",
       "\n",
       "    .dataframe thead th {\n",
       "        text-align: right;\n",
       "    }\n",
       "</style>\n",
       "<table border=\"1\" class=\"dataframe\">\n",
       "  <thead>\n",
       "    <tr style=\"text-align: right;\">\n",
       "      <th></th>\n",
       "      <th>id</th>\n",
       "      <th>user_id</th>\n",
       "      <th>message_date</th>\n",
       "    </tr>\n",
       "  </thead>\n",
       "  <tbody>\n",
       "    <tr>\n",
       "      <th>52746</th>\n",
       "      <td>1336_782</td>\n",
       "      <td>1336</td>\n",
       "      <td>2018-08-10</td>\n",
       "    </tr>\n",
       "    <tr>\n",
       "      <th>24079</th>\n",
       "      <td>1144_585</td>\n",
       "      <td>1144</td>\n",
       "      <td>2018-12-03</td>\n",
       "    </tr>\n",
       "    <tr>\n",
       "      <th>71798</th>\n",
       "      <td>1467_130</td>\n",
       "      <td>1467</td>\n",
       "      <td>2018-10-23</td>\n",
       "    </tr>\n",
       "    <tr>\n",
       "      <th>68526</th>\n",
       "      <td>1444_9</td>\n",
       "      <td>1444</td>\n",
       "      <td>2018-09-21</td>\n",
       "    </tr>\n",
       "    <tr>\n",
       "      <th>52076</th>\n",
       "      <td>1336_10</td>\n",
       "      <td>1336</td>\n",
       "      <td>2018-10-02</td>\n",
       "    </tr>\n",
       "    <tr>\n",
       "      <th>44133</th>\n",
       "      <td>1293_945</td>\n",
       "      <td>1293</td>\n",
       "      <td>2018-12-23</td>\n",
       "    </tr>\n",
       "    <tr>\n",
       "      <th>4597</th>\n",
       "      <td>1043_1008</td>\n",
       "      <td>1043</td>\n",
       "      <td>2018-09-16</td>\n",
       "    </tr>\n",
       "    <tr>\n",
       "      <th>44137</th>\n",
       "      <td>1293_957</td>\n",
       "      <td>1293</td>\n",
       "      <td>2018-10-31</td>\n",
       "    </tr>\n",
       "    <tr>\n",
       "      <th>22719</th>\n",
       "      <td>1136_125</td>\n",
       "      <td>1136</td>\n",
       "      <td>2018-11-03</td>\n",
       "    </tr>\n",
       "    <tr>\n",
       "      <th>28089</th>\n",
       "      <td>1173_171</td>\n",
       "      <td>1173</td>\n",
       "      <td>2018-10-28</td>\n",
       "    </tr>\n",
       "  </tbody>\n",
       "</table>\n",
       "</div>"
      ],
      "text/plain": [
       "              id  user_id message_date\n",
       "52746   1336_782     1336   2018-08-10\n",
       "24079   1144_585     1144   2018-12-03\n",
       "71798   1467_130     1467   2018-10-23\n",
       "68526     1444_9     1444   2018-09-21\n",
       "52076    1336_10     1336   2018-10-02\n",
       "44133   1293_945     1293   2018-12-23\n",
       "4597   1043_1008     1043   2018-09-16\n",
       "44137   1293_957     1293   2018-10-31\n",
       "22719   1136_125     1136   2018-11-03\n",
       "28089   1173_171     1173   2018-10-28"
      ]
     },
     "execution_count": 73,
     "metadata": {},
     "output_type": "execute_result"
    }
   ],
   "source": [
    "m_messages.sample(10)"
   ]
  },
  {
   "cell_type": "markdown",
   "metadata": {
    "id": "04xDj7KH0q1A"
   },
   "source": [
    "No hay valores ausentes, sin embargo necesitaremos cambiar la serie message_date a tipo datetime"
   ]
  },
  {
   "cell_type": "markdown",
   "metadata": {
    "id": "Sprfak900q1B"
   },
   "source": [
    "### Corregir los datos"
   ]
  },
  {
   "cell_type": "code",
   "execution_count": 74,
   "metadata": {
    "id": "vsllvkoa0q1B"
   },
   "outputs": [
    {
     "name": "stdout",
     "output_type": "stream",
     "text": [
      "<class 'pandas.core.frame.DataFrame'>\n",
      "RangeIndex: 76051 entries, 0 to 76050\n",
      "Data columns (total 3 columns):\n",
      " #   Column        Non-Null Count  Dtype         \n",
      "---  ------        --------------  -----         \n",
      " 0   id            76051 non-null  object        \n",
      " 1   user_id       76051 non-null  int64         \n",
      " 2   message_date  76051 non-null  datetime64[ns]\n",
      "dtypes: datetime64[ns](1), int64(1), object(1)\n",
      "memory usage: 1.7+ MB\n"
     ]
    }
   ],
   "source": [
    "m_messages[\"message_date\"]= pd.to_datetime(m_messages[\"message_date\"], format= \"%Y-%m-%d\")\n",
    "m_messages.info()"
   ]
  },
  {
   "cell_type": "markdown",
   "metadata": {
    "id": "HvLid7iD0q1B"
   },
   "source": [
    "### Enriquecer los datos"
   ]
  },
  {
   "cell_type": "markdown",
   "metadata": {},
   "source": [
    "No hay valores para enriquecer los datos por ahora"
   ]
  },
  {
   "cell_type": "markdown",
   "metadata": {
    "id": "bStkaxn40q1C"
   },
   "source": [
    "## Internet"
   ]
  },
  {
   "cell_type": "code",
   "execution_count": 75,
   "metadata": {
    "id": "e-Uz5qyn0q1C"
   },
   "outputs": [
    {
     "name": "stdout",
     "output_type": "stream",
     "text": [
      "<class 'pandas.core.frame.DataFrame'>\n",
      "RangeIndex: 104825 entries, 0 to 104824\n",
      "Data columns (total 4 columns):\n",
      " #   Column        Non-Null Count   Dtype  \n",
      "---  ------        --------------   -----  \n",
      " 0   id            104825 non-null  object \n",
      " 1   user_id       104825 non-null  int64  \n",
      " 2   session_date  104825 non-null  object \n",
      " 3   mb_used       104825 non-null  float64\n",
      "dtypes: float64(1), int64(1), object(2)\n",
      "memory usage: 3.2+ MB\n"
     ]
    }
   ],
   "source": [
    "m_internet.info()"
   ]
  },
  {
   "cell_type": "code",
   "execution_count": 76,
   "metadata": {
    "id": "9r3x_XLw0q1C"
   },
   "outputs": [
    {
     "data": {
      "text/html": [
       "<div>\n",
       "<style scoped>\n",
       "    .dataframe tbody tr th:only-of-type {\n",
       "        vertical-align: middle;\n",
       "    }\n",
       "\n",
       "    .dataframe tbody tr th {\n",
       "        vertical-align: top;\n",
       "    }\n",
       "\n",
       "    .dataframe thead th {\n",
       "        text-align: right;\n",
       "    }\n",
       "</style>\n",
       "<table border=\"1\" class=\"dataframe\">\n",
       "  <thead>\n",
       "    <tr style=\"text-align: right;\">\n",
       "      <th></th>\n",
       "      <th>id</th>\n",
       "      <th>user_id</th>\n",
       "      <th>session_date</th>\n",
       "      <th>mb_used</th>\n",
       "    </tr>\n",
       "  </thead>\n",
       "  <tbody>\n",
       "    <tr>\n",
       "      <th>38909</th>\n",
       "      <td>1174_172</td>\n",
       "      <td>1174</td>\n",
       "      <td>2018-11-08</td>\n",
       "      <td>386.17</td>\n",
       "    </tr>\n",
       "    <tr>\n",
       "      <th>59285</th>\n",
       "      <td>1267_87</td>\n",
       "      <td>1267</td>\n",
       "      <td>2018-12-29</td>\n",
       "      <td>136.14</td>\n",
       "    </tr>\n",
       "    <tr>\n",
       "      <th>72601</th>\n",
       "      <td>1337_85</td>\n",
       "      <td>1337</td>\n",
       "      <td>2018-11-11</td>\n",
       "      <td>64.39</td>\n",
       "    </tr>\n",
       "    <tr>\n",
       "      <th>80757</th>\n",
       "      <td>1377_182</td>\n",
       "      <td>1377</td>\n",
       "      <td>2018-08-15</td>\n",
       "      <td>485.22</td>\n",
       "    </tr>\n",
       "    <tr>\n",
       "      <th>12331</th>\n",
       "      <td>1060_40</td>\n",
       "      <td>1060</td>\n",
       "      <td>2018-12-19</td>\n",
       "      <td>81.48</td>\n",
       "    </tr>\n",
       "    <tr>\n",
       "      <th>86572</th>\n",
       "      <td>1402_101</td>\n",
       "      <td>1402</td>\n",
       "      <td>2018-10-12</td>\n",
       "      <td>0.00</td>\n",
       "    </tr>\n",
       "    <tr>\n",
       "      <th>69938</th>\n",
       "      <td>1327_78</td>\n",
       "      <td>1327</td>\n",
       "      <td>2018-12-05</td>\n",
       "      <td>506.97</td>\n",
       "    </tr>\n",
       "    <tr>\n",
       "      <th>40592</th>\n",
       "      <td>1182_285</td>\n",
       "      <td>1182</td>\n",
       "      <td>2018-12-24</td>\n",
       "      <td>371.48</td>\n",
       "    </tr>\n",
       "    <tr>\n",
       "      <th>26062</th>\n",
       "      <td>1122_17</td>\n",
       "      <td>1122</td>\n",
       "      <td>2018-12-17</td>\n",
       "      <td>457.70</td>\n",
       "    </tr>\n",
       "    <tr>\n",
       "      <th>73632</th>\n",
       "      <td>1346_213</td>\n",
       "      <td>1346</td>\n",
       "      <td>2018-08-28</td>\n",
       "      <td>0.00</td>\n",
       "    </tr>\n",
       "  </tbody>\n",
       "</table>\n",
       "</div>"
      ],
      "text/plain": [
       "             id  user_id session_date  mb_used\n",
       "38909  1174_172     1174   2018-11-08   386.17\n",
       "59285   1267_87     1267   2018-12-29   136.14\n",
       "72601   1337_85     1337   2018-11-11    64.39\n",
       "80757  1377_182     1377   2018-08-15   485.22\n",
       "12331   1060_40     1060   2018-12-19    81.48\n",
       "86572  1402_101     1402   2018-10-12     0.00\n",
       "69938   1327_78     1327   2018-12-05   506.97\n",
       "40592  1182_285     1182   2018-12-24   371.48\n",
       "26062   1122_17     1122   2018-12-17   457.70\n",
       "73632  1346_213     1346   2018-08-28     0.00"
      ]
     },
     "execution_count": 76,
     "metadata": {},
     "output_type": "execute_result"
    }
   ],
   "source": [
    "m_internet.sample(10)"
   ]
  },
  {
   "cell_type": "markdown",
   "metadata": {
    "id": "EzOG5ik30q1D"
   },
   "source": [
    "Los datos estan en orden, pero la serie **session_date** no esta categorizada correctamente el tipo correcto, lo pasaremos a **datetime**"
   ]
  },
  {
   "cell_type": "markdown",
   "metadata": {
    "id": "yA0tkPFg0q1D"
   },
   "source": [
    "### Corregir los datos"
   ]
  },
  {
   "cell_type": "code",
   "execution_count": 77,
   "metadata": {
    "id": "zVeanzdd0q1E"
   },
   "outputs": [
    {
     "name": "stdout",
     "output_type": "stream",
     "text": [
      "<class 'pandas.core.frame.DataFrame'>\n",
      "RangeIndex: 104825 entries, 0 to 104824\n",
      "Data columns (total 4 columns):\n",
      " #   Column        Non-Null Count   Dtype         \n",
      "---  ------        --------------   -----         \n",
      " 0   id            104825 non-null  object        \n",
      " 1   user_id       104825 non-null  int64         \n",
      " 2   session_date  104825 non-null  datetime64[ns]\n",
      " 3   mb_used       104825 non-null  float64       \n",
      "dtypes: datetime64[ns](1), float64(1), int64(1), object(1)\n",
      "memory usage: 3.2+ MB\n"
     ]
    }
   ],
   "source": [
    "m_internet[\"session_date\"] = pd.to_datetime(m_internet[\"session_date\"], format=\"%Y-%m-%d\")\n",
    "m_internet.info()"
   ]
  },
  {
   "cell_type": "markdown",
   "metadata": {
    "id": "e8_mLF4a0q1E"
   },
   "source": [
    "### Enriquecer los datos"
   ]
  },
  {
   "cell_type": "markdown",
   "metadata": {
    "id": "xhNdn2tE0q1E"
   },
   "source": [
    "No hay factores por agregar ahora"
   ]
  },
  {
   "cell_type": "markdown",
   "metadata": {
    "id": "3UA2cqIW0q1E"
   },
   "source": [
    "## Estudiar las condiciones de las tarifas"
   ]
  },
  {
   "cell_type": "code",
   "execution_count": 78,
   "metadata": {
    "id": "i409op8p0q1F"
   },
   "outputs": [
    {
     "data": {
      "text/html": [
       "<div>\n",
       "<style scoped>\n",
       "    .dataframe tbody tr th:only-of-type {\n",
       "        vertical-align: middle;\n",
       "    }\n",
       "\n",
       "    .dataframe tbody tr th {\n",
       "        vertical-align: top;\n",
       "    }\n",
       "\n",
       "    .dataframe thead th {\n",
       "        text-align: right;\n",
       "    }\n",
       "</style>\n",
       "<table border=\"1\" class=\"dataframe\">\n",
       "  <thead>\n",
       "    <tr style=\"text-align: right;\">\n",
       "      <th></th>\n",
       "      <th>messages_included</th>\n",
       "      <th>mb_per_month_included</th>\n",
       "      <th>minutes_included</th>\n",
       "      <th>usd_monthly_pay</th>\n",
       "      <th>usd_per_gb</th>\n",
       "      <th>usd_per_message</th>\n",
       "      <th>usd_per_minute</th>\n",
       "      <th>plan_name</th>\n",
       "    </tr>\n",
       "  </thead>\n",
       "  <tbody>\n",
       "    <tr>\n",
       "      <th>0</th>\n",
       "      <td>50</td>\n",
       "      <td>15</td>\n",
       "      <td>500</td>\n",
       "      <td>20</td>\n",
       "      <td>10</td>\n",
       "      <td>0.03</td>\n",
       "      <td>0.03</td>\n",
       "      <td>surf</td>\n",
       "    </tr>\n",
       "    <tr>\n",
       "      <th>1</th>\n",
       "      <td>1000</td>\n",
       "      <td>30</td>\n",
       "      <td>3000</td>\n",
       "      <td>70</td>\n",
       "      <td>7</td>\n",
       "      <td>0.01</td>\n",
       "      <td>0.01</td>\n",
       "      <td>ultimate</td>\n",
       "    </tr>\n",
       "  </tbody>\n",
       "</table>\n",
       "</div>"
      ],
      "text/plain": [
       "   messages_included  mb_per_month_included  minutes_included  \\\n",
       "0                 50                     15               500   \n",
       "1               1000                     30              3000   \n",
       "\n",
       "   usd_monthly_pay  usd_per_gb  usd_per_message  usd_per_minute plan_name  \n",
       "0               20          10             0.03            0.03      surf  \n",
       "1               70           7             0.01            0.01  ultimate  "
      ]
     },
     "execution_count": 78,
     "metadata": {},
     "output_type": "execute_result"
    }
   ],
   "source": [
    "m_plans"
   ]
  },
  {
   "cell_type": "markdown",
   "metadata": {
    "id": "hMR1tP5d0q1F"
   },
   "source": [
    "## Agregar datos por usuario"
   ]
  },
  {
   "cell_type": "markdown",
   "metadata": {},
   "source": [
    "Procederemos a calcular el número de llamadas hechas por cada usuario al mes"
   ]
  },
  {
   "cell_type": "code",
   "execution_count": 79,
   "metadata": {
    "id": "A332cedB0q1G"
   },
   "outputs": [
    {
     "data": {
      "text/html": [
       "<div>\n",
       "<style scoped>\n",
       "    .dataframe tbody tr th:only-of-type {\n",
       "        vertical-align: middle;\n",
       "    }\n",
       "\n",
       "    .dataframe tbody tr th {\n",
       "        vertical-align: top;\n",
       "    }\n",
       "\n",
       "    .dataframe thead th {\n",
       "        text-align: right;\n",
       "    }\n",
       "</style>\n",
       "<table border=\"1\" class=\"dataframe\">\n",
       "  <thead>\n",
       "    <tr style=\"text-align: right;\">\n",
       "      <th></th>\n",
       "      <th>user_id</th>\n",
       "      <th>month</th>\n",
       "      <th>calls</th>\n",
       "    </tr>\n",
       "  </thead>\n",
       "  <tbody>\n",
       "    <tr>\n",
       "      <th>0</th>\n",
       "      <td>1000</td>\n",
       "      <td>12</td>\n",
       "      <td>16</td>\n",
       "    </tr>\n",
       "    <tr>\n",
       "      <th>1</th>\n",
       "      <td>1001</td>\n",
       "      <td>8</td>\n",
       "      <td>27</td>\n",
       "    </tr>\n",
       "    <tr>\n",
       "      <th>2</th>\n",
       "      <td>1001</td>\n",
       "      <td>9</td>\n",
       "      <td>49</td>\n",
       "    </tr>\n",
       "    <tr>\n",
       "      <th>3</th>\n",
       "      <td>1001</td>\n",
       "      <td>10</td>\n",
       "      <td>65</td>\n",
       "    </tr>\n",
       "    <tr>\n",
       "      <th>4</th>\n",
       "      <td>1001</td>\n",
       "      <td>11</td>\n",
       "      <td>64</td>\n",
       "    </tr>\n",
       "    <tr>\n",
       "      <th>5</th>\n",
       "      <td>1001</td>\n",
       "      <td>12</td>\n",
       "      <td>56</td>\n",
       "    </tr>\n",
       "    <tr>\n",
       "      <th>6</th>\n",
       "      <td>1002</td>\n",
       "      <td>10</td>\n",
       "      <td>11</td>\n",
       "    </tr>\n",
       "    <tr>\n",
       "      <th>7</th>\n",
       "      <td>1002</td>\n",
       "      <td>11</td>\n",
       "      <td>55</td>\n",
       "    </tr>\n",
       "    <tr>\n",
       "      <th>8</th>\n",
       "      <td>1002</td>\n",
       "      <td>12</td>\n",
       "      <td>47</td>\n",
       "    </tr>\n",
       "    <tr>\n",
       "      <th>9</th>\n",
       "      <td>1003</td>\n",
       "      <td>12</td>\n",
       "      <td>149</td>\n",
       "    </tr>\n",
       "  </tbody>\n",
       "</table>\n",
       "</div>"
      ],
      "text/plain": [
       "   user_id  month  calls\n",
       "0     1000     12     16\n",
       "1     1001      8     27\n",
       "2     1001      9     49\n",
       "3     1001     10     65\n",
       "4     1001     11     64\n",
       "5     1001     12     56\n",
       "6     1002     10     11\n",
       "7     1002     11     55\n",
       "8     1002     12     47\n",
       "9     1003     12    149"
      ]
     },
     "execution_count": 79,
     "metadata": {},
     "output_type": "execute_result"
    }
   ],
   "source": [
    "# Calcula el número de llamadas hechas por cada usuario al mes. Guarda el resultado.\n",
    "m_calls[\"month\"] = m_calls[\"call_date\"].dt.month\n",
    "calls_per_user = m_calls.groupby([\"user_id\",\"month\"])[\"id\"].count().reset_index() #Dato extra: 481 usuarios con 137735 llamadas totales totales, \n",
    "calls_per_user.rename(columns={\"id\":\"calls\"},inplace=True)\n",
    "calls_per_user.head(10)\n",
    "\n",
    "# m_calls[m_calls[\"user_id\"]==1000] #Confirmado, comprobamos con uno de los valores / user id= 1000 tiene 16 llamadas\n",
    "# m_calls[m_calls[\"duration\"]==0] #Tenemos 26,834 llamadas que tuvieron una duración de 0 segundos. ¿Deberíamos contarlas como llamadas? (Se consideraron para el analisis)\n",
    "# m_calls[~(m_calls[\"duration\"]==0)][\"duration\"].min() #Según las instrucciones las llamadas de 0.1 segundos deberían ser tomadas como 1 minuto. (Solo informativo)."
   ]
  },
  {
   "cell_type": "markdown",
   "metadata": {},
   "source": [
    "Se calcula en el siguiente bloque la cantidad de minutos usados por cada usuario al mes."
   ]
  },
  {
   "cell_type": "code",
   "execution_count": 80,
   "metadata": {
    "id": "aw2cmuql0q1G"
   },
   "outputs": [
    {
     "data": {
      "text/html": [
       "<div>\n",
       "<style scoped>\n",
       "    .dataframe tbody tr th:only-of-type {\n",
       "        vertical-align: middle;\n",
       "    }\n",
       "\n",
       "    .dataframe tbody tr th {\n",
       "        vertical-align: top;\n",
       "    }\n",
       "\n",
       "    .dataframe thead th {\n",
       "        text-align: right;\n",
       "    }\n",
       "</style>\n",
       "<table border=\"1\" class=\"dataframe\">\n",
       "  <thead>\n",
       "    <tr style=\"text-align: right;\">\n",
       "      <th></th>\n",
       "      <th>user_id</th>\n",
       "      <th>month</th>\n",
       "      <th>duration</th>\n",
       "    </tr>\n",
       "  </thead>\n",
       "  <tbody>\n",
       "    <tr>\n",
       "      <th>0</th>\n",
       "      <td>1000</td>\n",
       "      <td>12</td>\n",
       "      <td>124</td>\n",
       "    </tr>\n",
       "    <tr>\n",
       "      <th>1</th>\n",
       "      <td>1001</td>\n",
       "      <td>8</td>\n",
       "      <td>182</td>\n",
       "    </tr>\n",
       "    <tr>\n",
       "      <th>2</th>\n",
       "      <td>1001</td>\n",
       "      <td>9</td>\n",
       "      <td>315</td>\n",
       "    </tr>\n",
       "    <tr>\n",
       "      <th>3</th>\n",
       "      <td>1001</td>\n",
       "      <td>10</td>\n",
       "      <td>393</td>\n",
       "    </tr>\n",
       "    <tr>\n",
       "      <th>4</th>\n",
       "      <td>1001</td>\n",
       "      <td>11</td>\n",
       "      <td>426</td>\n",
       "    </tr>\n",
       "  </tbody>\n",
       "</table>\n",
       "</div>"
      ],
      "text/plain": [
       "   user_id  month  duration\n",
       "0     1000     12       124\n",
       "1     1001      8       182\n",
       "2     1001      9       315\n",
       "3     1001     10       393\n",
       "4     1001     11       426"
      ]
     },
     "execution_count": 80,
     "metadata": {},
     "output_type": "execute_result"
    }
   ],
   "source": [
    "minutes_per_user = m_calls.groupby([\"user_id\",\"month\"])[\"duration\"].sum().reset_index()\n",
    "minutes_per_user.sort_values(by=\"user_id\").head()\n",
    "\n",
    "\n",
    "# m_calls[m_calls[\"user_id\"]==1000] #Verifico que los datos coincidan tomando un usuario como ejemplo"
   ]
  },
  {
   "cell_type": "markdown",
   "metadata": {},
   "source": [
    "Ahora calcularemos el número de mensajes enviados por cada usuario al mes"
   ]
  },
  {
   "cell_type": "code",
   "execution_count": 81,
   "metadata": {
    "id": "CcQvNHn60q1G"
   },
   "outputs": [
    {
     "data": {
      "text/html": [
       "<div>\n",
       "<style scoped>\n",
       "    .dataframe tbody tr th:only-of-type {\n",
       "        vertical-align: middle;\n",
       "    }\n",
       "\n",
       "    .dataframe tbody tr th {\n",
       "        vertical-align: top;\n",
       "    }\n",
       "\n",
       "    .dataframe thead th {\n",
       "        text-align: right;\n",
       "    }\n",
       "</style>\n",
       "<table border=\"1\" class=\"dataframe\">\n",
       "  <thead>\n",
       "    <tr style=\"text-align: right;\">\n",
       "      <th></th>\n",
       "      <th>user_id</th>\n",
       "      <th>month</th>\n",
       "      <th>n_messages</th>\n",
       "    </tr>\n",
       "  </thead>\n",
       "  <tbody>\n",
       "    <tr>\n",
       "      <th>0</th>\n",
       "      <td>1000</td>\n",
       "      <td>12</td>\n",
       "      <td>11</td>\n",
       "    </tr>\n",
       "    <tr>\n",
       "      <th>1</th>\n",
       "      <td>1001</td>\n",
       "      <td>8</td>\n",
       "      <td>30</td>\n",
       "    </tr>\n",
       "    <tr>\n",
       "      <th>2</th>\n",
       "      <td>1001</td>\n",
       "      <td>9</td>\n",
       "      <td>44</td>\n",
       "    </tr>\n",
       "    <tr>\n",
       "      <th>3</th>\n",
       "      <td>1001</td>\n",
       "      <td>10</td>\n",
       "      <td>53</td>\n",
       "    </tr>\n",
       "    <tr>\n",
       "      <th>4</th>\n",
       "      <td>1001</td>\n",
       "      <td>11</td>\n",
       "      <td>36</td>\n",
       "    </tr>\n",
       "  </tbody>\n",
       "</table>\n",
       "</div>"
      ],
      "text/plain": [
       "   user_id  month  n_messages\n",
       "0     1000     12          11\n",
       "1     1001      8          30\n",
       "2     1001      9          44\n",
       "3     1001     10          53\n",
       "4     1001     11          36"
      ]
     },
     "execution_count": 81,
     "metadata": {},
     "output_type": "execute_result"
    }
   ],
   "source": [
    "m_messages[\"month\"]= m_messages[\"message_date\"].dt.month\n",
    "m_messages_per_user = m_messages.groupby([\"user_id\",\"month\"])[\"id\"].count().reset_index()\n",
    "m_messages_per_user.rename(columns={\"id\":\"n_messages\"}, inplace=True)\n",
    "m_messages_per_user.head()\n",
    "\n",
    "# m_messages[m_messages[\"user_id\"]==1000] #confirmando con un usuario que mi código sea coherente"
   ]
  },
  {
   "cell_type": "markdown",
   "metadata": {},
   "source": [
    "Tambíen será necesario calcular los GB consumidos por cada mes para cada usuario."
   ]
  },
  {
   "cell_type": "code",
   "execution_count": 82,
   "metadata": {
    "id": "H1AqN2eG0q1H"
   },
   "outputs": [
    {
     "data": {
      "text/html": [
       "<div>\n",
       "<style scoped>\n",
       "    .dataframe tbody tr th:only-of-type {\n",
       "        vertical-align: middle;\n",
       "    }\n",
       "\n",
       "    .dataframe tbody tr th {\n",
       "        vertical-align: top;\n",
       "    }\n",
       "\n",
       "    .dataframe thead th {\n",
       "        text-align: right;\n",
       "    }\n",
       "</style>\n",
       "<table border=\"1\" class=\"dataframe\">\n",
       "  <thead>\n",
       "    <tr style=\"text-align: right;\">\n",
       "      <th></th>\n",
       "      <th>user_id</th>\n",
       "      <th>month</th>\n",
       "      <th>mb_used</th>\n",
       "    </tr>\n",
       "  </thead>\n",
       "  <tbody>\n",
       "    <tr>\n",
       "      <th>0</th>\n",
       "      <td>1000</td>\n",
       "      <td>12</td>\n",
       "      <td>1901.47</td>\n",
       "    </tr>\n",
       "    <tr>\n",
       "      <th>1</th>\n",
       "      <td>1001</td>\n",
       "      <td>8</td>\n",
       "      <td>6919.15</td>\n",
       "    </tr>\n",
       "    <tr>\n",
       "      <th>2</th>\n",
       "      <td>1001</td>\n",
       "      <td>9</td>\n",
       "      <td>13314.82</td>\n",
       "    </tr>\n",
       "    <tr>\n",
       "      <th>3</th>\n",
       "      <td>1001</td>\n",
       "      <td>10</td>\n",
       "      <td>22330.49</td>\n",
       "    </tr>\n",
       "    <tr>\n",
       "      <th>4</th>\n",
       "      <td>1001</td>\n",
       "      <td>11</td>\n",
       "      <td>18504.30</td>\n",
       "    </tr>\n",
       "  </tbody>\n",
       "</table>\n",
       "</div>"
      ],
      "text/plain": [
       "   user_id  month   mb_used\n",
       "0     1000     12   1901.47\n",
       "1     1001      8   6919.15\n",
       "2     1001      9  13314.82\n",
       "3     1001     10  22330.49\n",
       "4     1001     11  18504.30"
      ]
     },
     "execution_count": 82,
     "metadata": {},
     "output_type": "execute_result"
    }
   ],
   "source": [
    "m_internet[\"month\"]= m_internet[\"session_date\"].dt.month\n",
    "m_internet_per_user = m_internet.groupby([\"user_id\", \"month\"])[\"mb_used\"].sum().reset_index()\n",
    "m_internet_per_user.head()"
   ]
  },
  {
   "cell_type": "markdown",
   "metadata": {},
   "source": [
    "Esta fue mi primera versión para agregar como apply, pero encontre una lódica más facil (la coloco en el siguiente bloque)"
   ]
  },
  {
   "cell_type": "code",
   "execution_count": 83,
   "metadata": {},
   "outputs": [],
   "source": [
    "# def to_megas(x): \n",
    "#     for i in range(0, 1000): #buscar como limitar este numero\n",
    "#         if x > 0 and x < (i+1)*1000:\n",
    "#             return (i+1)\n",
    "\n",
    "# m_internet_per_user[\"megas\"] = m_internet_per_user[\"mb_used\"].apply(to_megas)\n",
    "# m_internet_per_user"
   ]
  },
  {
   "cell_type": "code",
   "execution_count": 84,
   "metadata": {},
   "outputs": [
    {
     "data": {
      "text/html": [
       "<div>\n",
       "<style scoped>\n",
       "    .dataframe tbody tr th:only-of-type {\n",
       "        vertical-align: middle;\n",
       "    }\n",
       "\n",
       "    .dataframe tbody tr th {\n",
       "        vertical-align: top;\n",
       "    }\n",
       "\n",
       "    .dataframe thead th {\n",
       "        text-align: right;\n",
       "    }\n",
       "</style>\n",
       "<table border=\"1\" class=\"dataframe\">\n",
       "  <thead>\n",
       "    <tr style=\"text-align: right;\">\n",
       "      <th></th>\n",
       "      <th>user_id</th>\n",
       "      <th>month</th>\n",
       "      <th>mb_used</th>\n",
       "      <th>megas</th>\n",
       "    </tr>\n",
       "  </thead>\n",
       "  <tbody>\n",
       "    <tr>\n",
       "      <th>0</th>\n",
       "      <td>1000</td>\n",
       "      <td>12</td>\n",
       "      <td>1901.47</td>\n",
       "      <td>2</td>\n",
       "    </tr>\n",
       "    <tr>\n",
       "      <th>1</th>\n",
       "      <td>1001</td>\n",
       "      <td>8</td>\n",
       "      <td>6919.15</td>\n",
       "      <td>7</td>\n",
       "    </tr>\n",
       "    <tr>\n",
       "      <th>2</th>\n",
       "      <td>1001</td>\n",
       "      <td>9</td>\n",
       "      <td>13314.82</td>\n",
       "      <td>14</td>\n",
       "    </tr>\n",
       "    <tr>\n",
       "      <th>3</th>\n",
       "      <td>1001</td>\n",
       "      <td>10</td>\n",
       "      <td>22330.49</td>\n",
       "      <td>22</td>\n",
       "    </tr>\n",
       "    <tr>\n",
       "      <th>4</th>\n",
       "      <td>1001</td>\n",
       "      <td>11</td>\n",
       "      <td>18504.30</td>\n",
       "      <td>19</td>\n",
       "    </tr>\n",
       "    <tr>\n",
       "      <th>5</th>\n",
       "      <td>1001</td>\n",
       "      <td>12</td>\n",
       "      <td>19369.18</td>\n",
       "      <td>19</td>\n",
       "    </tr>\n",
       "    <tr>\n",
       "      <th>6</th>\n",
       "      <td>1002</td>\n",
       "      <td>10</td>\n",
       "      <td>6552.01</td>\n",
       "      <td>7</td>\n",
       "    </tr>\n",
       "    <tr>\n",
       "      <th>7</th>\n",
       "      <td>1002</td>\n",
       "      <td>11</td>\n",
       "      <td>19345.08</td>\n",
       "      <td>19</td>\n",
       "    </tr>\n",
       "    <tr>\n",
       "      <th>8</th>\n",
       "      <td>1002</td>\n",
       "      <td>12</td>\n",
       "      <td>14396.24</td>\n",
       "      <td>15</td>\n",
       "    </tr>\n",
       "    <tr>\n",
       "      <th>9</th>\n",
       "      <td>1003</td>\n",
       "      <td>12</td>\n",
       "      <td>27044.14</td>\n",
       "      <td>27</td>\n",
       "    </tr>\n",
       "  </tbody>\n",
       "</table>\n",
       "</div>"
      ],
      "text/plain": [
       "   user_id  month   mb_used  megas\n",
       "0     1000     12   1901.47      2\n",
       "1     1001      8   6919.15      7\n",
       "2     1001      9  13314.82     14\n",
       "3     1001     10  22330.49     22\n",
       "4     1001     11  18504.30     19\n",
       "5     1001     12  19369.18     19\n",
       "6     1002     10   6552.01      7\n",
       "7     1002     11  19345.08     19\n",
       "8     1002     12  14396.24     15\n",
       "9     1003     12  27044.14     27"
      ]
     },
     "execution_count": 84,
     "metadata": {},
     "output_type": "execute_result"
    }
   ],
   "source": [
    "m_internet_per_user[\"megas\"] = m_internet_per_user[\"mb_used\"].apply(lambda x: math.ceil(x/1024))\n",
    "m_internet_per_user.head(10)"
   ]
  },
  {
   "cell_type": "markdown",
   "metadata": {},
   "source": [
    "Procedemos a realizar las fusiones de los conjuntos de datos"
   ]
  },
  {
   "cell_type": "markdown",
   "metadata": {},
   "source": [
    "Fusion de conjunto de llamadas y conjunto de minutos"
   ]
  },
  {
   "cell_type": "code",
   "execution_count": 85,
   "metadata": {
    "id": "FW99ykyf0q1H"
   },
   "outputs": [
    {
     "data": {
      "text/html": [
       "<div>\n",
       "<style scoped>\n",
       "    .dataframe tbody tr th:only-of-type {\n",
       "        vertical-align: middle;\n",
       "    }\n",
       "\n",
       "    .dataframe tbody tr th {\n",
       "        vertical-align: top;\n",
       "    }\n",
       "\n",
       "    .dataframe thead th {\n",
       "        text-align: right;\n",
       "    }\n",
       "</style>\n",
       "<table border=\"1\" class=\"dataframe\">\n",
       "  <thead>\n",
       "    <tr style=\"text-align: right;\">\n",
       "      <th></th>\n",
       "      <th>user_id</th>\n",
       "      <th>month</th>\n",
       "      <th>calls</th>\n",
       "      <th>duration</th>\n",
       "    </tr>\n",
       "  </thead>\n",
       "  <tbody>\n",
       "    <tr>\n",
       "      <th>2251</th>\n",
       "      <td>1498</td>\n",
       "      <td>10</td>\n",
       "      <td>46</td>\n",
       "      <td>298</td>\n",
       "    </tr>\n",
       "    <tr>\n",
       "      <th>2017</th>\n",
       "      <td>1440</td>\n",
       "      <td>11</td>\n",
       "      <td>103</td>\n",
       "      <td>787</td>\n",
       "    </tr>\n",
       "    <tr>\n",
       "      <th>738</th>\n",
       "      <td>1157</td>\n",
       "      <td>12</td>\n",
       "      <td>68</td>\n",
       "      <td>508</td>\n",
       "    </tr>\n",
       "    <tr>\n",
       "      <th>1987</th>\n",
       "      <td>1434</td>\n",
       "      <td>12</td>\n",
       "      <td>58</td>\n",
       "      <td>410</td>\n",
       "    </tr>\n",
       "    <tr>\n",
       "      <th>2072</th>\n",
       "      <td>1456</td>\n",
       "      <td>12</td>\n",
       "      <td>62</td>\n",
       "      <td>425</td>\n",
       "    </tr>\n",
       "    <tr>\n",
       "      <th>1779</th>\n",
       "      <td>1390</td>\n",
       "      <td>9</td>\n",
       "      <td>91</td>\n",
       "      <td>692</td>\n",
       "    </tr>\n",
       "    <tr>\n",
       "      <th>1992</th>\n",
       "      <td>1436</td>\n",
       "      <td>8</td>\n",
       "      <td>15</td>\n",
       "      <td>111</td>\n",
       "    </tr>\n",
       "    <tr>\n",
       "      <th>789</th>\n",
       "      <td>1169</td>\n",
       "      <td>12</td>\n",
       "      <td>105</td>\n",
       "      <td>835</td>\n",
       "    </tr>\n",
       "    <tr>\n",
       "      <th>1908</th>\n",
       "      <td>1414</td>\n",
       "      <td>11</td>\n",
       "      <td>57</td>\n",
       "      <td>288</td>\n",
       "    </tr>\n",
       "    <tr>\n",
       "      <th>1079</th>\n",
       "      <td>1236</td>\n",
       "      <td>4</td>\n",
       "      <td>49</td>\n",
       "      <td>273</td>\n",
       "    </tr>\n",
       "  </tbody>\n",
       "</table>\n",
       "</div>"
      ],
      "text/plain": [
       "      user_id  month  calls  duration\n",
       "2251     1498     10     46       298\n",
       "2017     1440     11    103       787\n",
       "738      1157     12     68       508\n",
       "1987     1434     12     58       410\n",
       "2072     1456     12     62       425\n",
       "1779     1390      9     91       692\n",
       "1992     1436      8     15       111\n",
       "789      1169     12    105       835\n",
       "1908     1414     11     57       288\n",
       "1079     1236      4     49       273"
      ]
     },
     "execution_count": 85,
     "metadata": {},
     "output_type": "execute_result"
    }
   ],
   "source": [
    "m_fusion_1 = calls_per_user.merge(minutes_per_user, how='outer', left_on=[\"user_id\", \"month\"], right_on=[\"user_id\", \"month\"])\n",
    "m_fusion_1.sample(10)\n",
    "\n",
    "#Con las siguientes lineas corrobore que el código fuera coherente para la fussion de calls_per_user and minutes_per_user\n",
    "# m_fusion_1[m_fusion[\"month\"]==12]\n",
    "# calls_per_user[calls_per_user[\"month\"]==12]\n",
    "# minutes_per_user[minutes_per_user[\"month\"]==12]"
   ]
  },
  {
   "cell_type": "markdown",
   "metadata": {},
   "source": [
    "Fusion de conjunto de mensajes y conjunto de internet"
   ]
  },
  {
   "cell_type": "code",
   "execution_count": 86,
   "metadata": {},
   "outputs": [
    {
     "name": "stdout",
     "output_type": "stream",
     "text": [
      "<class 'pandas.core.frame.DataFrame'>\n",
      "RangeIndex: 2292 entries, 0 to 2291\n",
      "Data columns (total 5 columns):\n",
      " #   Column      Non-Null Count  Dtype  \n",
      "---  ------      --------------  -----  \n",
      " 0   user_id     2292 non-null   int64  \n",
      " 1   month       2292 non-null   int32  \n",
      " 2   n_messages  1806 non-null   float64\n",
      " 3   mb_used     2277 non-null   float64\n",
      " 4   megas       2277 non-null   float64\n",
      "dtypes: float64(3), int32(1), int64(1)\n",
      "memory usage: 80.7 KB\n"
     ]
    }
   ],
   "source": [
    "m_fusion_2 = m_messages_per_user.merge(m_internet_per_user, how='outer', left_on=[\"user_id\", \"month\"], right_on=[\"user_id\", \"month\"])\n",
    "m_fusion_2.info()"
   ]
  },
  {
   "cell_type": "markdown",
   "metadata": {},
   "source": [
    "Es razonable que tengamos valores nulos al realizar el outer join, ya que no todos los usuarios que enviaron mensajes usaron los megas y visceversa, se utilizarón las siguientes lineas para identificar que la tabla fuera coherente"
   ]
  },
  {
   "cell_type": "code",
   "execution_count": 87,
   "metadata": {},
   "outputs": [],
   "source": [
    "#Con las siguientes lineas corrobore que el código fuera coherente para la fussion de calls_per_user and minutes_per_user,\n",
    "# m_fusion_2[m_fusion2[\"month\"]==12]\n",
    "# m_internet_per_user[m_internet_per_user[\"month\"]==12]\n",
    "# m_messages_per_user[m_messages_per_user[\"month\"]==12] #se obtienen los mismos valores que en la fusion\n",
    "\n",
    "# m_fusion_2[m_fusion_2[\"mb_used\"].isna()] #NaN esperados / Posibles usuarios que usaron mensajes pero no consumieron megas \n",
    "# m_fusion_2[m_fusion_2[\"n_messages\"].isna()] #NaN esperados / Posibles usuarios que consumieron megas pero no mensajes"
   ]
  },
  {
   "cell_type": "markdown",
   "metadata": {},
   "source": [
    "Fusion de conjunto de llamadas, mensajes, minutos e internet."
   ]
  },
  {
   "cell_type": "code",
   "execution_count": 88,
   "metadata": {},
   "outputs": [
    {
     "data": {
      "text/html": [
       "<div>\n",
       "<style scoped>\n",
       "    .dataframe tbody tr th:only-of-type {\n",
       "        vertical-align: middle;\n",
       "    }\n",
       "\n",
       "    .dataframe tbody tr th {\n",
       "        vertical-align: top;\n",
       "    }\n",
       "\n",
       "    .dataframe thead th {\n",
       "        text-align: right;\n",
       "    }\n",
       "</style>\n",
       "<table border=\"1\" class=\"dataframe\">\n",
       "  <thead>\n",
       "    <tr style=\"text-align: right;\">\n",
       "      <th></th>\n",
       "      <th>user_id</th>\n",
       "      <th>month</th>\n",
       "      <th>calls</th>\n",
       "      <th>duration</th>\n",
       "      <th>n_messages</th>\n",
       "      <th>mb_used</th>\n",
       "      <th>megas</th>\n",
       "    </tr>\n",
       "  </thead>\n",
       "  <tbody>\n",
       "    <tr>\n",
       "      <th>0</th>\n",
       "      <td>1000</td>\n",
       "      <td>12</td>\n",
       "      <td>16.0</td>\n",
       "      <td>124.0</td>\n",
       "      <td>11.0</td>\n",
       "      <td>1901.47</td>\n",
       "      <td>2.0</td>\n",
       "    </tr>\n",
       "    <tr>\n",
       "      <th>1</th>\n",
       "      <td>1001</td>\n",
       "      <td>8</td>\n",
       "      <td>27.0</td>\n",
       "      <td>182.0</td>\n",
       "      <td>30.0</td>\n",
       "      <td>6919.15</td>\n",
       "      <td>7.0</td>\n",
       "    </tr>\n",
       "    <tr>\n",
       "      <th>2</th>\n",
       "      <td>1001</td>\n",
       "      <td>9</td>\n",
       "      <td>49.0</td>\n",
       "      <td>315.0</td>\n",
       "      <td>44.0</td>\n",
       "      <td>13314.82</td>\n",
       "      <td>14.0</td>\n",
       "    </tr>\n",
       "    <tr>\n",
       "      <th>3</th>\n",
       "      <td>1001</td>\n",
       "      <td>10</td>\n",
       "      <td>65.0</td>\n",
       "      <td>393.0</td>\n",
       "      <td>53.0</td>\n",
       "      <td>22330.49</td>\n",
       "      <td>22.0</td>\n",
       "    </tr>\n",
       "    <tr>\n",
       "      <th>4</th>\n",
       "      <td>1001</td>\n",
       "      <td>11</td>\n",
       "      <td>64.0</td>\n",
       "      <td>426.0</td>\n",
       "      <td>36.0</td>\n",
       "      <td>18504.30</td>\n",
       "      <td>19.0</td>\n",
       "    </tr>\n",
       "    <tr>\n",
       "      <th>...</th>\n",
       "      <td>...</td>\n",
       "      <td>...</td>\n",
       "      <td>...</td>\n",
       "      <td>...</td>\n",
       "      <td>...</td>\n",
       "      <td>...</td>\n",
       "      <td>...</td>\n",
       "    </tr>\n",
       "    <tr>\n",
       "      <th>2288</th>\n",
       "      <td>1349</td>\n",
       "      <td>12</td>\n",
       "      <td>NaN</td>\n",
       "      <td>NaN</td>\n",
       "      <td>61.0</td>\n",
       "      <td>13039.91</td>\n",
       "      <td>13.0</td>\n",
       "    </tr>\n",
       "    <tr>\n",
       "      <th>2289</th>\n",
       "      <td>1361</td>\n",
       "      <td>5</td>\n",
       "      <td>NaN</td>\n",
       "      <td>NaN</td>\n",
       "      <td>2.0</td>\n",
       "      <td>1519.69</td>\n",
       "      <td>2.0</td>\n",
       "    </tr>\n",
       "    <tr>\n",
       "      <th>2290</th>\n",
       "      <td>1482</td>\n",
       "      <td>10</td>\n",
       "      <td>NaN</td>\n",
       "      <td>NaN</td>\n",
       "      <td>2.0</td>\n",
       "      <td>NaN</td>\n",
       "      <td>NaN</td>\n",
       "    </tr>\n",
       "    <tr>\n",
       "      <th>2291</th>\n",
       "      <td>1108</td>\n",
       "      <td>12</td>\n",
       "      <td>NaN</td>\n",
       "      <td>NaN</td>\n",
       "      <td>NaN</td>\n",
       "      <td>233.17</td>\n",
       "      <td>1.0</td>\n",
       "    </tr>\n",
       "    <tr>\n",
       "      <th>2292</th>\n",
       "      <td>1311</td>\n",
       "      <td>6</td>\n",
       "      <td>NaN</td>\n",
       "      <td>NaN</td>\n",
       "      <td>NaN</td>\n",
       "      <td>1498.83</td>\n",
       "      <td>2.0</td>\n",
       "    </tr>\n",
       "  </tbody>\n",
       "</table>\n",
       "<p>2293 rows × 7 columns</p>\n",
       "</div>"
      ],
      "text/plain": [
       "      user_id  month  calls  duration  n_messages   mb_used  megas\n",
       "0        1000     12   16.0     124.0        11.0   1901.47    2.0\n",
       "1        1001      8   27.0     182.0        30.0   6919.15    7.0\n",
       "2        1001      9   49.0     315.0        44.0  13314.82   14.0\n",
       "3        1001     10   65.0     393.0        53.0  22330.49   22.0\n",
       "4        1001     11   64.0     426.0        36.0  18504.30   19.0\n",
       "...       ...    ...    ...       ...         ...       ...    ...\n",
       "2288     1349     12    NaN       NaN        61.0  13039.91   13.0\n",
       "2289     1361      5    NaN       NaN         2.0   1519.69    2.0\n",
       "2290     1482     10    NaN       NaN         2.0       NaN    NaN\n",
       "2291     1108     12    NaN       NaN         NaN    233.17    1.0\n",
       "2292     1311      6    NaN       NaN         NaN   1498.83    2.0\n",
       "\n",
       "[2293 rows x 7 columns]"
      ]
     },
     "execution_count": 88,
     "metadata": {},
     "output_type": "execute_result"
    }
   ],
   "source": [
    "m_fusion = m_fusion_1.merge(m_fusion_2, how='outer', left_on=[\"user_id\", \"month\"], right_on=[\"user_id\", \"month\"])\n",
    "m_fusion"
   ]
  },
  {
   "cell_type": "markdown",
   "metadata": {},
   "source": [
    "Ahora procedemos a eliminar los valores Nulos y remplacarlos por 0 para las columnas \"calls\", \"duration\", \"n_messages\", \"megas\", descartaremos la columna mb_used"
   ]
  },
  {
   "cell_type": "code",
   "execution_count": 89,
   "metadata": {},
   "outputs": [
    {
     "name": "stdout",
     "output_type": "stream",
     "text": [
      "<class 'pandas.core.frame.DataFrame'>\n",
      "RangeIndex: 2293 entries, 0 to 2292\n",
      "Data columns (total 6 columns):\n",
      " #   Column      Non-Null Count  Dtype  \n",
      "---  ------      --------------  -----  \n",
      " 0   user_id     2293 non-null   int64  \n",
      " 1   month       2293 non-null   int32  \n",
      " 2   calls       2293 non-null   float64\n",
      " 3   duration    2293 non-null   float64\n",
      " 4   n_messages  2293 non-null   float64\n",
      " 5   megas       2293 non-null   float64\n",
      "dtypes: float64(4), int32(1), int64(1)\n",
      "memory usage: 98.7 KB\n"
     ]
    },
    {
     "name": "stderr",
     "output_type": "stream",
     "text": [
      "C:\\Users\\jm_he\\AppData\\Local\\Temp\\ipykernel_17584\\3811685494.py:2: SettingWithCopyWarning: \n",
      "A value is trying to be set on a copy of a slice from a DataFrame\n",
      "\n",
      "See the caveats in the documentation: https://pandas.pydata.org/pandas-docs/stable/user_guide/indexing.html#returning-a-view-versus-a-copy\n",
      "  m_fusion.fillna(0, inplace=True)\n"
     ]
    }
   ],
   "source": [
    "m_fusion= m_fusion[['user_id', 'month', 'calls', 'duration', 'n_messages', 'megas']]\n",
    "m_fusion.fillna(0, inplace=True)\n",
    "m_fusion.info()"
   ]
  },
  {
   "cell_type": "markdown",
   "metadata": {},
   "source": [
    "El valor nulo cambio nuestras columnas a tipo float, procedo a convertirlas en int de nuevo."
   ]
  },
  {
   "cell_type": "code",
   "execution_count": 90,
   "metadata": {},
   "outputs": [
    {
     "name": "stderr",
     "output_type": "stream",
     "text": [
      "C:\\Users\\jm_he\\AppData\\Local\\Temp\\ipykernel_17584\\1744746255.py:1: SettingWithCopyWarning: \n",
      "A value is trying to be set on a copy of a slice from a DataFrame.\n",
      "Try using .loc[row_indexer,col_indexer] = value instead\n",
      "\n",
      "See the caveats in the documentation: https://pandas.pydata.org/pandas-docs/stable/user_guide/indexing.html#returning-a-view-versus-a-copy\n",
      "  m_fusion[['calls', 'duration', 'n_messages', 'megas']]= m_fusion[['calls', 'duration', 'n_messages', 'megas']].astype(int)\n"
     ]
    },
    {
     "data": {
      "text/html": [
       "<div>\n",
       "<style scoped>\n",
       "    .dataframe tbody tr th:only-of-type {\n",
       "        vertical-align: middle;\n",
       "    }\n",
       "\n",
       "    .dataframe tbody tr th {\n",
       "        vertical-align: top;\n",
       "    }\n",
       "\n",
       "    .dataframe thead th {\n",
       "        text-align: right;\n",
       "    }\n",
       "</style>\n",
       "<table border=\"1\" class=\"dataframe\">\n",
       "  <thead>\n",
       "    <tr style=\"text-align: right;\">\n",
       "      <th></th>\n",
       "      <th>user_id</th>\n",
       "      <th>month</th>\n",
       "      <th>calls</th>\n",
       "      <th>duration</th>\n",
       "      <th>n_messages</th>\n",
       "      <th>megas</th>\n",
       "    </tr>\n",
       "  </thead>\n",
       "  <tbody>\n",
       "    <tr>\n",
       "      <th>0</th>\n",
       "      <td>1000</td>\n",
       "      <td>12</td>\n",
       "      <td>16</td>\n",
       "      <td>124</td>\n",
       "      <td>11</td>\n",
       "      <td>2</td>\n",
       "    </tr>\n",
       "    <tr>\n",
       "      <th>1</th>\n",
       "      <td>1001</td>\n",
       "      <td>8</td>\n",
       "      <td>27</td>\n",
       "      <td>182</td>\n",
       "      <td>30</td>\n",
       "      <td>7</td>\n",
       "    </tr>\n",
       "    <tr>\n",
       "      <th>2</th>\n",
       "      <td>1001</td>\n",
       "      <td>9</td>\n",
       "      <td>49</td>\n",
       "      <td>315</td>\n",
       "      <td>44</td>\n",
       "      <td>14</td>\n",
       "    </tr>\n",
       "    <tr>\n",
       "      <th>3</th>\n",
       "      <td>1001</td>\n",
       "      <td>10</td>\n",
       "      <td>65</td>\n",
       "      <td>393</td>\n",
       "      <td>53</td>\n",
       "      <td>22</td>\n",
       "    </tr>\n",
       "    <tr>\n",
       "      <th>4</th>\n",
       "      <td>1001</td>\n",
       "      <td>11</td>\n",
       "      <td>64</td>\n",
       "      <td>426</td>\n",
       "      <td>36</td>\n",
       "      <td>19</td>\n",
       "    </tr>\n",
       "    <tr>\n",
       "      <th>...</th>\n",
       "      <td>...</td>\n",
       "      <td>...</td>\n",
       "      <td>...</td>\n",
       "      <td>...</td>\n",
       "      <td>...</td>\n",
       "      <td>...</td>\n",
       "    </tr>\n",
       "    <tr>\n",
       "      <th>2288</th>\n",
       "      <td>1349</td>\n",
       "      <td>12</td>\n",
       "      <td>0</td>\n",
       "      <td>0</td>\n",
       "      <td>61</td>\n",
       "      <td>13</td>\n",
       "    </tr>\n",
       "    <tr>\n",
       "      <th>2289</th>\n",
       "      <td>1361</td>\n",
       "      <td>5</td>\n",
       "      <td>0</td>\n",
       "      <td>0</td>\n",
       "      <td>2</td>\n",
       "      <td>2</td>\n",
       "    </tr>\n",
       "    <tr>\n",
       "      <th>2290</th>\n",
       "      <td>1482</td>\n",
       "      <td>10</td>\n",
       "      <td>0</td>\n",
       "      <td>0</td>\n",
       "      <td>2</td>\n",
       "      <td>0</td>\n",
       "    </tr>\n",
       "    <tr>\n",
       "      <th>2291</th>\n",
       "      <td>1108</td>\n",
       "      <td>12</td>\n",
       "      <td>0</td>\n",
       "      <td>0</td>\n",
       "      <td>0</td>\n",
       "      <td>1</td>\n",
       "    </tr>\n",
       "    <tr>\n",
       "      <th>2292</th>\n",
       "      <td>1311</td>\n",
       "      <td>6</td>\n",
       "      <td>0</td>\n",
       "      <td>0</td>\n",
       "      <td>0</td>\n",
       "      <td>2</td>\n",
       "    </tr>\n",
       "  </tbody>\n",
       "</table>\n",
       "<p>2293 rows × 6 columns</p>\n",
       "</div>"
      ],
      "text/plain": [
       "      user_id  month  calls  duration  n_messages  megas\n",
       "0        1000     12     16       124          11      2\n",
       "1        1001      8     27       182          30      7\n",
       "2        1001      9     49       315          44     14\n",
       "3        1001     10     65       393          53     22\n",
       "4        1001     11     64       426          36     19\n",
       "...       ...    ...    ...       ...         ...    ...\n",
       "2288     1349     12      0         0          61     13\n",
       "2289     1361      5      0         0           2      2\n",
       "2290     1482     10      0         0           2      0\n",
       "2291     1108     12      0         0           0      1\n",
       "2292     1311      6      0         0           0      2\n",
       "\n",
       "[2293 rows x 6 columns]"
      ]
     },
     "execution_count": 90,
     "metadata": {},
     "output_type": "execute_result"
    }
   ],
   "source": [
    "m_fusion[['calls', 'duration', 'n_messages', 'megas']]= m_fusion[['calls', 'duration', 'n_messages', 'megas']].astype(int)\n",
    "m_fusion"
   ]
  },
  {
   "cell_type": "markdown",
   "metadata": {},
   "source": [
    "Comparo con la base de usuarios para comprobar que tengo un registro de todos los usuarios."
   ]
  },
  {
   "cell_type": "code",
   "execution_count": 91,
   "metadata": {},
   "outputs": [
    {
     "name": "stdout",
     "output_type": "stream",
     "text": [
      "tengo 490 usuarios en la base fusionada\n",
      "tengo 500 usuarios en la base de usuarios\n"
     ]
    }
   ],
   "source": [
    "# Definir dos arrays\n",
    "array1 = m_fusion[\"user_id\"].nunique()\n",
    "array2 = m_users[\"user_id\"].nunique()\n",
    "\n",
    "print(f'tengo {array1} usuarios en la base fusionada')\n",
    "print(f'tengo {array2} usuarios en la base de usuarios')"
   ]
  },
  {
   "cell_type": "markdown",
   "metadata": {},
   "source": [
    "**Hay 10 usuarios faltantes** en el conjunto de las bases llamadas,mensajes, minutos e internet, comprobare cuales son exactamente y verificaré si realmente se encontraban en las otras bases."
   ]
  },
  {
   "cell_type": "code",
   "execution_count": 92,
   "metadata": {},
   "outputs": [
    {
     "name": "stdout",
     "output_type": "stream",
     "text": [
      "{1025, 1378, 1463, 1473, 1319, 1129, 1307, 1269, 1143, 1275}\n"
     ]
    }
   ],
   "source": [
    "#Obtengo los valores que no se encuentran en mi dataframe fusionado\n",
    "array1 = m_fusion[\"user_id\"].unique()\n",
    "array2 = m_users[\"user_id\"].unique()\n",
    "list= set(array2)-set(array1)\n",
    "print(list)"
   ]
  },
  {
   "cell_type": "markdown",
   "metadata": {},
   "source": [
    "Procedo a crear un código automatizado para verificar los usuarios faltantes."
   ]
  },
  {
   "cell_type": "code",
   "execution_count": 93,
   "metadata": {},
   "outputs": [
    {
     "name": "stdout",
     "output_type": "stream",
     "text": [
      "1000: si esta\n",
      "1000: si esta\n",
      "1000: si esta\n",
      "1000: si esta\n"
     ]
    }
   ],
   "source": [
    "list = [1025, 1378, 1463, 1473, 1319, 1129, 1307, 1269, 1143, 1275,1000] #Lista de los valores faltantes, el último valor ya existe en la fusión, se usará como filtro para verificar que el código funciona.\n",
    "dframes= [calls_per_user, minutes_per_user ,m_messages_per_user ,m_internet_per_user]\n",
    "name_list = [\"calls_per_user\", \"minutes_per_user\" ,\"m_messages_per_user\" ,\"m_internet_per_user\"]\n",
    "\n",
    "#Se buscará en cada base el id de usuario para verificar su existencia.\n",
    "\n",
    "\n",
    "for conjunto in dframes:\n",
    "        for lost_id in list:\n",
    "            if (not conjunto[conjunto[\"user_id\"]==lost_id].empty) == True:\n",
    "                print(f\"{lost_id}: si esta\")"
   ]
  },
  {
   "cell_type": "markdown",
   "metadata": {},
   "source": [
    "Con esto confirmo que 10 usuarios del conjunto users, no tuvieron actividad en los otros conjuntos de datos."
   ]
  },
  {
   "cell_type": "markdown",
   "metadata": {},
   "source": [
    "Finalmente procedemos a agregar la información de la tarifa"
   ]
  },
  {
   "cell_type": "code",
   "execution_count": 94,
   "metadata": {
    "id": "0dNOXHag0q1H"
   },
   "outputs": [
    {
     "data": {
      "text/html": [
       "<div>\n",
       "<style scoped>\n",
       "    .dataframe tbody tr th:only-of-type {\n",
       "        vertical-align: middle;\n",
       "    }\n",
       "\n",
       "    .dataframe tbody tr th {\n",
       "        vertical-align: top;\n",
       "    }\n",
       "\n",
       "    .dataframe thead th {\n",
       "        text-align: right;\n",
       "    }\n",
       "</style>\n",
       "<table border=\"1\" class=\"dataframe\">\n",
       "  <thead>\n",
       "    <tr style=\"text-align: right;\">\n",
       "      <th></th>\n",
       "      <th>user_id</th>\n",
       "      <th>month</th>\n",
       "      <th>calls</th>\n",
       "      <th>duration</th>\n",
       "      <th>n_messages</th>\n",
       "      <th>megas</th>\n",
       "      <th>plan</th>\n",
       "      <th>churn_date</th>\n",
       "      <th>messages_included</th>\n",
       "      <th>mb_per_month_included</th>\n",
       "      <th>minutes_included</th>\n",
       "      <th>usd_monthly_pay</th>\n",
       "      <th>usd_per_gb</th>\n",
       "      <th>usd_per_message</th>\n",
       "      <th>usd_per_minute</th>\n",
       "      <th>plan_name</th>\n",
       "    </tr>\n",
       "  </thead>\n",
       "  <tbody>\n",
       "    <tr>\n",
       "      <th>1242</th>\n",
       "      <td>1267</td>\n",
       "      <td>12</td>\n",
       "      <td>205</td>\n",
       "      <td>1510</td>\n",
       "      <td>125</td>\n",
       "      <td>37</td>\n",
       "      <td>surf</td>\n",
       "      <td>NaT</td>\n",
       "      <td>50</td>\n",
       "      <td>15</td>\n",
       "      <td>500</td>\n",
       "      <td>20</td>\n",
       "      <td>10</td>\n",
       "      <td>0.03</td>\n",
       "      <td>0.03</td>\n",
       "      <td>surf</td>\n",
       "    </tr>\n",
       "    <tr>\n",
       "      <th>1487</th>\n",
       "      <td>1329</td>\n",
       "      <td>12</td>\n",
       "      <td>191</td>\n",
       "      <td>1369</td>\n",
       "      <td>97</td>\n",
       "      <td>26</td>\n",
       "      <td>ultimate</td>\n",
       "      <td>NaT</td>\n",
       "      <td>1000</td>\n",
       "      <td>30</td>\n",
       "      <td>3000</td>\n",
       "      <td>70</td>\n",
       "      <td>7</td>\n",
       "      <td>0.01</td>\n",
       "      <td>0.01</td>\n",
       "      <td>ultimate</td>\n",
       "    </tr>\n",
       "    <tr>\n",
       "      <th>1669</th>\n",
       "      <td>1365</td>\n",
       "      <td>12</td>\n",
       "      <td>180</td>\n",
       "      <td>1357</td>\n",
       "      <td>45</td>\n",
       "      <td>9</td>\n",
       "      <td>surf</td>\n",
       "      <td>NaT</td>\n",
       "      <td>50</td>\n",
       "      <td>15</td>\n",
       "      <td>500</td>\n",
       "      <td>20</td>\n",
       "      <td>10</td>\n",
       "      <td>0.03</td>\n",
       "      <td>0.03</td>\n",
       "      <td>surf</td>\n",
       "    </tr>\n",
       "    <tr>\n",
       "      <th>1459</th>\n",
       "      <td>1324</td>\n",
       "      <td>11</td>\n",
       "      <td>171</td>\n",
       "      <td>1304</td>\n",
       "      <td>116</td>\n",
       "      <td>18</td>\n",
       "      <td>surf</td>\n",
       "      <td>NaT</td>\n",
       "      <td>50</td>\n",
       "      <td>15</td>\n",
       "      <td>500</td>\n",
       "      <td>20</td>\n",
       "      <td>10</td>\n",
       "      <td>0.03</td>\n",
       "      <td>0.03</td>\n",
       "      <td>surf</td>\n",
       "    </tr>\n",
       "    <tr>\n",
       "      <th>1737</th>\n",
       "      <td>1382</td>\n",
       "      <td>12</td>\n",
       "      <td>170</td>\n",
       "      <td>1295</td>\n",
       "      <td>52</td>\n",
       "      <td>11</td>\n",
       "      <td>ultimate</td>\n",
       "      <td>NaT</td>\n",
       "      <td>1000</td>\n",
       "      <td>30</td>\n",
       "      <td>3000</td>\n",
       "      <td>70</td>\n",
       "      <td>7</td>\n",
       "      <td>0.01</td>\n",
       "      <td>0.01</td>\n",
       "      <td>ultimate</td>\n",
       "    </tr>\n",
       "    <tr>\n",
       "      <th>...</th>\n",
       "      <td>...</td>\n",
       "      <td>...</td>\n",
       "      <td>...</td>\n",
       "      <td>...</td>\n",
       "      <td>...</td>\n",
       "      <td>...</td>\n",
       "      <td>...</td>\n",
       "      <td>...</td>\n",
       "      <td>...</td>\n",
       "      <td>...</td>\n",
       "      <td>...</td>\n",
       "      <td>...</td>\n",
       "      <td>...</td>\n",
       "      <td>...</td>\n",
       "      <td>...</td>\n",
       "      <td>...</td>\n",
       "    </tr>\n",
       "    <tr>\n",
       "      <th>2268</th>\n",
       "      <td>1131</td>\n",
       "      <td>6</td>\n",
       "      <td>0</td>\n",
       "      <td>0</td>\n",
       "      <td>27</td>\n",
       "      <td>15</td>\n",
       "      <td>surf</td>\n",
       "      <td>NaT</td>\n",
       "      <td>50</td>\n",
       "      <td>15</td>\n",
       "      <td>500</td>\n",
       "      <td>20</td>\n",
       "      <td>10</td>\n",
       "      <td>0.03</td>\n",
       "      <td>0.03</td>\n",
       "      <td>surf</td>\n",
       "    </tr>\n",
       "    <tr>\n",
       "      <th>2269</th>\n",
       "      <td>1131</td>\n",
       "      <td>7</td>\n",
       "      <td>0</td>\n",
       "      <td>0</td>\n",
       "      <td>28</td>\n",
       "      <td>17</td>\n",
       "      <td>surf</td>\n",
       "      <td>NaT</td>\n",
       "      <td>50</td>\n",
       "      <td>15</td>\n",
       "      <td>500</td>\n",
       "      <td>20</td>\n",
       "      <td>10</td>\n",
       "      <td>0.03</td>\n",
       "      <td>0.03</td>\n",
       "      <td>surf</td>\n",
       "    </tr>\n",
       "    <tr>\n",
       "      <th>2270</th>\n",
       "      <td>1131</td>\n",
       "      <td>8</td>\n",
       "      <td>0</td>\n",
       "      <td>0</td>\n",
       "      <td>33</td>\n",
       "      <td>12</td>\n",
       "      <td>surf</td>\n",
       "      <td>NaT</td>\n",
       "      <td>50</td>\n",
       "      <td>15</td>\n",
       "      <td>500</td>\n",
       "      <td>20</td>\n",
       "      <td>10</td>\n",
       "      <td>0.03</td>\n",
       "      <td>0.03</td>\n",
       "      <td>surf</td>\n",
       "    </tr>\n",
       "    <tr>\n",
       "      <th>2271</th>\n",
       "      <td>1131</td>\n",
       "      <td>9</td>\n",
       "      <td>0</td>\n",
       "      <td>0</td>\n",
       "      <td>26</td>\n",
       "      <td>16</td>\n",
       "      <td>surf</td>\n",
       "      <td>NaT</td>\n",
       "      <td>50</td>\n",
       "      <td>15</td>\n",
       "      <td>500</td>\n",
       "      <td>20</td>\n",
       "      <td>10</td>\n",
       "      <td>0.03</td>\n",
       "      <td>0.03</td>\n",
       "      <td>surf</td>\n",
       "    </tr>\n",
       "    <tr>\n",
       "      <th>2292</th>\n",
       "      <td>1311</td>\n",
       "      <td>6</td>\n",
       "      <td>0</td>\n",
       "      <td>0</td>\n",
       "      <td>0</td>\n",
       "      <td>2</td>\n",
       "      <td>ultimate</td>\n",
       "      <td>NaT</td>\n",
       "      <td>1000</td>\n",
       "      <td>30</td>\n",
       "      <td>3000</td>\n",
       "      <td>70</td>\n",
       "      <td>7</td>\n",
       "      <td>0.01</td>\n",
       "      <td>0.01</td>\n",
       "      <td>ultimate</td>\n",
       "    </tr>\n",
       "  </tbody>\n",
       "</table>\n",
       "<p>2293 rows × 16 columns</p>\n",
       "</div>"
      ],
      "text/plain": [
       "      user_id  month  calls  duration  n_messages  megas      plan churn_date  \\\n",
       "1242     1267     12    205      1510         125     37      surf        NaT   \n",
       "1487     1329     12    191      1369          97     26  ultimate        NaT   \n",
       "1669     1365     12    180      1357          45      9      surf        NaT   \n",
       "1459     1324     11    171      1304         116     18      surf        NaT   \n",
       "1737     1382     12    170      1295          52     11  ultimate        NaT   \n",
       "...       ...    ...    ...       ...         ...    ...       ...        ...   \n",
       "2268     1131      6      0         0          27     15      surf        NaT   \n",
       "2269     1131      7      0         0          28     17      surf        NaT   \n",
       "2270     1131      8      0         0          33     12      surf        NaT   \n",
       "2271     1131      9      0         0          26     16      surf        NaT   \n",
       "2292     1311      6      0         0           0      2  ultimate        NaT   \n",
       "\n",
       "      messages_included  mb_per_month_included  minutes_included  \\\n",
       "1242                 50                     15               500   \n",
       "1487               1000                     30              3000   \n",
       "1669                 50                     15               500   \n",
       "1459                 50                     15               500   \n",
       "1737               1000                     30              3000   \n",
       "...                 ...                    ...               ...   \n",
       "2268                 50                     15               500   \n",
       "2269                 50                     15               500   \n",
       "2270                 50                     15               500   \n",
       "2271                 50                     15               500   \n",
       "2292               1000                     30              3000   \n",
       "\n",
       "      usd_monthly_pay  usd_per_gb  usd_per_message  usd_per_minute plan_name  \n",
       "1242               20          10             0.03            0.03      surf  \n",
       "1487               70           7             0.01            0.01  ultimate  \n",
       "1669               20          10             0.03            0.03      surf  \n",
       "1459               20          10             0.03            0.03      surf  \n",
       "1737               70           7             0.01            0.01  ultimate  \n",
       "...               ...         ...              ...             ...       ...  \n",
       "2268               20          10             0.03            0.03      surf  \n",
       "2269               20          10             0.03            0.03      surf  \n",
       "2270               20          10             0.03            0.03      surf  \n",
       "2271               20          10             0.03            0.03      surf  \n",
       "2292               70           7             0.01            0.01  ultimate  \n",
       "\n",
       "[2293 rows x 16 columns]"
      ]
     },
     "execution_count": 94,
     "metadata": {},
     "output_type": "execute_result"
    }
   ],
   "source": [
    "# Añade la información de la tarifa\n",
    "m_fusion = m_fusion.merge(m_users[[\"user_id\",\"plan\",\"churn_date\" ]], on=\"user_id\", how=\"left\" )\n",
    "m_fusion = m_fusion.merge(m_plans, how=\"left\", left_on=\"plan\", right_on=\"plan_name\")\n",
    "m_fusion.sort_values(by=\"duration\", ascending=False)"
   ]
  },
  {
   "cell_type": "markdown",
   "metadata": {},
   "source": [
    "Con estas columnas crearé el ingreso mensual para cada usuario. Lo realizare en 3 pasos."
   ]
  },
  {
   "cell_type": "markdown",
   "metadata": {},
   "source": [
    "Se crean tres columnas más donde se colocan los cargos por los minutos excedentes."
   ]
  },
  {
   "cell_type": "code",
   "execution_count": 95,
   "metadata": {
    "id": "5FGCf_c60q1I"
   },
   "outputs": [],
   "source": [
    "m_fusion[\"total_minutes_fee\"] =m_fusion[\"duration\"] - m_fusion[\"minutes_included\"] \n",
    "m_fusion[\"total_message_fee\"] = m_fusion[\"n_messages\"]- m_fusion[\"messages_included\"]\n",
    "m_fusion[\"total_megas_fee\"] = m_fusion[\"megas\"] - m_fusion[\"mb_per_month_included\"]\n",
    "\n",
    "list=[\"total_minutes_fee\" , \"total_message_fee\" ,\"total_megas_fee\"]\n",
    "\n",
    "def total_cost(dframes):\n",
    "    for df in dframes:\n",
    "        m_fusion[df] = m_fusion[df].apply(lambda x: 0 if x<0 else x)  #Si existen usuarios que no lo usaron igual se les cobrará la tarifa inicial\n",
    "\n",
    "total_cost(list)"
   ]
  },
  {
   "cell_type": "markdown",
   "metadata": {},
   "source": [
    "Se añaden las formulas para  el calculo final en la columna total_to pay"
   ]
  },
  {
   "cell_type": "code",
   "execution_count": 96,
   "metadata": {},
   "outputs": [],
   "source": [
    "m_fusion[\"total_minutes_fee\"] = m_fusion[\"total_minutes_fee\"]*m_fusion[\"usd_per_minute\"] \n",
    "m_fusion[\"total_message_fee\"] = m_fusion[\"total_message_fee\"]*m_fusion[\"usd_per_message\"] \n",
    "m_fusion[\"total_megas_fee\"] = m_fusion[\"total_megas_fee\"]*m_fusion[\"usd_per_gb\"] \n",
    "m_fusion[\"total_to_pay\"]= m_fusion[\"total_minutes_fee\"] + m_fusion[\"total_message_fee\"] + m_fusion[\"total_megas_fee\"] + m_fusion[\"usd_monthly_pay\"]"
   ]
  },
  {
   "cell_type": "markdown",
   "metadata": {},
   "source": [
    "Se transforma la columna de churn_date para poder completar el último cálculo"
   ]
  },
  {
   "cell_type": "code",
   "execution_count": 97,
   "metadata": {},
   "outputs": [],
   "source": [
    "m_fusion[\"churn_date\"] = m_fusion[\"churn_date\"].dt.month\n",
    "# m_fusion[\"total_to_pay\"] = np.where(m_fusion[\"month\"] <= m_fusion[\"churn_date\"], 0 , m_fusion[\"total_to_pay\"])\n",
    "# m_fusion[~m_fusion[\"churn_date\"].isna()]"
   ]
  },
  {
   "cell_type": "code",
   "execution_count": 98,
   "metadata": {},
   "outputs": [
    {
     "ename": "TypeError",
     "evalue": "Series.apply() missing 1 required positional argument: 'func'",
     "output_type": "error",
     "traceback": [
      "\u001b[1;31m---------------------------------------------------------------------------\u001b[0m",
      "\u001b[1;31mTypeError\u001b[0m                                 Traceback (most recent call last)",
      "Cell \u001b[1;32mIn[98], line 1\u001b[0m\n\u001b[1;32m----> 1\u001b[0m \u001b[43mm_fusion\u001b[49m\u001b[38;5;241;43m.\u001b[39;49m\u001b[43mquery\u001b[49m\u001b[43m(\u001b[49m\u001b[38;5;124;43m\"\u001b[39;49m\u001b[38;5;124;43mchurn_date.notnull() & churn_date < month\u001b[39;49m\u001b[38;5;124;43m\"\u001b[39;49m\u001b[43m)\u001b[49m\u001b[43m[\u001b[49m\u001b[38;5;124;43m\"\u001b[39;49m\u001b[38;5;124;43mtotal_to_pay\u001b[39;49m\u001b[38;5;124;43m\"\u001b[39;49m\u001b[43m]\u001b[49m\u001b[38;5;241;43m.\u001b[39;49m\u001b[43mapply\u001b[49m\u001b[43m(\u001b[49m\u001b[43m)\u001b[49m\n\u001b[0;32m      4\u001b[0m \u001b[38;5;66;03m# # m_fusion.query(\"churn_date.notnull() & churn_date < month\")[\"total_to_pay\"].replace(to_replace=m_fusion[\"total_to_pay\"], value=0, inplace=True)\u001b[39;00m\n\u001b[0;32m      5\u001b[0m \n\u001b[0;32m      6\u001b[0m \u001b[38;5;66;03m# m_fusion.loc[(m_fusion['churn_date'].notnull()) & (m_fusion['churn_date'] < m_fusion['month']), 'total_to_pay'] = 0\u001b[39;00m\n",
      "\u001b[1;31mTypeError\u001b[0m: Series.apply() missing 1 required positional argument: 'func'"
     ]
    }
   ],
   "source": [
    "m_fusion.query(\"churn_date.notnull() & churn_date < month\")[\"total_to_pay\"].apply()\n",
    "# # m_fusion.query(\"churn_date.notnull() & churn_date < month\")[\"total_to_pay\"].replace(to_replace=m_fusion[\"total_to_pay\"], value=0, inplace=True)\n",
    "# m_fusion.loc[(m_fusion['churn_date'].notnull()) & (m_fusion['churn_date'] < m_fusion['month']), 'total_to_pay'] = 0\n"
   ]
  },
  {
   "cell_type": "markdown",
   "metadata": {},
   "source": [
    "Dentro de este apartado pude notar una irregularidad, veo que existen usuarios, que generaron cargos y se supone que ya no tenían contrato, tomo uno como ejemplo y veo si consumio datos"
   ]
  },
  {
   "cell_type": "code",
   "execution_count": 101,
   "metadata": {},
   "outputs": [
    {
     "data": {
      "text/html": [
       "<div>\n",
       "<style scoped>\n",
       "    .dataframe tbody tr th:only-of-type {\n",
       "        vertical-align: middle;\n",
       "    }\n",
       "\n",
       "    .dataframe tbody tr th {\n",
       "        vertical-align: top;\n",
       "    }\n",
       "\n",
       "    .dataframe thead th {\n",
       "        text-align: right;\n",
       "    }\n",
       "</style>\n",
       "<table border=\"1\" class=\"dataframe\">\n",
       "  <thead>\n",
       "    <tr style=\"text-align: right;\">\n",
       "      <th></th>\n",
       "      <th>index</th>\n",
       "      <th>month</th>\n",
       "    </tr>\n",
       "  </thead>\n",
       "  <tbody>\n",
       "    <tr>\n",
       "      <th>0</th>\n",
       "      <td>0</td>\n",
       "      <td>12</td>\n",
       "    </tr>\n",
       "    <tr>\n",
       "      <th>1</th>\n",
       "      <td>1</td>\n",
       "      <td>12</td>\n",
       "    </tr>\n",
       "    <tr>\n",
       "      <th>2</th>\n",
       "      <td>2</td>\n",
       "      <td>12</td>\n",
       "    </tr>\n",
       "    <tr>\n",
       "      <th>3</th>\n",
       "      <td>3</td>\n",
       "      <td>12</td>\n",
       "    </tr>\n",
       "    <tr>\n",
       "      <th>4</th>\n",
       "      <td>4</td>\n",
       "      <td>12</td>\n",
       "    </tr>\n",
       "    <tr>\n",
       "      <th>...</th>\n",
       "      <td>...</td>\n",
       "      <td>...</td>\n",
       "    </tr>\n",
       "    <tr>\n",
       "      <th>137730</th>\n",
       "      <td>137730</td>\n",
       "      <td>11</td>\n",
       "    </tr>\n",
       "    <tr>\n",
       "      <th>137731</th>\n",
       "      <td>137731</td>\n",
       "      <td>10</td>\n",
       "    </tr>\n",
       "    <tr>\n",
       "      <th>137732</th>\n",
       "      <td>137732</td>\n",
       "      <td>9</td>\n",
       "    </tr>\n",
       "    <tr>\n",
       "      <th>137733</th>\n",
       "      <td>137733</td>\n",
       "      <td>10</td>\n",
       "    </tr>\n",
       "    <tr>\n",
       "      <th>137734</th>\n",
       "      <td>137734</td>\n",
       "      <td>12</td>\n",
       "    </tr>\n",
       "  </tbody>\n",
       "</table>\n",
       "<p>137735 rows × 2 columns</p>\n",
       "</div>"
      ],
      "text/plain": [
       "         index  month\n",
       "0            0     12\n",
       "1            1     12\n",
       "2            2     12\n",
       "3            3     12\n",
       "4            4     12\n",
       "...        ...    ...\n",
       "137730  137730     11\n",
       "137731  137731     10\n",
       "137732  137732      9\n",
       "137733  137733     10\n",
       "137734  137734     12\n",
       "\n",
       "[137735 rows x 2 columns]"
      ]
     },
     "execution_count": 101,
     "metadata": {},
     "output_type": "execute_result"
    }
   ],
   "source": [
    "m_calls[m_calls[\"user_id\"]==1012].sort_values(by=\"month\")\n",
    "\n",
    "verification_df = m_users[~m_users[\"churn_date\"].isna()]\n",
    "verification_df[verification_df[\"user_id\"]==1012]\n",
    "\n",
    "\n",
    "m_calls[\"month\"].reset_index()"
   ]
  },
  {
   "cell_type": "markdown",
   "metadata": {},
   "source": [
    "El usuario 1012 se salio a mediados de noviembre, pero según la base, genero cargos en diciembre. Hay algo mal aquí que no parece provenir de mi código. Por temas del proyecto, continuaré con la información recibida. Procedo a crear un nuevo dataframe con la información relevante para su análisis "
   ]
  },
  {
   "cell_type": "code",
   "execution_count": null,
   "metadata": {},
   "outputs": [
    {
     "data": {
      "text/html": [
       "<div>\n",
       "<style scoped>\n",
       "    .dataframe tbody tr th:only-of-type {\n",
       "        vertical-align: middle;\n",
       "    }\n",
       "\n",
       "    .dataframe tbody tr th {\n",
       "        vertical-align: top;\n",
       "    }\n",
       "\n",
       "    .dataframe thead th {\n",
       "        text-align: right;\n",
       "    }\n",
       "</style>\n",
       "<table border=\"1\" class=\"dataframe\">\n",
       "  <thead>\n",
       "    <tr style=\"text-align: right;\">\n",
       "      <th></th>\n",
       "      <th>user_id</th>\n",
       "      <th>calls</th>\n",
       "      <th>month</th>\n",
       "      <th>duration</th>\n",
       "      <th>n_messages</th>\n",
       "      <th>megas</th>\n",
       "      <th>plan_name</th>\n",
       "      <th>total_minutes_fee</th>\n",
       "      <th>total_message_fee</th>\n",
       "      <th>total_megas_fee</th>\n",
       "      <th>total_to_pay</th>\n",
       "    </tr>\n",
       "  </thead>\n",
       "  <tbody>\n",
       "    <tr>\n",
       "      <th>0</th>\n",
       "      <td>1000</td>\n",
       "      <td>16</td>\n",
       "      <td>12</td>\n",
       "      <td>124</td>\n",
       "      <td>11</td>\n",
       "      <td>2</td>\n",
       "      <td>ultimate</td>\n",
       "      <td>0.0</td>\n",
       "      <td>0.00</td>\n",
       "      <td>0</td>\n",
       "      <td>70.00</td>\n",
       "    </tr>\n",
       "    <tr>\n",
       "      <th>1</th>\n",
       "      <td>1001</td>\n",
       "      <td>27</td>\n",
       "      <td>8</td>\n",
       "      <td>182</td>\n",
       "      <td>30</td>\n",
       "      <td>7</td>\n",
       "      <td>surf</td>\n",
       "      <td>0.0</td>\n",
       "      <td>0.00</td>\n",
       "      <td>0</td>\n",
       "      <td>20.00</td>\n",
       "    </tr>\n",
       "    <tr>\n",
       "      <th>2</th>\n",
       "      <td>1001</td>\n",
       "      <td>49</td>\n",
       "      <td>9</td>\n",
       "      <td>315</td>\n",
       "      <td>44</td>\n",
       "      <td>14</td>\n",
       "      <td>surf</td>\n",
       "      <td>0.0</td>\n",
       "      <td>0.00</td>\n",
       "      <td>0</td>\n",
       "      <td>20.00</td>\n",
       "    </tr>\n",
       "    <tr>\n",
       "      <th>3</th>\n",
       "      <td>1001</td>\n",
       "      <td>65</td>\n",
       "      <td>10</td>\n",
       "      <td>393</td>\n",
       "      <td>53</td>\n",
       "      <td>22</td>\n",
       "      <td>surf</td>\n",
       "      <td>0.0</td>\n",
       "      <td>0.09</td>\n",
       "      <td>70</td>\n",
       "      <td>90.09</td>\n",
       "    </tr>\n",
       "    <tr>\n",
       "      <th>4</th>\n",
       "      <td>1001</td>\n",
       "      <td>64</td>\n",
       "      <td>11</td>\n",
       "      <td>426</td>\n",
       "      <td>36</td>\n",
       "      <td>19</td>\n",
       "      <td>surf</td>\n",
       "      <td>0.0</td>\n",
       "      <td>0.00</td>\n",
       "      <td>40</td>\n",
       "      <td>60.00</td>\n",
       "    </tr>\n",
       "    <tr>\n",
       "      <th>...</th>\n",
       "      <td>...</td>\n",
       "      <td>...</td>\n",
       "      <td>...</td>\n",
       "      <td>...</td>\n",
       "      <td>...</td>\n",
       "      <td>...</td>\n",
       "      <td>...</td>\n",
       "      <td>...</td>\n",
       "      <td>...</td>\n",
       "      <td>...</td>\n",
       "      <td>...</td>\n",
       "    </tr>\n",
       "    <tr>\n",
       "      <th>2288</th>\n",
       "      <td>1349</td>\n",
       "      <td>0</td>\n",
       "      <td>12</td>\n",
       "      <td>0</td>\n",
       "      <td>61</td>\n",
       "      <td>13</td>\n",
       "      <td>surf</td>\n",
       "      <td>0.0</td>\n",
       "      <td>0.33</td>\n",
       "      <td>0</td>\n",
       "      <td>20.33</td>\n",
       "    </tr>\n",
       "    <tr>\n",
       "      <th>2289</th>\n",
       "      <td>1361</td>\n",
       "      <td>0</td>\n",
       "      <td>5</td>\n",
       "      <td>0</td>\n",
       "      <td>2</td>\n",
       "      <td>2</td>\n",
       "      <td>surf</td>\n",
       "      <td>0.0</td>\n",
       "      <td>0.00</td>\n",
       "      <td>0</td>\n",
       "      <td>20.00</td>\n",
       "    </tr>\n",
       "    <tr>\n",
       "      <th>2290</th>\n",
       "      <td>1482</td>\n",
       "      <td>0</td>\n",
       "      <td>10</td>\n",
       "      <td>0</td>\n",
       "      <td>2</td>\n",
       "      <td>0</td>\n",
       "      <td>ultimate</td>\n",
       "      <td>0.0</td>\n",
       "      <td>0.00</td>\n",
       "      <td>0</td>\n",
       "      <td>70.00</td>\n",
       "    </tr>\n",
       "    <tr>\n",
       "      <th>2291</th>\n",
       "      <td>1108</td>\n",
       "      <td>0</td>\n",
       "      <td>12</td>\n",
       "      <td>0</td>\n",
       "      <td>0</td>\n",
       "      <td>1</td>\n",
       "      <td>ultimate</td>\n",
       "      <td>0.0</td>\n",
       "      <td>0.00</td>\n",
       "      <td>0</td>\n",
       "      <td>70.00</td>\n",
       "    </tr>\n",
       "    <tr>\n",
       "      <th>2292</th>\n",
       "      <td>1311</td>\n",
       "      <td>0</td>\n",
       "      <td>6</td>\n",
       "      <td>0</td>\n",
       "      <td>0</td>\n",
       "      <td>2</td>\n",
       "      <td>ultimate</td>\n",
       "      <td>0.0</td>\n",
       "      <td>0.00</td>\n",
       "      <td>0</td>\n",
       "      <td>70.00</td>\n",
       "    </tr>\n",
       "  </tbody>\n",
       "</table>\n",
       "<p>2293 rows × 11 columns</p>\n",
       "</div>"
      ],
      "text/plain": [
       "      user_id  calls  month  duration  n_messages  megas plan_name  \\\n",
       "0        1000     16     12       124          11      2  ultimate   \n",
       "1        1001     27      8       182          30      7      surf   \n",
       "2        1001     49      9       315          44     14      surf   \n",
       "3        1001     65     10       393          53     22      surf   \n",
       "4        1001     64     11       426          36     19      surf   \n",
       "...       ...    ...    ...       ...         ...    ...       ...   \n",
       "2288     1349      0     12         0          61     13      surf   \n",
       "2289     1361      0      5         0           2      2      surf   \n",
       "2290     1482      0     10         0           2      0  ultimate   \n",
       "2291     1108      0     12         0           0      1  ultimate   \n",
       "2292     1311      0      6         0           0      2  ultimate   \n",
       "\n",
       "      total_minutes_fee  total_message_fee  total_megas_fee  total_to_pay  \n",
       "0                   0.0               0.00                0         70.00  \n",
       "1                   0.0               0.00                0         20.00  \n",
       "2                   0.0               0.00                0         20.00  \n",
       "3                   0.0               0.09               70         90.09  \n",
       "4                   0.0               0.00               40         60.00  \n",
       "...                 ...                ...              ...           ...  \n",
       "2288                0.0               0.33                0         20.33  \n",
       "2289                0.0               0.00                0         20.00  \n",
       "2290                0.0               0.00                0         70.00  \n",
       "2291                0.0               0.00                0         70.00  \n",
       "2292                0.0               0.00                0         70.00  \n",
       "\n",
       "[2293 rows x 11 columns]"
      ]
     },
     "execution_count": 253,
     "metadata": {},
     "output_type": "execute_result"
    }
   ],
   "source": [
    "m_total_charges = m_fusion[['user_id', \"calls\" ,'month','duration', 'n_messages', 'megas',\n",
    "       'plan_name', 'total_minutes_fee', 'total_message_fee',\n",
    "       'total_megas_fee', 'total_to_pay']]\n",
    "m_total_charges\n"
   ]
  },
  {
   "cell_type": "markdown",
   "metadata": {
    "id": "-jtyHzJb0q1I"
   },
   "source": [
    "## Estudia el comportamiento de usuario"
   ]
  },
  {
   "cell_type": "markdown",
   "metadata": {
    "id": "AxU3Y0N70q1J"
   },
   "source": [
    "Ahora procederé a crear graficos que nos permitan entender un poco más el comportamiento de los usuarios para los paquetes Surface y Últimate"
   ]
  },
  {
   "cell_type": "markdown",
   "metadata": {
    "id": "vtW4CJEe0q1J"
   },
   "source": [
    "### Llamadas"
   ]
  },
  {
   "cell_type": "markdown",
   "metadata": {},
   "source": [
    "Compararemos la duración promedio de llamadas por cada plan y por cada mes\n"
   ]
  },
  {
   "cell_type": "code",
   "execution_count": null,
   "metadata": {},
   "outputs": [
    {
     "data": {
      "image/png": "[encoded data removed]",
      "text/plain": [
       "<Figure size 1500x500 with 1 Axes>"
      ]
     },
     "metadata": {},
     "output_type": "display_data"
    }
   ],
   "source": [
    "average_calls_pm = m_total_charges.pivot_table(index= \"month\", values=\"duration\", columns=\"plan_name\")\n",
    "average_calls_pm.plot(kind=\"bar\", figsize=[15,5], color=[\"lightblue\",\"#71D037\"], title= \"Duración promedio de llamadas por mes\", xlabel=\"Mes\", ylabel=\"Minutos\")\n",
    "plt.legend([\"Surf\",\"Ultimate\"])\n",
    "plt.show()"
   ]
  },
  {
   "cell_type": "markdown",
   "metadata": {},
   "source": [
    "En esta grafica podemos observar un incremento en la duración promedio de las llamadas de los usuarios para ambos planes, teniendo un comportamiento similar en consumo. El promedio mensual de consumo de minutos rebasa los 400 minutos sin llegar a los 500 minutos (limite de consumo para el paquete Surf)."
   ]
  },
  {
   "cell_type": "code",
   "execution_count": null,
   "metadata": {
    "id": "QoLqW1S_0q1J"
   },
   "outputs": [
    {
     "data": {
      "image/png": "[encoded data removed]",
      "text/plain": [
       "<Figure size 608.125x500 with 1 Axes>"
      ]
     },
     "metadata": {},
     "output_type": "display_data"
    },
    {
     "data": {
      "text/html": [
       "<div>\n",
       "<style scoped>\n",
       "    .dataframe tbody tr th:only-of-type {\n",
       "        vertical-align: middle;\n",
       "    }\n",
       "\n",
       "    .dataframe tbody tr th {\n",
       "        vertical-align: top;\n",
       "    }\n",
       "\n",
       "    .dataframe thead th {\n",
       "        text-align: right;\n",
       "    }\n",
       "</style>\n",
       "<table border=\"1\" class=\"dataframe\">\n",
       "  <thead>\n",
       "    <tr style=\"text-align: right;\">\n",
       "      <th></th>\n",
       "      <th>plan_name</th>\n",
       "      <th>user_id</th>\n",
       "    </tr>\n",
       "  </thead>\n",
       "  <tbody>\n",
       "    <tr>\n",
       "      <th>0</th>\n",
       "      <td>surf</td>\n",
       "      <td>1573</td>\n",
       "    </tr>\n",
       "    <tr>\n",
       "      <th>1</th>\n",
       "      <td>ultimate</td>\n",
       "      <td>720</td>\n",
       "    </tr>\n",
       "  </tbody>\n",
       "</table>\n",
       "</div>"
      ],
      "text/plain": [
       "  plan_name  user_id\n",
       "0      surf     1573\n",
       "1  ultimate      720"
      ]
     },
     "execution_count": 290,
     "metadata": {},
     "output_type": "execute_result"
    }
   ],
   "source": [
    "# m_total_charges.hist(column=\"duration\", by=\"plan_name\", sharey=True, sharex=True)\n",
    "sns.displot(data=m_total_charges, x=\"duration\", hue=\"plan_name\" , palette={\"surf\": \"lightblue\", \"ultimate\": \"#71D037\"})\n",
    "plt.title(\"Distribución de duración de llamada\")\n",
    "plt.xlabel(\"Minutos\")\n",
    "plt.ylabel(\"Conteo\")\n",
    "plt.show()\n",
    "m_total_charges.groupby(\"plan_name\",observed=False)[\"user_id\"].count().reset_index()"
   ]
  },
  {
   "cell_type": "markdown",
   "metadata": {},
   "source": [
    "En cuanto a la distribución podemos ver una similitud entre los planes, sin embargo, es notorio que el consumo del plan surf es mucho mayor, esto se debe los usuarios que contrataron este plan superan el número de usuarios únicos del plan últimate (en un 54.22%)\n",
    "\n",
    "Es importante mencionar que dentro de los consumos mensuales podemos ver dos picos muy significantes, uno en los primeros 20 minutos de consumo y otro dentro del rango de 400 a 420 minutos de consumo\n",
    "\n",
    "Mientras que podemos ver que una parte de usuarios del plan **Surf** rebasa el límite que cubre su tarifa (500 minutos) , los usuarios del plan **Ultimate** quedan muy por debajo de los 3,000 minutos al mes que pueden consumir."
   ]
  },
  {
   "cell_type": "code",
   "execution_count": null,
   "metadata": {
    "id": "oSndbAnt0q1K"
   },
   "outputs": [
    {
     "name": "stdout",
     "output_type": "stream",
     "text": [
      "promedio=428.7495232040687 , varianza= 54968.27946065038  , variacion_std= 234.4531498202794, max= 1510, min= 0\n",
      "promedio=430.45 , varianza= 57844.46481223922  , variacion_std= 240.50876244378128, max= 1369, min= 0\n"
     ]
    }
   ],
   "source": [
    "#bases de cada plan\n",
    "surf_user_per_month = m_total_charges[m_total_charges[\"plan_name\"]==\"surf\"]\n",
    "ultimate_user_per_month = m_total_charges[m_total_charges[\"plan_name\"]==\"ultimate\"]\n",
    "\n",
    "# Calcula la media y la varianza de la duración mensual de llamadas.\n",
    "def estadisticos (df, column_name):\n",
    "    mean = np.mean(df[column_name])\n",
    "    var = np.var(df[column_name],ddof=1)\n",
    "    std= np.std(df[column_name],ddof=1)\n",
    "    max= df[column_name].max()\n",
    "    min= df[column_name].min()\n",
    "\n",
    "    print(f\"promedio={mean} , varianza= {var}  , variacion_std= {std}, max= {max}, min= {min}\", end=\"\\n\")\n",
    "\n",
    "estadisticos(surf_user_per_month, \"duration\")\n",
    "estadisticos(ultimate_user_per_month,\"duration\")\n"
   ]
  },
  {
   "cell_type": "markdown",
   "metadata": {},
   "source": [
    "Tenemos los siguientes datos:\n",
    "\n",
    "- El promedio de duracíon de llamadas por mes para el plan de surf fue de 428.8 minutos, mientras que para el plan últimate fue de 430.45\n",
    "- La varianza del plan surf fue de 54,968, frente a los 57,844 del plan últimate\n",
    "- La variacion standard del plan surf fue de 234.3 frente a los 240.5 del plan últimate"
   ]
  },
  {
   "cell_type": "code",
   "execution_count": null,
   "metadata": {
    "id": "nZzoRUKc0q1K"
   },
   "outputs": [
    {
     "data": {
      "image/png": "[encoded data removed]",
      "text/plain": [
       "<Figure size 640x480 with 1 Axes>"
      ]
     },
     "metadata": {},
     "output_type": "display_data"
    }
   ],
   "source": [
    "# Boxplot por plan por mes\n",
    "# box_df= m_total_charges.pivot_table(index=\"month\",values=\"duration\",columns=\"plan_name\", aggfunc=\"mean\")\n",
    "# sns.boxplot(box_df, legend=[\"surf\",\"ultimate\"] )\n",
    "\n",
    "# # Boxplot por plan\n",
    "sns.boxplot(m_total_charges, y=\"duration\", hue=\"plan_name\"  ,palette={\"surf\": \"lightblue\", \"ultimate\": \"#71D037\"})\n",
    "plt.title(\"Comparación de distribuciones de llamadas\")\n",
    "plt.show()\n"
   ]
  },
  {
   "cell_type": "markdown",
   "metadata": {
    "id": "r627zBO50q1K"
   },
   "source": [
    "Tal como lo habiamos observado, en el histograma, existen valores atípicos para ambos gráficos, a su vez podemos observar que su media y sus quartiles son muy similares entre ambos paquetes.\n",
    "\n",
    "En conclusion parece que los comportamientos son muy similares y presentan una difrencia poco significativa. Sin embargo el plan Surf podría no estar satisfaciendo las necesidades de la mayoría de los usuarios."
   ]
  },
  {
   "cell_type": "markdown",
   "metadata": {
    "id": "8idKy8Wh0q1L"
   },
   "source": [
    "### Mensajes"
   ]
  },
  {
   "cell_type": "markdown",
   "metadata": {},
   "source": [
    "Ahora compararemos el número de mensajes que tienden a enviar cada mes los usuarios de cada plan."
   ]
  },
  {
   "cell_type": "code",
   "execution_count": null,
   "metadata": {
    "id": "NXLxiTit0q1L"
   },
   "outputs": [
    {
     "data": {
      "image/png": "[encoded data removed]",
      "text/plain": [
       "<Figure size 1500x500 with 1 Axes>"
      ]
     },
     "metadata": {},
     "output_type": "display_data"
    }
   ],
   "source": [
    "average_message_pm = m_total_charges.pivot_table(index=\"month\",values=\"n_messages\",columns=\"plan_name\")\n",
    "average_message_pm.plot(kind=\"bar\", figsize=[15,5], color=[\"lightblue\",\"#71D037\"], title= \"Mensajes promedio por mes\", xlabel=\"Mes\", ylabel=\"Mensajes\")\n",
    "plt.show()"
   ]
  },
  {
   "cell_type": "markdown",
   "metadata": {},
   "source": [
    "En el siguiente gráfico podemos ver un incremento en el número de mensajes enviados mes con mes para cada plan, sin embargo ningúno de los dos grupos sobrepasa los 50 sms(límite para el plan Surf). Podemos ver una tendencia que muestra que los usuarios últimate tienen a enviar mas mensajes en promedio que los usuarios dueños del plan surf."
   ]
  },
  {
   "cell_type": "code",
   "execution_count": null,
   "metadata": {},
   "outputs": [
    {
     "data": {
      "image/png": "[encoded data removed]",
      "text/plain": [
       "<Figure size 608.125x500 with 1 Axes>"
      ]
     },
     "metadata": {},
     "output_type": "display_data"
    }
   ],
   "source": [
    "sns.displot(data=m_total_charges, x=\"n_messages\", hue=\"plan_name\" , palette={\"surf\": \"lightblue\", \"ultimate\": \"#71D037\"})\n",
    "plt.title(\"Distribución de mensajes\")\n",
    "plt.xlabel(\"Numero de mensajes\")\n",
    "plt.ylabel(\"Conteo\")\n",
    "plt.show()\n",
    "\n",
    "\n",
    "# m_total_charges.hist(column=\"n_messages\" ,by=\"plan_name\", bins=10)\n",
    "# plt.xticks([0,50,100,150])\n",
    "# plt.show()"
   ]
  },
  {
   "cell_type": "markdown",
   "metadata": {},
   "source": [
    "De la misma manera que el hisograma anterior, las distribuciones son similares entre los planes. Aquí podemos observar una distribución asimétrica positiva, en el que el rango de 0 a 50 concentra la mayoría de los resultados.\n",
    "\n",
    "También podemos ver un comoportamiento similar a las llamadas, un porcentaje representativo de los usuarios del plan surf tienen a enviar más mensajes que los establecidos en su tarifa inicial (50 sms)"
   ]
  },
  {
   "cell_type": "code",
   "execution_count": null,
   "metadata": {},
   "outputs": [
    {
     "name": "stdout",
     "output_type": "stream",
     "text": [
      "promedio=31.15956770502225 , varianza= 1126.7245219504066  , variacion_std= 33.566717473569064, max= 266, min= 0\n",
      "promedio=37.55138888888889 , varianza= 1208.756743548138  , variacion_std= 34.76717911404574, max= 166, min= 0\n"
     ]
    }
   ],
   "source": [
    "#Calculando Varianza, Mediana y Desviación Estandard\n",
    "estadisticos(surf_user_per_month, \"n_messages\")\n",
    "estadisticos(ultimate_user_per_month,\"n_messages\")"
   ]
  },
  {
   "cell_type": "markdown",
   "metadata": {},
   "source": [
    "Podemos notar una diferencia poco significativa para los valores promedio, varianza y variación std en los datos"
   ]
  },
  {
   "cell_type": "code",
   "execution_count": null,
   "metadata": {},
   "outputs": [
    {
     "data": {
      "image/png": "[encoded data removed]",
      "text/plain": [
       "<Figure size 640x480 with 1 Axes>"
      ]
     },
     "metadata": {},
     "output_type": "display_data"
    }
   ],
   "source": [
    "# Boxplot por plan por mes\n",
    "# sns.boxplot(average_message_pm, legend=[\"surf\",\"ultimate\"] )\n",
    "\n",
    "# Boxplot por plan\n",
    "sns.boxplot(m_total_charges, y=\"n_messages\", hue=\"plan_name\"  ,palette={\"surf\": \"lightblue\", \"ultimate\": \"#71D037\"})\n",
    "plt.title(\"Comparación de distribuciones de mensajes\")\n",
    "plt.show()"
   ]
  },
  {
   "cell_type": "markdown",
   "metadata": {},
   "source": [
    "El siguiente boxplot nos muestra que a pesar de la similitud de los planes, el paquete surf presenta una gran cantidad de valores atípicos que superan los 100 mensajes, mientras que para el paquete últimate los valores se encuentran por encima de los 120 mensajes\n",
    "\n",
    "Esta gráfica refuerza el histograma anterior, una parte representativa de usuarios del plan surf, tiende a enviar más de 50 mensajes, lo cúal causará un aumento en su tarifa inicial"
   ]
  },
  {
   "cell_type": "markdown",
   "metadata": {},
   "source": [
    "### Internet"
   ]
  },
  {
   "cell_type": "code",
   "execution_count": null,
   "metadata": {
    "id": "GRI_R7xF0q1L"
   },
   "outputs": [
    {
     "data": {
      "image/png": "[encoded data removed]",
      "text/plain": [
       "<Figure size 1500x500 with 1 Axes>"
      ]
     },
     "metadata": {},
     "output_type": "display_data"
    }
   ],
   "source": [
    "# Compara la cantidad de tráfico de Internet consumido por usuarios por plan\n",
    "average_megas_pm =  m_total_charges.pivot_table(index=\"month\",columns=\"plan_name\",values=\"megas\")\n",
    "average_megas_pm.plot(kind=\"bar\", figsize=[15,5], color=[\"lightblue\",\"#71D037\"], title= \"Internet consumido por mes\", xlabel=\"Mes\", ylabel=\"Megas\")\n",
    "plt.legend([\"Surf\", \"Ultimate\"])\n",
    "plt.show()"
   ]
  },
  {
   "cell_type": "markdown",
   "metadata": {},
   "source": [
    "El consumo de internet de los usuarios para ambos planes es muy parecido, sin embargo, a partir del segundo semestre los usuarios del plan Surf empiezan a reflejar un consumo promedio mayor al que contrataron (15 Megas). "
   ]
  },
  {
   "cell_type": "code",
   "execution_count": null,
   "metadata": {},
   "outputs": [
    {
     "data": {
      "image/png": "[encoded data removed]",
      "text/plain": [
       "<Figure size 608.125x500 with 1 Axes>"
      ]
     },
     "metadata": {},
     "output_type": "display_data"
    }
   ],
   "source": [
    "sns.displot(data=m_total_charges, x=\"megas\", hue=\"plan_name\", palette={\"surf\": \"lightblue\", \"ultimate\": \"#71D037\"})\n",
    "plt.title(\"Comparación de distribuciones de Internet\")\n",
    "plt.xlabel(\"Gigas\")\n",
    "plt.ylabel(\"Conteo\")\n",
    "plt.show()"
   ]
  },
  {
   "cell_type": "markdown",
   "metadata": {},
   "source": [
    "La distribución resulta muy similar en ambos casos, podemos observar valores atipicos para ambos planes.\n",
    "\n",
    "Para el plan de surf nos encontramos con un límite de 15gb de datos los cuales se superan facilmente en es histograma. Para el caso de el Plan Últimate, al presentar un plan de 30gb de datos, son pocos los usuarios que podemos ver superando este límite."
   ]
  },
  {
   "cell_type": "code",
   "execution_count": null,
   "metadata": {},
   "outputs": [
    {
     "name": "stdout",
     "output_type": "stream",
     "text": [
      "promedio=16.670692943420217 , varianza= 61.58359983759012  , variacion_std= 7.847521891501171, max= 70, min= 0\n",
      "promedio=17.306944444444444 , varianza= 58.830549760469786  , variacion_std= 7.670107545560869, max= 46, min= 0\n"
     ]
    }
   ],
   "source": [
    "#Calculando Varianza, Mediana y Desviación Estandard\n",
    "estadisticos(surf_user_per_month, \"megas\")\n",
    "estadisticos(ultimate_user_per_month,\"megas\")"
   ]
  },
  {
   "cell_type": "code",
   "execution_count": null,
   "metadata": {},
   "outputs": [
    {
     "data": {
      "image/png": "[encoded data removed]",
      "text/plain": [
       "<Figure size 640x480 with 1 Axes>"
      ]
     },
     "metadata": {},
     "output_type": "display_data"
    }
   ],
   "source": [
    "sns.boxplot(data=m_total_charges, y=\"megas\",hue=\"plan_name\", palette={\"surf\": \"lightblue\", \"ultimate\": \"#71D037\"})\n",
    "plt.title(\"Comparación de distribuciones de Internet\")\n",
    "plt.show()"
   ]
  },
  {
   "cell_type": "markdown",
   "metadata": {},
   "source": [
    "Para motivos de un mejor detalle detallare cada plan por separado:\n",
    "\n",
    "- Para el plan Surf: Podemos observar un gran número de valores muy atípicos para este paquete, excediendo los 15 megas y llegando incluso a los 70 para algunos casos. \n",
    "\n",
    "- Para el plan Últimate: Podemos observar valores atípicos que llegan hasta los 46 megas.\n",
    "\n",
    "Es importante revaluar si el plan adquirido cumple con sus necesidades, de lo contrario se podría iniciar un porcentaje de abandono. Analizar a la competencia y los paquetes que ofrecen al mercado nos ayudará a establecer los límites correctos del plan."
   ]
  },
  {
   "cell_type": "markdown",
   "metadata": {
    "id": "tCijq3260q1N"
   },
   "source": [
    "## Ingreso"
   ]
  },
  {
   "cell_type": "code",
   "execution_count": null,
   "metadata": {
    "id": "tz-dq_V00q1O"
   },
   "outputs": [
    {
     "data": {
      "image/png": "[encoded data removed]",
      "text/plain": [
       "<Figure size 1000x500 with 1 Axes>"
      ]
     },
     "metadata": {},
     "output_type": "display_data"
    }
   ],
   "source": [
    "income_per_user_pm= m_total_charges.pivot_table(values=\"total_to_pay\", columns=\"plan_name\", index=\"month\")\n",
    "\n",
    "income_per_user_pm.plot(kind=\"bar\", figsize=[10,5], color=[\"lightblue\",\"#71D037\"], title= \"Ingreso por mes\", xlabel=\"Mes\", ylabel=\"Ingreso\" )\n",
    "plt.yticks(range(0, int(income_per_user_pm[\"ultimate\"].max()) + 1, 20))  # Reemplaza max_y_value con el valor máximo de tu eje y\n",
    "plt.show()\n"
   ]
  },
  {
   "cell_type": "markdown",
   "metadata": {},
   "source": [
    "A pesar de tener la mitad de usuarios que el plan Surf, el plan últimate generó una mayor derrama economica para la companía. Se puede observar una tendencia continua desde el primer mes hasta el último del periodo 2018. \n",
    "\n",
    "Por otra parte, se observa un incremento constante en los ingresos del plan surf, llegando así, a tener una diferencia poco significativa en ingresos para el periodo de diciembre\n"
   ]
  },
  {
   "cell_type": "code",
   "execution_count": null,
   "metadata": {
    "id": "0Y1v8ZUz0q1P"
   },
   "outputs": [
    {
     "data": {
      "image/png": "[encoded data removed]",
      "text/plain": [
       "<Figure size 608.125x500 with 1 Axes>"
      ]
     },
     "metadata": {},
     "output_type": "display_data"
    }
   ],
   "source": [
    "sns.displot(data=m_total_charges, hue=\"plan_name\" , x=\"total_to_pay\", palette={\"surf\": \"lightblue\", \"ultimate\": \"#71D037\"})\n",
    "plt.title(\"Comparación de distribuciones de Ingresos\")\n",
    "plt.xlabel(\"Ingresos\")\n",
    "plt.ylabel(\"Conteo\")\n",
    "plt.show()"
   ]
  },
  {
   "cell_type": "markdown",
   "metadata": {},
   "source": [
    "El grafico mostrado anteriormente nos muestra que los valores para el plan últimate se encuentran concentrados en su mayoría en el valor $70 (valor del pago mensual de datos). Se pueden observar pocos valores atipicos para ese plan, los cúales consumen un poco más de la tarifa (pagando una comisión mayor).\n",
    "\n",
    "Para el plan Surf, podemos observar una distribución un poco diferente, si bien la mayoría de sus datos se encuentran en el pago mensual de $20 (valor del plan), es notorio que otra parte de ellos no logran satisfacer su consumo por lo cúal adquieren más datos y terminan recibiendo una tarifa mayor."
   ]
  },
  {
   "cell_type": "code",
   "execution_count": null,
   "metadata": {
    "id": "bYmwxyVh0q1P"
   },
   "outputs": [
    {
     "name": "stdout",
     "output_type": "stream",
     "text": [
      "promedio=57.828690400508584 , varianza= 3150.1514906502703  , variacion_std= 56.12621037136099, max= 590.37, min= 0.0\n",
      "promedio=68.39583333333333 , varianza= 404.8931675938804  , variacion_std= 20.12195734996674, max= 182.0, min= 0.0\n"
     ]
    }
   ],
   "source": [
    "#Calculando Varianza, Mediana y Desviación Estandard\n",
    "estadisticos(surf_user_per_month, \"total_to_pay\")\n",
    "estadisticos(ultimate_user_per_month,\"total_to_pay\")"
   ]
  },
  {
   "cell_type": "code",
   "execution_count": null,
   "metadata": {},
   "outputs": [
    {
     "ename": "NameError",
     "evalue": "name 'm_total_charges' is not defined",
     "output_type": "error",
     "traceback": [
      "\u001b[1;31m---------------------------------------------------------------------------\u001b[0m",
      "\u001b[1;31mNameError\u001b[0m                                 Traceback (most recent call last)",
      "\u001b[1;32md:\\Ejercicios\\Python_Tripleten\\TripleTen\\Projects\\Project3\\sprint4_test.ipynb Cell 145\u001b[0m line \u001b[0;36m1\n\u001b[1;32m----> <a href='vscode-notebook-cell:/d%3A/Ejercicios/Python_Tripleten/TripleTen/Projects/Project3/sprint4_test.ipynb#Y263sZmlsZQ%3D%3D?line=0'>1</a>\u001b[0m sns\u001b[39m.\u001b[39mboxplot(data\u001b[39m=\u001b[39mm_total_charges, hue\u001b[39m=\u001b[39m\u001b[39m\"\u001b[39m\u001b[39mplan_name\u001b[39m\u001b[39m\"\u001b[39m , y\u001b[39m=\u001b[39m\u001b[39m\"\u001b[39m\u001b[39mtotal_to_pay\u001b[39m\u001b[39m\"\u001b[39m, palette\u001b[39m=\u001b[39m{\u001b[39m\"\u001b[39m\u001b[39msurf\u001b[39m\u001b[39m\"\u001b[39m: \u001b[39m\"\u001b[39m\u001b[39mlightblue\u001b[39m\u001b[39m\"\u001b[39m, \u001b[39m\"\u001b[39m\u001b[39multimate\u001b[39m\u001b[39m\"\u001b[39m: \u001b[39m\"\u001b[39m\u001b[39m#71D037\u001b[39m\u001b[39m\"\u001b[39m} )\n\u001b[0;32m      <a href='vscode-notebook-cell:/d%3A/Ejercicios/Python_Tripleten/TripleTen/Projects/Project3/sprint4_test.ipynb#Y263sZmlsZQ%3D%3D?line=1'>2</a>\u001b[0m plt\u001b[39m.\u001b[39mtitle(\u001b[39m\"\u001b[39m\u001b[39mComparación de distribuciones de Internet\u001b[39m\u001b[39m\"\u001b[39m)\n\u001b[0;32m      <a href='vscode-notebook-cell:/d%3A/Ejercicios/Python_Tripleten/TripleTen/Projects/Project3/sprint4_test.ipynb#Y263sZmlsZQ%3D%3D?line=2'>3</a>\u001b[0m plt\u001b[39m.\u001b[39mshow()\n",
      "\u001b[1;31mNameError\u001b[0m: name 'm_total_charges' is not defined"
     ]
    }
   ],
   "source": [
    "sns.boxplot(data=m_total_charges, hue=\"plan_name\" , y=\"total_to_pay\", palette={\"surf\": \"lightblue\", \"ultimate\": \"#71D037\"} )\n",
    "plt.title(\"Comparación de distribuciones de Internet\")\n",
    "plt.show()"
   ]
  },
  {
   "cell_type": "markdown",
   "metadata": {
    "id": "KAFidcXZ0q1P"
   },
   "source": [
    "Tal como lo muestra el histograma, la concentracion de valores para el plan últimate se concentra en el valor 70, así como el valor 20 para el plan surf, sin embargo los valores atípicos para el valor surf son demasiados, debe analizarse detalladamente si la cobertura de este plan es funcional para los usuarios."
   ]
  },
  {
   "cell_type": "markdown",
   "metadata": {
    "id": "ajJ7VKeI0q1Q"
   },
   "source": [
    "## Prueba las hipótesis estadísticas"
   ]
  },
  {
   "cell_type": "markdown",
   "metadata": {},
   "source": [
    "Primera Hipotesis\n",
    "\n",
    "- Hipotesis Nula: Los ingresos promedio procedentes de los usuarios son iguales para los planes Ultimate y Surf\n",
    "- Hipotesis Alernativa : Los ingresos promedio procedentes de los usuarios son diferentes para los planes Ultimate y Surf"
   ]
  },
  {
   "cell_type": "code",
   "execution_count": null,
   "metadata": {
    "id": "nFoPNlPq0q1R"
   },
   "outputs": [
    {
     "ename": "NameError",
     "evalue": "name 'm_total_charges' is not defined",
     "output_type": "error",
     "traceback": [
      "\u001b[1;31m---------------------------------------------------------------------------\u001b[0m",
      "\u001b[1;31mNameError\u001b[0m                                 Traceback (most recent call last)",
      "\u001b[1;32md:\\Ejercicios\\Python_Tripleten\\TripleTen\\Projects\\Project3\\sprint4_test.ipynb Cell 149\u001b[0m line \u001b[0;36m1\n\u001b[0;32m      <a href='vscode-notebook-cell:/d%3A/Ejercicios/Python_Tripleten/TripleTen/Projects/Project3/sprint4_test.ipynb#Y300sZmlsZQ%3D%3D?line=0'>1</a>\u001b[0m \u001b[39m# - Hipotesis Nula: Los ingresos promedio procedentes de los usuarios son iguales para los planes Ultimate y Surf\u001b[39;00m\n\u001b[0;32m      <a href='vscode-notebook-cell:/d%3A/Ejercicios/Python_Tripleten/TripleTen/Projects/Project3/sprint4_test.ipynb#Y300sZmlsZQ%3D%3D?line=1'>2</a>\u001b[0m \u001b[39m# - Hipotesis Alernativa : Los ingresos promedio procedentes de los usuarios son diferentes para los planes Ultimate y Surf\u001b[39;00m\n\u001b[0;32m      <a href='vscode-notebook-cell:/d%3A/Ejercicios/Python_Tripleten/TripleTen/Projects/Project3/sprint4_test.ipynb#Y300sZmlsZQ%3D%3D?line=2'>3</a>\u001b[0m \n\u001b[1;32m   (...)\u001b[0m\n\u001b[0;32m     <a href='vscode-notebook-cell:/d%3A/Ejercicios/Python_Tripleten/TripleTen/Projects/Project3/sprint4_test.ipynb#Y300sZmlsZQ%3D%3D?line=12'>13</a>\u001b[0m \u001b[39m# else: \u001b[39;00m\n\u001b[0;32m     <a href='vscode-notebook-cell:/d%3A/Ejercicios/Python_Tripleten/TripleTen/Projects/Project3/sprint4_test.ipynb#Y300sZmlsZQ%3D%3D?line=13'>14</a>\u001b[0m \u001b[39m#     print(\"No se puede rechazar la teoría\")\u001b[39;00m\n\u001b[1;32m---> <a href='vscode-notebook-cell:/d%3A/Ejercicios/Python_Tripleten/TripleTen/Projects/Project3/sprint4_test.ipynb#Y300sZmlsZQ%3D%3D?line=17'>18</a>\u001b[0m m_total_charges\n\u001b[0;32m     <a href='vscode-notebook-cell:/d%3A/Ejercicios/Python_Tripleten/TripleTen/Projects/Project3/sprint4_test.ipynb#Y300sZmlsZQ%3D%3D?line=18'>19</a>\u001b[0m \u001b[39m# .pivot_table(index=\"user_id\", columns=\"plan_name\", values=\"total_to_pay\")\u001b[39;00m\n",
      "\u001b[1;31mNameError\u001b[0m: name 'm_total_charges' is not defined"
     ]
    }
   ],
   "source": [
    "# - Hipotesis Nula: Los ingresos promedio procedentes de los usuarios son iguales para los planes Ultimate y Surf\n",
    "# - Hipotesis Alernativa : Los ingresos promedio procedentes de los usuarios son diferentes para los planes Ultimate y Surf\n",
    "\n",
    "# alpha= 0.5\n",
    "# a= income_per_user_pm[\"surf\"]\n",
    "# b= income_per_user_pm[\"ultimate\"]\n",
    "\n",
    "# results = st.ttest_ind(a,b, equal_var=False)\n",
    "# print(\"valor p :\", results)\n",
    "\n",
    "# if results.pvalue < alpha:\n",
    "#     print(\"Se rechaza la hipotesis\")\n",
    "# else: \n",
    "#     print(\"No se puede rechazar la teoría\")\n",
    "\n",
    "\n",
    "\n",
    "m_total_charges\n",
    "# .pivot_table(index=\"user_id\", columns=\"plan_name\", values=\"total_to_pay\")"
   ]
  },
  {
   "cell_type": "markdown",
   "metadata": {},
   "source": [
    "Como podemos observar en el codigo del bloque anterior, la hipotesis es rechazada ya que el p-value se encuentra por debajo de nuestro umbral de aceptación, por lo que es probable que **los ingresos promedio procedentes de los usuarios son diferentes para los planes Ultimate y Surf**"
   ]
  },
  {
   "cell_type": "markdown",
   "metadata": {
    "id": "tCcAruM60q1R"
   },
   "source": [
    "Segunda Hipotesis\n",
    "\n",
    "- Hipotesis Nula: El ingreso promedio de los usuarios del área NY-NJ es igual al de los usuarios de otras regiones\n",
    "- Hipotesis Alernativa : El ingreso promedio de los usuarios del área NY-NJ es diferente al de los usuarios de otras regiones"
   ]
  },
  {
   "cell_type": "markdown",
   "metadata": {},
   "source": [
    "Creamos una base incluyendo las ciudades\n"
   ]
  },
  {
   "cell_type": "code",
   "execution_count": null,
   "metadata": {},
   "outputs": [
    {
     "data": {
      "text/html": [
       "<div>\n",
       "<style scoped>\n",
       "    .dataframe tbody tr th:only-of-type {\n",
       "        vertical-align: middle;\n",
       "    }\n",
       "\n",
       "    .dataframe tbody tr th {\n",
       "        vertical-align: top;\n",
       "    }\n",
       "\n",
       "    .dataframe thead th {\n",
       "        text-align: right;\n",
       "    }\n",
       "</style>\n",
       "<table border=\"1\" class=\"dataframe\">\n",
       "  <thead>\n",
       "    <tr style=\"text-align: right;\">\n",
       "      <th></th>\n",
       "      <th>user_id</th>\n",
       "      <th>city</th>\n",
       "      <th>calls</th>\n",
       "      <th>month</th>\n",
       "      <th>duration</th>\n",
       "      <th>n_messages</th>\n",
       "      <th>megas</th>\n",
       "      <th>plan_name</th>\n",
       "      <th>total_minutes_fee</th>\n",
       "      <th>total_message_fee</th>\n",
       "      <th>total_megas_fee</th>\n",
       "      <th>total_to_pay</th>\n",
       "    </tr>\n",
       "  </thead>\n",
       "  <tbody>\n",
       "    <tr>\n",
       "      <th>711</th>\n",
       "      <td>1154</td>\n",
       "      <td>Nashville-Davidson–Murfreesboro–Franklin, TN MSA</td>\n",
       "      <td>40</td>\n",
       "      <td>11</td>\n",
       "      <td>289</td>\n",
       "      <td>68</td>\n",
       "      <td>18</td>\n",
       "      <td>ultimate</td>\n",
       "      <td>0.00</td>\n",
       "      <td>0.00</td>\n",
       "      <td>0</td>\n",
       "      <td>70.00</td>\n",
       "    </tr>\n",
       "    <tr>\n",
       "      <th>1778</th>\n",
       "      <td>1390</td>\n",
       "      <td>Chicago-Naperville-Elgin, IL-IN-WI MSA</td>\n",
       "      <td>80</td>\n",
       "      <td>8</td>\n",
       "      <td>504</td>\n",
       "      <td>0</td>\n",
       "      <td>17</td>\n",
       "      <td>ultimate</td>\n",
       "      <td>0.00</td>\n",
       "      <td>0.00</td>\n",
       "      <td>0</td>\n",
       "      <td>70.00</td>\n",
       "    </tr>\n",
       "    <tr>\n",
       "      <th>827</th>\n",
       "      <td>1176</td>\n",
       "      <td>New York-Newark-Jersey City, NY-NJ-PA MSA</td>\n",
       "      <td>68</td>\n",
       "      <td>12</td>\n",
       "      <td>432</td>\n",
       "      <td>76</td>\n",
       "      <td>26</td>\n",
       "      <td>surf</td>\n",
       "      <td>0.00</td>\n",
       "      <td>0.78</td>\n",
       "      <td>110</td>\n",
       "      <td>130.78</td>\n",
       "    </tr>\n",
       "    <tr>\n",
       "      <th>1657</th>\n",
       "      <td>1363</td>\n",
       "      <td>Seattle-Tacoma-Bellevue, WA MSA</td>\n",
       "      <td>40</td>\n",
       "      <td>12</td>\n",
       "      <td>262</td>\n",
       "      <td>42</td>\n",
       "      <td>18</td>\n",
       "      <td>ultimate</td>\n",
       "      <td>0.00</td>\n",
       "      <td>0.00</td>\n",
       "      <td>0</td>\n",
       "      <td>70.00</td>\n",
       "    </tr>\n",
       "    <tr>\n",
       "      <th>1378</th>\n",
       "      <td>1305</td>\n",
       "      <td>Los Angeles-Long Beach-Anaheim, CA MSA</td>\n",
       "      <td>62</td>\n",
       "      <td>8</td>\n",
       "      <td>521</td>\n",
       "      <td>4</td>\n",
       "      <td>14</td>\n",
       "      <td>surf</td>\n",
       "      <td>0.63</td>\n",
       "      <td>0.00</td>\n",
       "      <td>0</td>\n",
       "      <td>20.63</td>\n",
       "    </tr>\n",
       "    <tr>\n",
       "      <th>1490</th>\n",
       "      <td>1331</td>\n",
       "      <td>Dallas-Fort Worth-Arlington, TX MSA</td>\n",
       "      <td>53</td>\n",
       "      <td>8</td>\n",
       "      <td>401</td>\n",
       "      <td>88</td>\n",
       "      <td>17</td>\n",
       "      <td>surf</td>\n",
       "      <td>0.00</td>\n",
       "      <td>1.14</td>\n",
       "      <td>20</td>\n",
       "      <td>41.14</td>\n",
       "    </tr>\n",
       "    <tr>\n",
       "      <th>326</th>\n",
       "      <td>1071</td>\n",
       "      <td>New York-Newark-Jersey City, NY-NJ-PA MSA</td>\n",
       "      <td>61</td>\n",
       "      <td>6</td>\n",
       "      <td>358</td>\n",
       "      <td>0</td>\n",
       "      <td>13</td>\n",
       "      <td>surf</td>\n",
       "      <td>0.00</td>\n",
       "      <td>0.00</td>\n",
       "      <td>0</td>\n",
       "      <td>20.00</td>\n",
       "    </tr>\n",
       "    <tr>\n",
       "      <th>2092</th>\n",
       "      <td>1461</td>\n",
       "      <td>Pittsburgh, PA MSA</td>\n",
       "      <td>39</td>\n",
       "      <td>11</td>\n",
       "      <td>308</td>\n",
       "      <td>0</td>\n",
       "      <td>13</td>\n",
       "      <td>surf</td>\n",
       "      <td>0.00</td>\n",
       "      <td>0.00</td>\n",
       "      <td>0</td>\n",
       "      <td>20.00</td>\n",
       "    </tr>\n",
       "    <tr>\n",
       "      <th>1991</th>\n",
       "      <td>1435</td>\n",
       "      <td>Washington-Arlington-Alexandria, DC-VA-MD-WV MSA</td>\n",
       "      <td>40</td>\n",
       "      <td>12</td>\n",
       "      <td>331</td>\n",
       "      <td>150</td>\n",
       "      <td>26</td>\n",
       "      <td>ultimate</td>\n",
       "      <td>0.00</td>\n",
       "      <td>0.00</td>\n",
       "      <td>0</td>\n",
       "      <td>70.00</td>\n",
       "    </tr>\n",
       "    <tr>\n",
       "      <th>1907</th>\n",
       "      <td>1414</td>\n",
       "      <td>Urban Honolulu, HI MSA</td>\n",
       "      <td>67</td>\n",
       "      <td>10</td>\n",
       "      <td>546</td>\n",
       "      <td>70</td>\n",
       "      <td>25</td>\n",
       "      <td>surf</td>\n",
       "      <td>1.38</td>\n",
       "      <td>0.60</td>\n",
       "      <td>100</td>\n",
       "      <td>121.98</td>\n",
       "    </tr>\n",
       "  </tbody>\n",
       "</table>\n",
       "</div>"
      ],
      "text/plain": [
       "      user_id                                              city  calls  month  \\\n",
       "711      1154  Nashville-Davidson–Murfreesboro–Franklin, TN MSA     40     11   \n",
       "1778     1390            Chicago-Naperville-Elgin, IL-IN-WI MSA     80      8   \n",
       "827      1176         New York-Newark-Jersey City, NY-NJ-PA MSA     68     12   \n",
       "1657     1363                   Seattle-Tacoma-Bellevue, WA MSA     40     12   \n",
       "1378     1305            Los Angeles-Long Beach-Anaheim, CA MSA     62      8   \n",
       "1490     1331               Dallas-Fort Worth-Arlington, TX MSA     53      8   \n",
       "326      1071         New York-Newark-Jersey City, NY-NJ-PA MSA     61      6   \n",
       "2092     1461                                Pittsburgh, PA MSA     39     11   \n",
       "1991     1435  Washington-Arlington-Alexandria, DC-VA-MD-WV MSA     40     12   \n",
       "1907     1414                            Urban Honolulu, HI MSA     67     10   \n",
       "\n",
       "      duration  n_messages  megas plan_name  total_minutes_fee  \\\n",
       "711        289          68     18  ultimate               0.00   \n",
       "1778       504           0     17  ultimate               0.00   \n",
       "827        432          76     26      surf               0.00   \n",
       "1657       262          42     18  ultimate               0.00   \n",
       "1378       521           4     14      surf               0.63   \n",
       "1490       401          88     17      surf               0.00   \n",
       "326        358           0     13      surf               0.00   \n",
       "2092       308           0     13      surf               0.00   \n",
       "1991       331         150     26  ultimate               0.00   \n",
       "1907       546          70     25      surf               1.38   \n",
       "\n",
       "      total_message_fee  total_megas_fee  total_to_pay  \n",
       "711                0.00                0         70.00  \n",
       "1778               0.00                0         70.00  \n",
       "827                0.78              110        130.78  \n",
       "1657               0.00                0         70.00  \n",
       "1378               0.00                0         20.63  \n",
       "1490               1.14               20         41.14  \n",
       "326                0.00                0         20.00  \n",
       "2092               0.00                0         20.00  \n",
       "1991               0.00                0         70.00  \n",
       "1907               0.60              100        121.98  "
      ]
     },
     "execution_count": 323,
     "metadata": {},
     "output_type": "execute_result"
    }
   ],
   "source": [
    "city_users_df = m_users[[\"user_id\",\"city\"]].merge(m_total_charges,how=\"right\", on=\"user_id\")\n",
    "city_users_df.sample(10)"
   ]
  },
  {
   "cell_type": "markdown",
   "metadata": {},
   "source": [
    "Asignamos una conjunto para la ciudad de ny-nj y otro para las demas ciudades\n"
   ]
  },
  {
   "cell_type": "code",
   "execution_count": null,
   "metadata": {},
   "outputs": [],
   "source": [
    "ny_nj_df = city_users_df[city_users_df[\"city\"].str.contains(\"NY-NJ\")]\n",
    "rest_cities_df = city_users_df[~city_users_df[\"city\"].str.contains(\"NY-NJ\")]"
   ]
  },
  {
   "cell_type": "code",
   "execution_count": null,
   "metadata": {},
   "outputs": [
    {
     "name": "stdout",
     "output_type": "stream",
     "text": [
      "[0.08300072]\n",
      "No se puede rechazar la teoría\n"
     ]
    }
   ],
   "source": [
    "# Evaluamos la hipotesis\n",
    "\n",
    "alpha = .05\n",
    "a = rest_cities_df.pivot_table(index=\"month\",  values=\"total_to_pay\") #promedio por mes de ingresos mensuales para otras ciudades por plan\n",
    "b = ny_nj_df.pivot_table(index=\"month\",  values=\"total_to_pay\") #promedio por mes de ingresos mensuales para ny_nj por plan\n",
    "\n",
    "results= st.ttest_ind(a,b,equal_var=False)\n",
    "print(results.pvalue)\n",
    "\n",
    "\n",
    "def final_result(pvalue):\n",
    "    if pvalue < alpha:\n",
    "        print(\"Se rechaza la hipotesis\")\n",
    "    else: \n",
    "        print(\"No se puede rechazar la teoría\")\n",
    "\n",
    "final_result(results.pvalue)\n"
   ]
  },
  {
   "cell_type": "markdown",
   "metadata": {},
   "source": [
    "Tomando en cuenta un umbral del 5% (alpha), no podemos rechazar la hipotesis nula que dice que **El ingreso promedio de los usuarios del área NY-NJ es igual al de la suma de los usuarios de otras regiones**\n",
    "\n",
    "Parece ser que NY-NJ Trae una gran derrama economica para este producto"
   ]
  },
  {
   "cell_type": "markdown",
   "metadata": {},
   "source": [
    "Hipotesis extras\n",
    "- Hipotesis Nula: El ingreso promedio de los usuarios del área NY-NJ para cada plan es igual al de los usuarios de otras regiones\n",
    "- Hipotesis Alernativa : El ingreso promedio de los usuarios del área NY-NJ para cada plan es diferente al de los usuarios de otras regiones"
   ]
  },
  {
   "cell_type": "code",
   "execution_count": null,
   "metadata": {},
   "outputs": [
    {
     "ename": "NameError",
     "evalue": "name 'm_total_charges' is not defined",
     "output_type": "error",
     "traceback": [
      "\u001b[1;31m---------------------------------------------------------------------------\u001b[0m",
      "\u001b[1;31mNameError\u001b[0m                                 Traceback (most recent call last)",
      "Cell \u001b[1;32mIn[5], line 11\u001b[0m\n\u001b[0;32m      1\u001b[0m \u001b[38;5;66;03m# a = rest_cities_df.pivot_table(index=\"month\", columns=\"plan_name\", values=\"total_to_pay\") #promedio por mes de ingresos mensuales para otras ciudades por plan\u001b[39;00m\n\u001b[0;32m      2\u001b[0m \u001b[38;5;66;03m# b = ny_nj_df.pivot_table(index=\"month\", columns=\"plan_name\", values=\"total_to_pay\") #promedio por mes de ingresos mensuales para ny_nj por plan\u001b[39;00m\n\u001b[0;32m      3\u001b[0m \n\u001b[1;32m   (...)\u001b[0m\n\u001b[0;32m      8\u001b[0m \u001b[38;5;66;03m# ultimate_other = b[\"ultimate\"].dropna()\u001b[39;00m\n\u001b[0;32m      9\u001b[0m \u001b[38;5;66;03m# alpha = .01\u001b[39;00m\n\u001b[1;32m---> 11\u001b[0m \u001b[43mm_total_charges\u001b[49m\n",
      "\u001b[1;31mNameError\u001b[0m: name 'm_total_charges' is not defined"
     ]
    }
   ],
   "source": [
    "# a = rest_cities_df.pivot_table(index=\"month\", columns=\"plan_name\", values=\"total_to_pay\") #promedio por mes de ingresos mensuales para otras ciudades por plan\n",
    "# b = ny_nj_df.pivot_table(index=\"month\", columns=\"plan_name\", values=\"total_to_pay\") #promedio por mes de ingresos mensuales para ny_nj por plan\n",
    "\n",
    "# surf_nj = a[\"surf\"]\n",
    "# ultimate_nj = a[\"ultimate\"]\n",
    "\n",
    "# surf_other = b[\"surf\"]\n",
    "# ultimate_other = b[\"ultimate\"].dropna()\n",
    "# alpha = .01\n",
    "\n",
    "m_total_charges"
   ]
  },
  {
   "cell_type": "code",
   "execution_count": null,
   "metadata": {},
   "outputs": [
    {
     "name": "stdout",
     "output_type": "stream",
     "text": [
      "pvalue para hipotesis Surf 0.6156742923629447, pvalue para hipotesis Ultimate 0.00018659304139481987\n",
      "No se puede rechazar la teoría\n",
      "Se rechaza la hipotesis\n"
     ]
    }
   ],
   "source": [
    "result_surf = st.ttest_ind(surf_nj,surf_other, equal_var=False)\n",
    "result_ultimate = st.ttest_ind(ultimate_nj,ultimate_other, equal_var=False)\n",
    "print(f\"pvalue para hipotesis Surf {result_surf.pvalue}, pvalue para hipotesis Ultimate {result_ultimate.pvalue}\")\n",
    "\n",
    "final_result(result_surf.pvalue)\n",
    "final_result(result_ultimate.pvalue)"
   ]
  },
  {
   "cell_type": "markdown",
   "metadata": {},
   "source": [
    "Tomando en cuenta un umbral del 1% (alpha) podemos mencionar que:\n",
    "\n",
    "- No podemos rechazar la hipotesis nula que dice que **El ingreso promedio de los usuarios del área NY-NJ  (para el plan surf) es igual al de los usuarios de otras regiones**\n",
    "- Se rechaza la hipotesis nula que dice que **El ingreso promedio de los usuarios del área NY-NJ (para el plan últimate) es igual al de los usuarios de otras regiones**\n"
   ]
  },
  {
   "cell_type": "markdown",
   "metadata": {
    "id": "bbTR8UQO0q1T"
   },
   "source": [
    "## Conclusión general\n",
    "\n",
    "- Es importante revaluar si el plan **Surf** cumple con las necesidades del cliente, los gráficos muestran una tendencia a rebasar los limites de la cobertura del plan en mensajes, internet, llamadas y duración, esta tendencia pude llevar a iniciar un porcentaje de abandono o en el mejor de los causos un cambio de plan. Esuchar a los usuarios, analizar a la competencia y los paquetes que ofrecen al mercado nos ayudará a establecer los límites correctos.\n",
    "\n",
    "- Considerar que existen usuarios que a pesar de su terminación de contrato, continuaron generando costos, valdría la pena preguntar al equipo encargado cuál pudo ser el problema (una mala captura de su salida, o posibles errores en el sistema)."
   ]
  }
 ],
 "metadata": {
  "ExecuteTimeLog": [
   {
    "duration": 828,
    "start_time": "2021-11-16T09:21:11.304Z"
   },
   {
    "duration": 893,
    "start_time": "2021-11-16T09:21:17.728Z"
   },
   {
    "duration": 1150,
    "start_time": "2021-11-16T09:21:29.568Z"
   },
   {
    "duration": 3,
    "start_time": "2021-11-16T09:24:14.495Z"
   },
   {
    "duration": 120,
    "start_time": "2021-11-16T09:24:46.630Z"
   },
   {
    "duration": 3,
    "start_time": "2021-11-16T09:28:27.882Z"
   },
   {
    "duration": 4,
    "start_time": "2021-11-16T09:29:54.281Z"
   },
   {
    "duration": 3,
    "start_time": "2021-11-16T09:30:45.936Z"
   },
   {
    "duration": 4,
    "start_time": "2021-11-16T09:31:06.300Z"
   },
   {
    "duration": 113,
    "start_time": "2021-11-16T09:31:37.208Z"
   },
   {
    "duration": 143,
    "start_time": "2021-11-16T09:31:48.656Z"
   },
   {
    "duration": 98,
    "start_time": "2021-11-16T09:31:55.678Z"
   },
   {
    "duration": 3,
    "start_time": "2021-11-16T09:32:08.535Z"
   },
   {
    "duration": 111,
    "start_time": "2021-11-16T09:32:10.120Z"
   },
   {
    "duration": 3,
    "start_time": "2021-11-16T09:32:15.732Z"
   },
   {
    "duration": 4,
    "start_time": "2021-11-16T09:32:29.423Z"
   },
   {
    "duration": 3,
    "start_time": "2021-11-16T10:03:03.074Z"
   },
   {
    "duration": 3,
    "start_time": "2021-11-16T10:10:01.288Z"
   },
   {
    "duration": 3,
    "start_time": "2021-11-16T10:10:46.923Z"
   },
   {
    "duration": 121,
    "start_time": "2021-11-16T10:37:46.494Z"
   },
   {
    "duration": 125,
    "start_time": "2021-11-16T10:38:20.632Z"
   },
   {
    "duration": 112,
    "start_time": "2021-11-16T10:46:53.001Z"
   },
   {
    "duration": 110,
    "start_time": "2021-11-16T10:48:25.775Z"
   },
   {
    "duration": 3,
    "start_time": "2021-11-16T10:50:18.720Z"
   },
   {
    "duration": 4,
    "start_time": "2021-11-16T10:50:37.649Z"
   },
   {
    "duration": 2,
    "start_time": "2021-11-16T10:50:51.884Z"
   },
   {
    "duration": 3,
    "start_time": "2021-11-16T10:51:56.237Z"
   },
   {
    "duration": 101,
    "start_time": "2021-11-16T10:53:13.791Z"
   },
   {
    "duration": 3,
    "start_time": "2021-11-16T10:55:59.186Z"
   },
   {
    "duration": 3,
    "start_time": "2021-11-16T10:56:10.751Z"
   },
   {
    "duration": 3,
    "start_time": "2021-11-16T10:56:49.038Z"
   },
   {
    "duration": 3,
    "start_time": "2021-11-16T10:56:49.174Z"
   },
   {
    "duration": 4,
    "start_time": "2021-11-16T10:56:49.414Z"
   },
   {
    "duration": 3,
    "start_time": "2021-11-16T10:56:49.680Z"
   },
   {
    "duration": 3,
    "start_time": "2021-11-16T10:56:50.370Z"
   },
   {
    "duration": 114,
    "start_time": "2021-11-16T10:59:34.518Z"
   },
   {
    "duration": 3,
    "start_time": "2021-11-16T11:01:41.201Z"
   },
   {
    "duration": 116,
    "start_time": "2021-11-16T11:01:48.754Z"
   },
   {
    "duration": 3,
    "start_time": "2021-11-16T11:02:16.685Z"
   },
   {
    "duration": 3,
    "start_time": "2021-11-16T11:02:19.479Z"
   },
   {
    "duration": 3,
    "start_time": "2021-11-16T11:02:47.067Z"
   },
   {
    "duration": 3,
    "start_time": "2021-11-16T11:02:49.353Z"
   },
   {
    "duration": 3,
    "start_time": "2021-11-16T11:03:07.835Z"
   },
   {
    "duration": 3,
    "start_time": "2021-11-16T11:03:07.953Z"
   },
   {
    "duration": 112,
    "start_time": "2021-11-16T11:07:52.072Z"
   },
   {
    "duration": 187,
    "start_time": "2021-11-16T11:09:23.468Z"
   },
   {
    "duration": 4,
    "start_time": "2021-11-16T11:10:01.455Z"
   },
   {
    "duration": 3,
    "start_time": "2021-11-16T11:10:05.069Z"
   },
   {
    "duration": 4,
    "start_time": "2021-11-16T11:10:13.376Z"
   },
   {
    "duration": 3,
    "start_time": "2021-11-16T11:10:14.434Z"
   },
   {
    "duration": 3,
    "start_time": "2021-11-16T11:10:22.853Z"
   },
   {
    "duration": 4,
    "start_time": "2021-11-16T11:27:29.279Z"
   },
   {
    "duration": 4,
    "start_time": "2021-11-16T11:29:08.919Z"
   },
   {
    "duration": 118,
    "start_time": "2021-11-16T11:29:46.703Z"
   },
   {
    "duration": 437,
    "start_time": "2021-11-16T11:36:02.181Z"
   },
   {
    "duration": 157,
    "start_time": "2021-11-16T11:36:14.388Z"
   },
   {
    "duration": 207,
    "start_time": "2021-11-16T11:47:15.898Z"
   },
   {
    "duration": 3,
    "start_time": "2021-11-16T11:53:52.092Z"
   },
   {
    "duration": 3,
    "start_time": "2021-11-16T11:53:52.236Z"
   },
   {
    "duration": 3,
    "start_time": "2021-11-16T11:59:12.005Z"
   },
   {
    "duration": 112,
    "start_time": "2021-11-16T12:00:33.446Z"
   },
   {
    "duration": 3,
    "start_time": "2021-11-16T12:02:14.453Z"
   },
   {
    "duration": 3,
    "start_time": "2021-11-16T12:02:39.512Z"
   },
   {
    "duration": 106,
    "start_time": "2021-11-16T12:03:03.460Z"
   },
   {
    "duration": 3,
    "start_time": "2021-11-17T20:37:21.139Z"
   },
   {
    "duration": 3,
    "start_time": "2021-11-17T20:37:22.229Z"
   },
   {
    "duration": 3,
    "start_time": "2021-11-17T20:38:38.806Z"
   },
   {
    "duration": 3,
    "start_time": "2021-11-17T20:38:41.958Z"
   },
   {
    "duration": 3,
    "start_time": "2021-11-17T20:43:46.551Z"
   },
   {
    "duration": 4,
    "start_time": "2021-11-17T20:58:21.835Z"
   },
   {
    "duration": 3,
    "start_time": "2021-11-17T20:59:21.872Z"
   },
   {
    "duration": 4,
    "start_time": "2021-11-17T20:59:45.352Z"
   },
   {
    "duration": 4,
    "start_time": "2021-11-17T20:59:49.646Z"
   },
   {
    "duration": 159,
    "start_time": "2021-11-17T21:02:26.949Z"
   },
   {
    "duration": 3,
    "start_time": "2021-11-17T21:03:53.461Z"
   },
   {
    "duration": 3,
    "start_time": "2021-11-17T21:03:53.694Z"
   },
   {
    "duration": 3,
    "start_time": "2021-11-17T21:05:28.145Z"
   },
   {
    "duration": 116,
    "start_time": "2021-11-17T21:05:57.787Z"
   },
   {
    "duration": 3,
    "start_time": "2021-11-17T21:06:37.993Z"
   },
   {
    "duration": 3,
    "start_time": "2021-11-17T21:06:38.261Z"
   },
   {
    "duration": 3,
    "start_time": "2021-11-17T21:11:54.358Z"
   },
   {
    "duration": 3,
    "start_time": "2021-11-17T21:12:43.846Z"
   },
   {
    "duration": 4,
    "start_time": "2021-11-17T21:13:08.773Z"
   },
   {
    "duration": 3,
    "start_time": "2021-11-17T21:14:44.441Z"
   },
   {
    "duration": 3,
    "start_time": "2021-11-17T21:15:42.059Z"
   },
   {
    "duration": 4,
    "start_time": "2021-11-17T21:15:51.995Z"
   },
   {
    "duration": 3,
    "start_time": "2021-11-17T21:15:53.923Z"
   },
   {
    "duration": 3,
    "start_time": "2021-11-17T21:15:55.282Z"
   },
   {
    "duration": 3,
    "start_time": "2021-11-17T21:16:28.492Z"
   },
   {
    "duration": 3,
    "start_time": "2021-11-17T21:16:32.603Z"
   },
   {
    "duration": 3,
    "start_time": "2021-11-17T21:17:06.941Z"
   },
   {
    "duration": 98,
    "start_time": "2021-11-17T21:18:05.733Z"
   },
   {
    "duration": 4,
    "start_time": "2021-11-17T21:21:35.255Z"
   },
   {
    "duration": 3,
    "start_time": "2021-11-17T21:21:37.804Z"
   },
   {
    "duration": 4,
    "start_time": "2021-11-17T21:23:06.071Z"
   },
   {
    "duration": 3,
    "start_time": "2021-11-17T21:23:24.799Z"
   },
   {
    "duration": 3,
    "start_time": "2021-11-17T21:23:32.591Z"
   },
   {
    "duration": 98,
    "start_time": "2021-11-17T21:28:31.559Z"
   },
   {
    "duration": 3,
    "start_time": "2021-11-17T21:28:45.448Z"
   },
   {
    "duration": 3,
    "start_time": "2021-11-17T21:29:17.303Z"
   },
   {
    "duration": 3,
    "start_time": "2021-11-17T21:29:29.617Z"
   },
   {
    "duration": 3,
    "start_time": "2021-11-17T21:29:32.681Z"
   },
   {
    "duration": 3,
    "start_time": "2021-11-17T21:36:11.474Z"
   },
   {
    "duration": 3,
    "start_time": "2021-11-17T21:36:14.791Z"
   },
   {
    "duration": 3,
    "start_time": "2021-11-17T21:36:53.943Z"
   },
   {
    "duration": 3,
    "start_time": "2021-11-17T21:36:56.165Z"
   },
   {
    "duration": 4,
    "start_time": "2021-11-17T21:37:16.590Z"
   },
   {
    "duration": 3,
    "start_time": "2021-11-17T21:37:22.702Z"
   },
   {
    "duration": 4,
    "start_time": "2021-11-17T21:38:03.479Z"
   },
   {
    "duration": 3,
    "start_time": "2021-11-17T21:38:08.601Z"
   },
   {
    "duration": 3,
    "start_time": "2021-11-17T21:38:12.928Z"
   },
   {
    "duration": 3,
    "start_time": "2021-11-17T21:38:48.896Z"
   },
   {
    "duration": 2,
    "start_time": "2021-11-17T21:38:49.171Z"
   },
   {
    "duration": 4,
    "start_time": "2021-11-17T21:39:57.889Z"
   },
   {
    "duration": 3,
    "start_time": "2021-11-17T21:39:58.057Z"
   },
   {
    "duration": 3,
    "start_time": "2021-11-17T21:41:20.108Z"
   },
   {
    "duration": 3,
    "start_time": "2021-11-17T21:41:20.629Z"
   },
   {
    "duration": 3,
    "start_time": "2021-11-17T21:42:49.136Z"
   },
   {
    "duration": 3,
    "start_time": "2021-11-17T21:43:15.137Z"
   },
   {
    "duration": 4,
    "start_time": "2021-11-17T21:43:16.766Z"
   },
   {
    "duration": 4,
    "start_time": "2021-11-17T21:43:31.711Z"
   },
   {
    "duration": 3,
    "start_time": "2021-11-17T21:43:36.312Z"
   },
   {
    "duration": 4,
    "start_time": "2021-11-17T21:45:08.825Z"
   },
   {
    "duration": 4,
    "start_time": "2021-11-17T21:45:10.119Z"
   },
   {
    "duration": 4,
    "start_time": "2021-11-17T21:45:13.748Z"
   },
   {
    "duration": 3,
    "start_time": "2021-11-17T21:45:22.219Z"
   },
   {
    "duration": 3,
    "start_time": "2021-11-17T21:45:33.412Z"
   },
   {
    "duration": 2,
    "start_time": "2021-11-17T21:46:01.885Z"
   },
   {
    "duration": 3,
    "start_time": "2021-11-17T21:46:03.628Z"
   },
   {
    "duration": 107,
    "start_time": "2021-11-17T21:47:32.512Z"
   },
   {
    "duration": 103,
    "start_time": "2021-11-17T21:50:36.243Z"
   },
   {
    "duration": 3,
    "start_time": "2021-11-18T06:28:31.440Z"
   },
   {
    "duration": 3,
    "start_time": "2021-11-18T06:29:00.168Z"
   },
   {
    "duration": 3,
    "start_time": "2021-11-18T06:31:27.008Z"
   },
   {
    "duration": 2,
    "start_time": "2021-11-18T06:35:34.288Z"
   },
   {
    "duration": 2,
    "start_time": "2021-11-18T06:38:04.527Z"
   }
  ],
  "colab": {
   "provenance": []
  },
  "kernelspec": {
   "display_name": "Python 3 (ipykernel)",
   "language": "python",
   "name": "python3"
  },
  "language_info": {
   "codemirror_mode": {
    "name": "ipython",
    "version": 3
   },
   "file_extension": ".py",
   "mimetype": "text/x-python",
   "name": "python",
   "nbconvert_exporter": "python",
   "pygments_lexer": "ipython3",
   "version": "3.12.0"
  },
  "toc": {
   "base_numbering": 1,
   "nav_menu": {},
   "number_sections": true,
   "sideBar": true,
   "skip_h1_title": false,
   "title_cell": "Table of Contents",
   "title_sidebar": "Contents",
   "toc_cell": false,
   "toc_position": {},
   "toc_section_display": true,
   "toc_window_display": true
  }
 },
 "nbformat": 4,
 "nbformat_minor": 1
}
